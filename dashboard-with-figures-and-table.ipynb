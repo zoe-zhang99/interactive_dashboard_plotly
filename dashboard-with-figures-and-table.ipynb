{
  "nbformat": 4,
  "nbformat_minor": 0,
  "metadata": {
    "colab": {
      "name": "“CAB_dashboard_082022.ipynb”的副本",
      "provenance": [],
      "collapsed_sections": [
        "Vsi9Q1FxZ5sO",
        "otXIzJAkZxYN",
        "q33KOm6Oi9X3",
        "JeW3JGeYjC7V",
        "sZ2vbadI3l28",
        "mfrGxYMi4CCm",
        "anvQGzLjtcQH",
        "JIYnFBh4mf7h",
        "Q9RxivbIkSx4"
      ],
      "authorship_tag": "ABX9TyOmm/IwlF04ChYrRS9KkMaZ",
      "include_colab_link": true
    },
    "kernelspec": {
      "name": "python3",
      "display_name": "Python 3"
    },
    "language_info": {
      "name": "python"
    }
  },
  "cells": [
    {
      "cell_type": "markdown",
      "metadata": {
        "id": "view-in-github",
        "colab_type": "text"
      },
      "source": [
        "<a href=\"https://colab.research.google.com/github/zoe-zhang99/interactive_dashboard_plotly/blob/main/dashboard-with-figures-and-table.ipynb\" target=\"_parent\"><img src=\"https://colab.research.google.com/assets/colab-badge.svg\" alt=\"Open In Colab\"/></a>"
      ]
    },
    {
      "cell_type": "markdown",
      "source": [
        "Due to data confidientiality, I cannot provide the data source or show any figure here. This is only to show how the code was written."
      ],
      "metadata": {
        "id": "YATLAgheiVAK"
      }
    },
    {
      "cell_type": "markdown",
      "source": [
        "# Package install and import"
      ],
      "metadata": {
        "id": "Vsi9Q1FxZ5sO"
      }
    },
    {
      "cell_type": "code",
      "source": [
        "!pip install pingouin"
      ],
      "metadata": {
        "id": "mwqvOTqK5If5",
        "colab": {
          "base_uri": "https://localhost:8080/"
        },
        "outputId": "da0ebbb6-cc46-4e6b-8639-bb9d6e5e57ff"
      },
      "execution_count": null,
      "outputs": [
        {
          "output_type": "stream",
          "name": "stdout",
          "text": [
            "Looking in indexes: https://pypi.org/simple, https://us-python.pkg.dev/colab-wheels/public/simple/\n",
            "Requirement already satisfied: pingouin in /usr/local/lib/python3.7/dist-packages (0.5.2)\n",
            "Requirement already satisfied: pandas-flavor>=0.2.0 in /usr/local/lib/python3.7/dist-packages (from pingouin) (0.2.0)\n",
            "Requirement already satisfied: scipy>=1.7 in /usr/local/lib/python3.7/dist-packages (from pingouin) (1.7.3)\n",
            "Requirement already satisfied: scikit-learn<1.1.0 in /usr/local/lib/python3.7/dist-packages (from pingouin) (1.0.2)\n",
            "Requirement already satisfied: pandas>=1.0 in /usr/local/lib/python3.7/dist-packages (from pingouin) (1.3.5)\n",
            "Requirement already satisfied: statsmodels>=0.13 in /usr/local/lib/python3.7/dist-packages (from pingouin) (0.13.2)\n",
            "Requirement already satisfied: matplotlib>=3.0.2 in /usr/local/lib/python3.7/dist-packages (from pingouin) (3.2.2)\n",
            "Requirement already satisfied: outdated in /usr/local/lib/python3.7/dist-packages (from pingouin) (0.2.1)\n",
            "Requirement already satisfied: numpy>=1.19 in /usr/local/lib/python3.7/dist-packages (from pingouin) (1.21.6)\n",
            "Requirement already satisfied: seaborn>=0.11 in /usr/local/lib/python3.7/dist-packages (from pingouin) (0.11.2)\n",
            "Requirement already satisfied: tabulate in /usr/local/lib/python3.7/dist-packages (from pingouin) (0.8.10)\n",
            "Requirement already satisfied: pyparsing!=2.0.4,!=2.1.2,!=2.1.6,>=2.0.1 in /usr/local/lib/python3.7/dist-packages (from matplotlib>=3.0.2->pingouin) (3.0.9)\n",
            "Requirement already satisfied: cycler>=0.10 in /usr/local/lib/python3.7/dist-packages (from matplotlib>=3.0.2->pingouin) (0.11.0)\n",
            "Requirement already satisfied: kiwisolver>=1.0.1 in /usr/local/lib/python3.7/dist-packages (from matplotlib>=3.0.2->pingouin) (1.4.4)\n",
            "Requirement already satisfied: python-dateutil>=2.1 in /usr/local/lib/python3.7/dist-packages (from matplotlib>=3.0.2->pingouin) (2.8.2)\n",
            "Requirement already satisfied: typing-extensions in /usr/local/lib/python3.7/dist-packages (from kiwisolver>=1.0.1->matplotlib>=3.0.2->pingouin) (4.1.1)\n",
            "Requirement already satisfied: pytz>=2017.3 in /usr/local/lib/python3.7/dist-packages (from pandas>=1.0->pingouin) (2022.2.1)\n",
            "Requirement already satisfied: xarray in /usr/local/lib/python3.7/dist-packages (from pandas-flavor>=0.2.0->pingouin) (0.20.2)\n",
            "Requirement already satisfied: six>=1.5 in /usr/local/lib/python3.7/dist-packages (from python-dateutil>=2.1->matplotlib>=3.0.2->pingouin) (1.15.0)\n",
            "Requirement already satisfied: threadpoolctl>=2.0.0 in /usr/local/lib/python3.7/dist-packages (from scikit-learn<1.1.0->pingouin) (3.1.0)\n",
            "Requirement already satisfied: joblib>=0.11 in /usr/local/lib/python3.7/dist-packages (from scikit-learn<1.1.0->pingouin) (1.1.0)\n",
            "Requirement already satisfied: packaging>=21.3 in /usr/local/lib/python3.7/dist-packages (from statsmodels>=0.13->pingouin) (21.3)\n",
            "Requirement already satisfied: patsy>=0.5.2 in /usr/local/lib/python3.7/dist-packages (from statsmodels>=0.13->pingouin) (0.5.2)\n",
            "Requirement already satisfied: requests in /usr/local/lib/python3.7/dist-packages (from outdated->pingouin) (2.23.0)\n",
            "Requirement already satisfied: littleutils in /usr/local/lib/python3.7/dist-packages (from outdated->pingouin) (0.2.2)\n",
            "Requirement already satisfied: urllib3!=1.25.0,!=1.25.1,<1.26,>=1.21.1 in /usr/local/lib/python3.7/dist-packages (from requests->outdated->pingouin) (1.24.3)\n",
            "Requirement already satisfied: idna<3,>=2.5 in /usr/local/lib/python3.7/dist-packages (from requests->outdated->pingouin) (2.10)\n",
            "Requirement already satisfied: chardet<4,>=3.0.2 in /usr/local/lib/python3.7/dist-packages (from requests->outdated->pingouin) (3.0.4)\n",
            "Requirement already satisfied: certifi>=2017.4.17 in /usr/local/lib/python3.7/dist-packages (from requests->outdated->pingouin) (2022.6.15)\n",
            "Requirement already satisfied: importlib-metadata in /usr/local/lib/python3.7/dist-packages (from xarray->pandas-flavor>=0.2.0->pingouin) (4.12.0)\n",
            "Requirement already satisfied: zipp>=0.5 in /usr/local/lib/python3.7/dist-packages (from importlib-metadata->xarray->pandas-flavor>=0.2.0->pingouin) (3.8.1)\n"
          ]
        }
      ]
    },
    {
      "cell_type": "code",
      "execution_count": null,
      "metadata": {
        "id": "HX3GF0jDJSvA"
      },
      "outputs": [],
      "source": [
        "import pandas as pd\n",
        "import numpy as np\n",
        "import pingouin as pg\n",
        "\n",
        "import plotly.express as px\n",
        "import plotly.graph_objects as go"
      ]
    },
    {
      "cell_type": "markdown",
      "source": [
        "# Data preprocessing"
      ],
      "metadata": {
        "id": "otXIzJAkZxYN"
      }
    },
    {
      "cell_type": "markdown",
      "source": [
        "This step has already filtered out participants who did not leave an email address, which is at the very beginning of the survey"
      ],
      "metadata": {
        "id": "bw2XQHS3BpJj"
      }
    },
    {
      "cell_type": "code",
      "source": [
        "# define a function for data preprocessing\n",
        "def clean_text(df, year):\n",
        "  '''\n",
        "  please input df as such: 'CAB_Baseline_and_follow-up_Year1_202004_May17_2021_11.01.csv'\n",
        "  please input year as such: 2021\n",
        "  '''\n",
        "  # read file\n",
        "  df = pd.read_csv(df)\n",
        "\n",
        "  # cut extra rows\n",
        "  df = df.iloc[2:]\n",
        "\n",
        "  # replace blanks with NA\n",
        "  df = df.replace(r'^\\s*$', np.nan, regex=True)\n",
        "\n",
        "  # filter out responses without email input\n",
        "  df = df[df.emailinoput.notnull()] # comment this out if you need all the entries\n",
        "\n",
        "  # create new column recording survey year\n",
        "  df['year'] = year\n",
        "  \n",
        "  # drop columns with all null values\n",
        "  df = df.dropna(axis=1, how='all')\n",
        "\n",
        "  # return df\n",
        "  return df"
      ],
      "metadata": {
        "id": "QMmn4OKW-j0C"
      },
      "execution_count": null,
      "outputs": []
    },
    {
      "cell_type": "code",
      "source": [
        "# define a function for data preprocessing [the first two rows have already been cut in R]\n",
        "def clean_num(df, year):\n",
        "  '''\n",
        "  please input df as such: 'CAB_Baseline_and_follow-up_Year1_202004_May17_2021_11.01.csv'\n",
        "  please input year as such: 2021\n",
        "  '''\n",
        "  # read file\n",
        "  df = pd.read_csv(df)\n",
        "\n",
        "  # replace blanks with NA\n",
        "  df = df.replace(r'^\\s*$', np.nan, regex=True)\n",
        "\n",
        "  # filter out responses without email input\n",
        "  df = df[df.emailinoput.notnull()] # comment this out if you need all the entries\n",
        "\n",
        "  # create new column recording survey year\n",
        "  df['year'] = year\n",
        "  \n",
        "  # drop columns with all null values\n",
        "  df = df.dropna(axis=1, how='all')\n",
        "\n",
        "  # return df\n",
        "  return df"
      ],
      "metadata": {
        "id": "gFnXFNWONlge"
      },
      "execution_count": null,
      "outputs": []
    },
    {
      "cell_type": "markdown",
      "source": [
        "read and clean dataset, please change it to other file names if you download other files"
      ],
      "metadata": {
        "id": "MxZGcotZaLHj"
      }
    },
    {
      "cell_type": "code",
      "source": [
        "df1 = clean_text('CAB_2020_text.csv',2020)\n",
        "df2 = clean_text('CAB_2021_text.csv',2021)\n",
        "df3 = clean_text('CAB_2022_text.csv',2022)"
      ],
      "metadata": {
        "id": "pjPp_v65ZGgQ"
      },
      "execution_count": null,
      "outputs": []
    },
    {
      "cell_type": "markdown",
      "source": [
        "convert zip from 2020 data to state"
      ],
      "metadata": {
        "id": "F3v4KciEA4vs"
      }
    },
    {
      "cell_type": "code",
      "source": [
        "df1['zip'] = df1['zip'].apply(pd.to_numeric)"
      ],
      "metadata": {
        "id": "M03czPYmek1U"
      },
      "execution_count": null,
      "outputs": []
    },
    {
      "cell_type": "code",
      "source": [
        "def conditions(df):\n",
        "  if (df['zip'] >= 66002) and (df['zip'] <= 67954):\n",
        "    return 'Kansas'\n",
        "  if (df['zip'] >= 60001) and (df['zip'] <= 62999):\n",
        "    return 'Illinois'\n",
        "  if (df['zip'] >= 46001) and (df['zip'] <= 47997):\n",
        "    return 'Indiana'\n",
        "  if (df['zip'] >= 70001) and (df['zip'] <= 71497):\n",
        "    return 'Indiana'\n",
        "  if (df['zip'] >= 6001) and (df['zip'] <= 6928):\n",
        "    return 'Connecticut'\n",
        "  if (df['zip'] >= 24701) and (df['zip'] <= 26886):\n",
        "    return 'West Virginia'\n",
        "  if (df['zip'] >= 37010) and (df['zip'] <= 38589):\n",
        "    return 'Tennessee'\n",
        "  if (df['zip'] >= 57001) and (df['zip'] <= 57799):\n",
        "    return 'South Dakota'\n",
        "  if (df['zip'] >= 43001) and (df['zip'] <= 45999):\n",
        "    return 'Ohio'\n",
        "  if (df['zip'] >= 7001) and (df['zip'] <= 8989):\n",
        "    return 'New Jersey'\n",
        "  if (df['zip'] >= 48001) and (df['zip'] <= 49971):\n",
        "    return 'Michigan'\n",
        "  if (df['zip'] >= 40003) and (df['zip'] <= 42788):\n",
        "    return 'Kentucky'\n",
        "  if (df['zip'] >= 63001) and (df['zip'] <= 65899):\n",
        "    return 'Missouri'\n",
        "  if (df['zip'] >= 27006) and (df['zip'] <= 28909):\n",
        "    return 'North Carolina'\n",
        "  if (df['zip'] >= 15001) and (df['zip'] <= 19640):\n",
        "    return 'Pennsylvania'\n",
        "  if (df['zip'] >= 30001) and (df['zip'] <= 31999) or (df['zip'] == 39901):\n",
        "    return 'Georgia'\n",
        "  if (df['zip'] >= 38601) and (df['zip'] <= 39776) or (df['zip'] == 71233):\n",
        "    return 'Mississippi'\n",
        "  if (df['zip'] >= 22001) and (df['zip'] <= 24658) and (df['zip'] == 20040 or 20041 or 20041 or 20167):\n",
        "    return 'Virginia'\n",
        "  else:\n",
        "    return 'N/A'"
      ],
      "metadata": {
        "id": "c-DqwPSYeVNb"
      },
      "execution_count": null,
      "outputs": []
    },
    {
      "cell_type": "code",
      "source": [
        "df1['state'] = df1.apply(conditions, axis=1)"
      ],
      "metadata": {
        "id": "oacNUGSjeF6p"
      },
      "execution_count": null,
      "outputs": []
    },
    {
      "cell_type": "markdown",
      "source": [
        "the final dataset (text value)"
      ],
      "metadata": {
        "id": "hMJ6eq2BaWhi"
      }
    },
    {
      "cell_type": "code",
      "source": [
        "# outer join the dfs\n",
        "result = pd.concat([df1, df2, df3], join=\"outer\")\n",
        "result['state'] = result['state'].fillna('N/A')"
      ],
      "metadata": {
        "id": "Y091LWOuHgPf"
      },
      "execution_count": null,
      "outputs": []
    },
    {
      "cell_type": "markdown",
      "source": [
        "the final dataset (numerical value)"
      ],
      "metadata": {
        "id": "iScSsZS5HGD0"
      }
    },
    {
      "cell_type": "code",
      "source": [
        "df1n = clean_num('year1_2022-08-17.csv', 2020)\n",
        "df2n = clean_num('year2_2022-08-09.csv', 2021)\n",
        "df3n = clean_num('year3_2022-08-17.csv', 2022)"
      ],
      "metadata": {
        "id": "CdLReO7kbLeF"
      },
      "execution_count": null,
      "outputs": []
    },
    {
      "cell_type": "code",
      "source": [
        "result_n = pd.concat([df1n, df2n, df3n], join=\"outer\")\n",
        "num = result_n.select_dtypes([np.number])\n",
        "num = num.rename(columns = {'state':'state_id'})\n",
        "num['state'] = result['state'].values.tolist()"
      ],
      "metadata": {
        "id": "eY1w4WZhbKgU"
      },
      "execution_count": null,
      "outputs": []
    },
    {
      "cell_type": "markdown",
      "source": [
        "# Dataframe\n",
        "\n",
        "- survey: Survey Completion Status\n",
        "- demo: Demographic Distribution of Participants\n",
        "- measurement: Different Key Measurement (measurement1 from text responses, measurement2 from numerical responses)\n",
        "- trend: Yearly trend for certain items\n",
        "- reliability measure: Croabach's Alpha for different sets of questions\n"
      ],
      "metadata": {
        "id": "CS8voA5R9luz"
      }
    },
    {
      "cell_type": "markdown",
      "source": [
        "### regroup certain columns"
      ],
      "metadata": {
        "id": "q33KOm6Oi9X3"
      }
    },
    {
      "cell_type": "code",
      "source": [
        "# convert to numerical columns\n",
        "result[['Progress','age','hoursvol','netoutorg_1','netorgnum_1','internetfreq']] = result[['Progress','age','hoursvol','netoutorg_1','netorgnum_1','internetfreq']].apply(pd.to_numeric)"
      ],
      "metadata": {
        "id": "i-4mjaC1W97c"
      },
      "execution_count": null,
      "outputs": []
    },
    {
      "cell_type": "code",
      "source": [
        "# regroup columns\n",
        "result['Progress_group'] = pd.cut(result['Progress'],\n",
        "                             bins=[0,50,80,99,100],\n",
        "                             labels=['0-50', '50-80', '80-99','100'])\n",
        "result['age_group'] = pd.cut(result['age'],\n",
        "                             bins=[18,25,40,55,70,100],\n",
        "                             labels=['18-25', '25-40', '40-55', '55-70','70+'])\n",
        "result['hoursvol_group'] = pd.cut(result['hoursvol'],\n",
        "                             bins=[0,5,10,15,20,50,10000000000],\n",
        "                             labels=['0-5', '5-10', '10-15', '15-20','20-50','50+'])\n",
        "result['netoutorg_group'] = pd.cut(result['netoutorg_1'],\n",
        "                             bins=[0,5,10,15,20,50,10000000000],\n",
        "                             labels=['0-5', '5-10', '10-15', '15-20','20-50','50+'])\n",
        "result['netorgnum_group'] = pd.cut(result['netorgnum_1'],\n",
        "                             bins=[0,5,10,15,20,50,10000000000],\n",
        "                             labels=['0-5', '5-10', '10-15', '15-20','20-50','50+'])\n",
        "result['internetfreq_group'] = pd.cut(result['internetfreq'],\n",
        "                             bins=[0,10,20,30,40,50,60,70,80,100],\n",
        "                             labels=['0-10', '10-20', '20-30', '30-40','40-50','50-60','60-70','70-80','80+'])"
      ],
      "metadata": {
        "id": "-6WCc75qQ5T3"
      },
      "execution_count": null,
      "outputs": []
    },
    {
      "cell_type": "markdown",
      "source": [
        "### Survey figure"
      ],
      "metadata": {
        "id": "JeW3JGeYjC7V"
      }
    },
    {
      "cell_type": "markdown",
      "source": [
        "This shows the survey completion status"
      ],
      "metadata": {
        "id": "5oTfvrVTkCkA"
      }
    },
    {
      "cell_type": "code",
      "source": [
        "# select columns\n",
        "survey = result[['Progress_group','Finished']]\n",
        "survey = survey.apply(lambda x: x.sort_values().values)"
      ],
      "metadata": {
        "id": "q6RY4SPPG1HG"
      },
      "execution_count": null,
      "outputs": []
    },
    {
      "cell_type": "code",
      "source": [
        "# note for annotation\n",
        "note1 = 'Indicator of progress of the survey (%)'\n",
        "note2 = 'If the participant has finished the survey'\n",
        "\n",
        "anno1 = [dict(\n",
        "    showarrow=False,\n",
        "    text=note1,\n",
        "    font=dict(size=12), \n",
        "    xref='paper',\n",
        "    x=1,\n",
        "    yref='paper',\n",
        "    y=1.1\n",
        "    )]\n",
        "\n",
        "anno2 = [dict(\n",
        "    showarrow=False,\n",
        "    text=note2,\n",
        "    font=dict(size=12),\n",
        "    xref='paper',\n",
        "    x=1,\n",
        "    yref='paper',\n",
        "    y=1.1\n",
        "    )]"
      ],
      "metadata": {
        "id": "tdXSxl6PFhKZ"
      },
      "execution_count": null,
      "outputs": []
    },
    {
      "cell_type": "code",
      "source": [
        "# Initialize figure\n",
        "fig1 = go.Figure()\n",
        "\n",
        "buttons = []\n",
        "\n",
        "for col_name in survey.columns:\n",
        "  ## add traces\n",
        "  fig1.add_trace(go.Bar(\n",
        "              x=survey[col_name].unique(),\n",
        "              y=survey[col_name].value_counts(),\n",
        "              text=survey[col_name].value_counts(),  \n",
        "              name=col_name,\n",
        "              visible = False\n",
        "              )\n",
        "          )\n",
        "\n",
        "fig1.update_layout(\n",
        "    updatemenus=[\n",
        "        dict(\n",
        "            active=0,\n",
        "            buttons=list([\n",
        "                dict(label=\"Progress_group\",\n",
        "                     method=\"update\",\n",
        "                     args=[{\"visible\": [True, False]},\n",
        "                           {\"annotations\": anno1}]),\n",
        "                dict(label=\"Finished\",\n",
        "                     method=\"update\",\n",
        "                     args=[{\"visible\": [False, True]},\n",
        "                           {\"annotations\": anno2}])\n",
        "            ]),\n",
        "             type=\"dropdown\",\n",
        "             x = 1,\n",
        "             y = 1.1,\n",
        "             xanchor = 'right',\n",
        "             yanchor = 'bottom'\n",
        "        )     \n",
        "    ],\n",
        "    margin=dict(l=20, r=20, t=60, b=20),#setup the margin\n",
        "    paper_bgcolor=\"aliceblue\", #setup the background color\n",
        "    title_text=\"Survey Completion Status<br><br>\",\n",
        "    title_x=0.5,\n",
        "    showlegend=False,\n",
        "    title_font_size=22)\n",
        "\n",
        "fig1.show()"
      ],
      "metadata": {
        "colab": {
          "base_uri": "https://localhost:8080/"
        },
        "id": "Ai_tNe8I-vdJ",
        "outputId": "e4d36c40-65f2-4178-db18-4845c9895852"
      },
      "execution_count": null,
      "outputs": [
        {
          "output_type": "display_data",
          "data": {
            "text/html": [
              "<html>\n",
              "<head><meta charset=\"utf-8\" /></head>\n",
              "<body>\n",
              "    <div>            <script src=\"https://cdnjs.cloudflare.com/ajax/libs/mathjax/2.7.5/MathJax.js?config=TeX-AMS-MML_SVG\"></script><script type=\"text/javascript\">if (window.MathJax) {MathJax.Hub.Config({SVG: {font: \"STIX-Web\"}});}</script>                <script type=\"text/javascript\">window.PlotlyConfig = {MathJaxConfig: 'local'};</script>\n",
              "        <script src=\"https://cdn.plot.ly/plotly-2.8.3.min.js\"></script>                <div id=\"8b5087bd-9c94-4d07-a7a3-065f4b58d78a\" class=\"plotly-graph-div\" style=\"height:525px; width:100%;\"></div>            <script type=\"text/javascript\">                                    window.PLOTLYENV=window.PLOTLYENV || {};                                    if (document.getElementById(\"8b5087bd-9c94-4d07-a7a3-065f4b58d78a\")) {                    Plotly.newPlot(                        \"8b5087bd-9c94-4d07-a7a3-065f4b58d78a\",                        [{\"name\":\"Progress_group\",\"text\":[165.0,17.0,10.0,4.0],\"visible\":false,\"x\":[\"0-50\",\"50-80\",\"80-99\",\"100\"],\"y\":[165,17,10,4],\"type\":\"bar\"},{\"name\":\"Finished\",\"text\":[165.0,31.0],\"visible\":false,\"x\":[\"False\",\"True\"],\"y\":[165,31],\"type\":\"bar\"}],                        {\"template\":{\"data\":{\"bar\":[{\"error_x\":{\"color\":\"#2a3f5f\"},\"error_y\":{\"color\":\"#2a3f5f\"},\"marker\":{\"line\":{\"color\":\"#E5ECF6\",\"width\":0.5},\"pattern\":{\"fillmode\":\"overlay\",\"size\":10,\"solidity\":0.2}},\"type\":\"bar\"}],\"barpolar\":[{\"marker\":{\"line\":{\"color\":\"#E5ECF6\",\"width\":0.5},\"pattern\":{\"fillmode\":\"overlay\",\"size\":10,\"solidity\":0.2}},\"type\":\"barpolar\"}],\"carpet\":[{\"aaxis\":{\"endlinecolor\":\"#2a3f5f\",\"gridcolor\":\"white\",\"linecolor\":\"white\",\"minorgridcolor\":\"white\",\"startlinecolor\":\"#2a3f5f\"},\"baxis\":{\"endlinecolor\":\"#2a3f5f\",\"gridcolor\":\"white\",\"linecolor\":\"white\",\"minorgridcolor\":\"white\",\"startlinecolor\":\"#2a3f5f\"},\"type\":\"carpet\"}],\"choropleth\":[{\"colorbar\":{\"outlinewidth\":0,\"ticks\":\"\"},\"type\":\"choropleth\"}],\"contour\":[{\"colorbar\":{\"outlinewidth\":0,\"ticks\":\"\"},\"colorscale\":[[0.0,\"#0d0887\"],[0.1111111111111111,\"#46039f\"],[0.2222222222222222,\"#7201a8\"],[0.3333333333333333,\"#9c179e\"],[0.4444444444444444,\"#bd3786\"],[0.5555555555555556,\"#d8576b\"],[0.6666666666666666,\"#ed7953\"],[0.7777777777777778,\"#fb9f3a\"],[0.8888888888888888,\"#fdca26\"],[1.0,\"#f0f921\"]],\"type\":\"contour\"}],\"contourcarpet\":[{\"colorbar\":{\"outlinewidth\":0,\"ticks\":\"\"},\"type\":\"contourcarpet\"}],\"heatmap\":[{\"colorbar\":{\"outlinewidth\":0,\"ticks\":\"\"},\"colorscale\":[[0.0,\"#0d0887\"],[0.1111111111111111,\"#46039f\"],[0.2222222222222222,\"#7201a8\"],[0.3333333333333333,\"#9c179e\"],[0.4444444444444444,\"#bd3786\"],[0.5555555555555556,\"#d8576b\"],[0.6666666666666666,\"#ed7953\"],[0.7777777777777778,\"#fb9f3a\"],[0.8888888888888888,\"#fdca26\"],[1.0,\"#f0f921\"]],\"type\":\"heatmap\"}],\"heatmapgl\":[{\"colorbar\":{\"outlinewidth\":0,\"ticks\":\"\"},\"colorscale\":[[0.0,\"#0d0887\"],[0.1111111111111111,\"#46039f\"],[0.2222222222222222,\"#7201a8\"],[0.3333333333333333,\"#9c179e\"],[0.4444444444444444,\"#bd3786\"],[0.5555555555555556,\"#d8576b\"],[0.6666666666666666,\"#ed7953\"],[0.7777777777777778,\"#fb9f3a\"],[0.8888888888888888,\"#fdca26\"],[1.0,\"#f0f921\"]],\"type\":\"heatmapgl\"}],\"histogram\":[{\"marker\":{\"pattern\":{\"fillmode\":\"overlay\",\"size\":10,\"solidity\":0.2}},\"type\":\"histogram\"}],\"histogram2d\":[{\"colorbar\":{\"outlinewidth\":0,\"ticks\":\"\"},\"colorscale\":[[0.0,\"#0d0887\"],[0.1111111111111111,\"#46039f\"],[0.2222222222222222,\"#7201a8\"],[0.3333333333333333,\"#9c179e\"],[0.4444444444444444,\"#bd3786\"],[0.5555555555555556,\"#d8576b\"],[0.6666666666666666,\"#ed7953\"],[0.7777777777777778,\"#fb9f3a\"],[0.8888888888888888,\"#fdca26\"],[1.0,\"#f0f921\"]],\"type\":\"histogram2d\"}],\"histogram2dcontour\":[{\"colorbar\":{\"outlinewidth\":0,\"ticks\":\"\"},\"colorscale\":[[0.0,\"#0d0887\"],[0.1111111111111111,\"#46039f\"],[0.2222222222222222,\"#7201a8\"],[0.3333333333333333,\"#9c179e\"],[0.4444444444444444,\"#bd3786\"],[0.5555555555555556,\"#d8576b\"],[0.6666666666666666,\"#ed7953\"],[0.7777777777777778,\"#fb9f3a\"],[0.8888888888888888,\"#fdca26\"],[1.0,\"#f0f921\"]],\"type\":\"histogram2dcontour\"}],\"mesh3d\":[{\"colorbar\":{\"outlinewidth\":0,\"ticks\":\"\"},\"type\":\"mesh3d\"}],\"parcoords\":[{\"line\":{\"colorbar\":{\"outlinewidth\":0,\"ticks\":\"\"}},\"type\":\"parcoords\"}],\"pie\":[{\"automargin\":true,\"type\":\"pie\"}],\"scatter\":[{\"marker\":{\"colorbar\":{\"outlinewidth\":0,\"ticks\":\"\"}},\"type\":\"scatter\"}],\"scatter3d\":[{\"line\":{\"colorbar\":{\"outlinewidth\":0,\"ticks\":\"\"}},\"marker\":{\"colorbar\":{\"outlinewidth\":0,\"ticks\":\"\"}},\"type\":\"scatter3d\"}],\"scattercarpet\":[{\"marker\":{\"colorbar\":{\"outlinewidth\":0,\"ticks\":\"\"}},\"type\":\"scattercarpet\"}],\"scattergeo\":[{\"marker\":{\"colorbar\":{\"outlinewidth\":0,\"ticks\":\"\"}},\"type\":\"scattergeo\"}],\"scattergl\":[{\"marker\":{\"colorbar\":{\"outlinewidth\":0,\"ticks\":\"\"}},\"type\":\"scattergl\"}],\"scattermapbox\":[{\"marker\":{\"colorbar\":{\"outlinewidth\":0,\"ticks\":\"\"}},\"type\":\"scattermapbox\"}],\"scatterpolar\":[{\"marker\":{\"colorbar\":{\"outlinewidth\":0,\"ticks\":\"\"}},\"type\":\"scatterpolar\"}],\"scatterpolargl\":[{\"marker\":{\"colorbar\":{\"outlinewidth\":0,\"ticks\":\"\"}},\"type\":\"scatterpolargl\"}],\"scatterternary\":[{\"marker\":{\"colorbar\":{\"outlinewidth\":0,\"ticks\":\"\"}},\"type\":\"scatterternary\"}],\"surface\":[{\"colorbar\":{\"outlinewidth\":0,\"ticks\":\"\"},\"colorscale\":[[0.0,\"#0d0887\"],[0.1111111111111111,\"#46039f\"],[0.2222222222222222,\"#7201a8\"],[0.3333333333333333,\"#9c179e\"],[0.4444444444444444,\"#bd3786\"],[0.5555555555555556,\"#d8576b\"],[0.6666666666666666,\"#ed7953\"],[0.7777777777777778,\"#fb9f3a\"],[0.8888888888888888,\"#fdca26\"],[1.0,\"#f0f921\"]],\"type\":\"surface\"}],\"table\":[{\"cells\":{\"fill\":{\"color\":\"#EBF0F8\"},\"line\":{\"color\":\"white\"}},\"header\":{\"fill\":{\"color\":\"#C8D4E3\"},\"line\":{\"color\":\"white\"}},\"type\":\"table\"}]},\"layout\":{\"annotationdefaults\":{\"arrowcolor\":\"#2a3f5f\",\"arrowhead\":0,\"arrowwidth\":1},\"autotypenumbers\":\"strict\",\"coloraxis\":{\"colorbar\":{\"outlinewidth\":0,\"ticks\":\"\"}},\"colorscale\":{\"diverging\":[[0,\"#8e0152\"],[0.1,\"#c51b7d\"],[0.2,\"#de77ae\"],[0.3,\"#f1b6da\"],[0.4,\"#fde0ef\"],[0.5,\"#f7f7f7\"],[0.6,\"#e6f5d0\"],[0.7,\"#b8e186\"],[0.8,\"#7fbc41\"],[0.9,\"#4d9221\"],[1,\"#276419\"]],\"sequential\":[[0.0,\"#0d0887\"],[0.1111111111111111,\"#46039f\"],[0.2222222222222222,\"#7201a8\"],[0.3333333333333333,\"#9c179e\"],[0.4444444444444444,\"#bd3786\"],[0.5555555555555556,\"#d8576b\"],[0.6666666666666666,\"#ed7953\"],[0.7777777777777778,\"#fb9f3a\"],[0.8888888888888888,\"#fdca26\"],[1.0,\"#f0f921\"]],\"sequentialminus\":[[0.0,\"#0d0887\"],[0.1111111111111111,\"#46039f\"],[0.2222222222222222,\"#7201a8\"],[0.3333333333333333,\"#9c179e\"],[0.4444444444444444,\"#bd3786\"],[0.5555555555555556,\"#d8576b\"],[0.6666666666666666,\"#ed7953\"],[0.7777777777777778,\"#fb9f3a\"],[0.8888888888888888,\"#fdca26\"],[1.0,\"#f0f921\"]]},\"colorway\":[\"#636efa\",\"#EF553B\",\"#00cc96\",\"#ab63fa\",\"#FFA15A\",\"#19d3f3\",\"#FF6692\",\"#B6E880\",\"#FF97FF\",\"#FECB52\"],\"font\":{\"color\":\"#2a3f5f\"},\"geo\":{\"bgcolor\":\"white\",\"lakecolor\":\"white\",\"landcolor\":\"#E5ECF6\",\"showlakes\":true,\"showland\":true,\"subunitcolor\":\"white\"},\"hoverlabel\":{\"align\":\"left\"},\"hovermode\":\"closest\",\"mapbox\":{\"style\":\"light\"},\"paper_bgcolor\":\"white\",\"plot_bgcolor\":\"#E5ECF6\",\"polar\":{\"angularaxis\":{\"gridcolor\":\"white\",\"linecolor\":\"white\",\"ticks\":\"\"},\"bgcolor\":\"#E5ECF6\",\"radialaxis\":{\"gridcolor\":\"white\",\"linecolor\":\"white\",\"ticks\":\"\"}},\"scene\":{\"xaxis\":{\"backgroundcolor\":\"#E5ECF6\",\"gridcolor\":\"white\",\"gridwidth\":2,\"linecolor\":\"white\",\"showbackground\":true,\"ticks\":\"\",\"zerolinecolor\":\"white\"},\"yaxis\":{\"backgroundcolor\":\"#E5ECF6\",\"gridcolor\":\"white\",\"gridwidth\":2,\"linecolor\":\"white\",\"showbackground\":true,\"ticks\":\"\",\"zerolinecolor\":\"white\"},\"zaxis\":{\"backgroundcolor\":\"#E5ECF6\",\"gridcolor\":\"white\",\"gridwidth\":2,\"linecolor\":\"white\",\"showbackground\":true,\"ticks\":\"\",\"zerolinecolor\":\"white\"}},\"shapedefaults\":{\"line\":{\"color\":\"#2a3f5f\"}},\"ternary\":{\"aaxis\":{\"gridcolor\":\"white\",\"linecolor\":\"white\",\"ticks\":\"\"},\"baxis\":{\"gridcolor\":\"white\",\"linecolor\":\"white\",\"ticks\":\"\"},\"bgcolor\":\"#E5ECF6\",\"caxis\":{\"gridcolor\":\"white\",\"linecolor\":\"white\",\"ticks\":\"\"}},\"title\":{\"x\":0.05},\"xaxis\":{\"automargin\":true,\"gridcolor\":\"white\",\"linecolor\":\"white\",\"ticks\":\"\",\"title\":{\"standoff\":15},\"zerolinecolor\":\"white\",\"zerolinewidth\":2},\"yaxis\":{\"automargin\":true,\"gridcolor\":\"white\",\"linecolor\":\"white\",\"ticks\":\"\",\"title\":{\"standoff\":15},\"zerolinecolor\":\"white\",\"zerolinewidth\":2}}},\"margin\":{\"l\":20,\"r\":20,\"t\":60,\"b\":20},\"title\":{\"font\":{\"size\":22},\"text\":\"Survey Completion Status<br><br>\",\"x\":0.5},\"updatemenus\":[{\"active\":0,\"buttons\":[{\"args\":[{\"visible\":[true,false]},{\"annotations\":[{\"showarrow\":false,\"text\":\"Indicator of progress of the survey (%)\",\"font\":{\"size\":12},\"xref\":\"paper\",\"x\":1,\"yref\":\"paper\",\"y\":1.1}]}],\"label\":\"Progress_group\",\"method\":\"update\"},{\"args\":[{\"visible\":[false,true]},{\"annotations\":[{\"showarrow\":false,\"text\":\"If the participant has finished the survey\",\"font\":{\"size\":12},\"xref\":\"paper\",\"x\":1,\"yref\":\"paper\",\"y\":1.1}]}],\"label\":\"Finished\",\"method\":\"update\"}],\"type\":\"dropdown\",\"x\":1,\"xanchor\":\"right\",\"y\":1.1,\"yanchor\":\"bottom\"}],\"paper_bgcolor\":\"aliceblue\",\"showlegend\":false},                        {\"responsive\": true}                    ).then(function(){\n",
              "                            \n",
              "var gd = document.getElementById('8b5087bd-9c94-4d07-a7a3-065f4b58d78a');\n",
              "var x = new MutationObserver(function (mutations, observer) {{\n",
              "        var display = window.getComputedStyle(gd).display;\n",
              "        if (!display || display === 'none') {{\n",
              "            console.log([gd, 'removed!']);\n",
              "            Plotly.purge(gd);\n",
              "            observer.disconnect();\n",
              "        }}\n",
              "}});\n",
              "\n",
              "// Listen for the removal of the full notebook cells\n",
              "var notebookContainer = gd.closest('#notebook-container');\n",
              "if (notebookContainer) {{\n",
              "    x.observe(notebookContainer, {childList: true});\n",
              "}}\n",
              "\n",
              "// Listen for the clearing of the current output cell\n",
              "var outputEl = gd.closest('.output');\n",
              "if (outputEl) {{\n",
              "    x.observe(outputEl, {childList: true});\n",
              "}}\n",
              "\n",
              "                        })                };                            </script>        </div>\n",
              "</body>\n",
              "</html>"
            ]
          },
          "metadata": {}
        }
      ]
    },
    {
      "cell_type": "markdown",
      "source": [
        "### Participant figure"
      ],
      "metadata": {
        "id": "sZ2vbadI3l28"
      }
    },
    {
      "cell_type": "markdown",
      "source": [
        "This displays the demographic information of the participants"
      ],
      "metadata": {
        "id": "SdmGoqgCjUmd"
      }
    },
    {
      "cell_type": "code",
      "source": [
        "# select columns\n",
        "demo = result[['join_yr', 'inst', 'membdrug', 'othboar', 'leadoth', 'edu','hisp','race','sex',\n",
        "               'age_group', 'hoursvol_group', 'netorgnum_group','netoutorg_group','internetfreq_group',\n",
        "               'cabsat_1','cabsat_2','cabsat_3', 'cabactivity_1','cabactivity_2', 'cabactivity_3' ]]\n",
        "demo = demo.apply(lambda x: x.sort_values().values)"
      ],
      "metadata": {
        "id": "QEr_S2QsJ6ZR"
      },
      "execution_count": null,
      "outputs": []
    },
    {
      "cell_type": "code",
      "source": [
        "# note for annotation\n",
        "note1 = 'The first year the participants joined CAB' # join_yr\n",
        "note2 = 'Institutions the participants work with' # inst\n",
        "note3 = 'Are you a member of a drug board or coalition?' # membdrug\n",
        "note4 = 'Are you a member of other community boards?' # othboar\n",
        "note5 = 'Are you a leader of other community boards?' # leadoth\n",
        "note6 = 'Education level' #edu\n",
        "note7 = 'If hispanic or not' # hisp\n",
        "note8 = 'Race/Ethnicity' # race\n",
        "note9 = 'Sex/Gender' # sex\n",
        "note10 = 'Age group' # age_group\n",
        "note11 = 'How many hours the participants would be willing to volunteer duriing this year' # hoursvol_group\n",
        "note12 = 'How many organizations WITHIN the county do the participants typically work with' # netorgnum_group\n",
        "note13 = 'How many organizations OUTSIDE the county do the participants typically work with' # netoutorg_group\n",
        "note14 = 'How many hours a week do the participants use the Internet' # internetfreq_group\n",
        "note15 = 'Satisfaction with being involved in CAB' # cabsat_1\n",
        "note16 = 'Satisfaction with Trimonthly Meetings' # cabsat_2\n",
        "note17 = 'Satisfaction with frequency of contacts (# of emails and phone calls you are currently receiving from us) ' # cabsat_3\n",
        "note18 = 'I feel that I\\'m knowledgeable about the goals of CAB' # cabactivity_1\n",
        "note19 = 'I feel that I\\'m knowledgeable about the activities of CAB' # cabactivity_2\n",
        "note20 = 'I feel that I need more information about the CAB in general' # cabactivity_3"
      ],
      "metadata": {
        "id": "O6QSk8VOp8P-"
      },
      "execution_count": null,
      "outputs": []
    },
    {
      "cell_type": "code",
      "source": [
        "note = [note1, note2, note3, note4, note5, note6, note7, note8, note9, note10, note11, note12, note13, note14, note15, note16, note17, note18, note19, note20]\n",
        "\n",
        "d = dict()\n",
        "\n",
        "#add note to annotation\n",
        "for idx, value in enumerate(note):\n",
        "    key = 'anno' + str(idx)\n",
        "    d[key] = [dict(\n",
        "    showarrow=False,\n",
        "    text=value,\n",
        "    font=dict(size=12), \n",
        "    xref='paper',\n",
        "    x=1,\n",
        "    yref='paper',\n",
        "    y=1.1,\n",
        "    align = 'right'\n",
        "    )]"
      ],
      "metadata": {
        "id": "08rbbH1wo3v0"
      },
      "execution_count": null,
      "outputs": []
    },
    {
      "cell_type": "code",
      "source": [
        "# Initialize figure\n",
        "fig2 = go.Figure()\n",
        "\n",
        "buttons2 = []\n",
        "\n",
        "for col_name in demo.columns:\n",
        "  ## add traces\n",
        "  fig2.add_trace(go.Bar(\n",
        "            x=demo[col_name].unique(),\n",
        "            y=demo[col_name].value_counts(), \n",
        "            text=demo[col_name].value_counts(), \n",
        "            name=col_name,\n",
        "            visible=False\n",
        "            )\n",
        "        )\n",
        "\n",
        "for i, column in enumerate(demo.columns):\n",
        "  args = [False] * len(demo.columns)\n",
        "  args[i] = True\n",
        "\n",
        "  button2 = dict(label = column,\n",
        "                  method = \"update\",\n",
        "                  args=[{\"visible\": args},\n",
        "                        {\"annotations\": list(d.values())[i]}])\n",
        "  buttons2.append(button2)\n",
        "\n",
        "fig2.update_layout(\n",
        "    title_text=\"Participant Information\",\n",
        "    title_x=0.5,\n",
        "    showlegend=False,\n",
        "    title_font_size=22\n",
        ") \n",
        "\n",
        "fig2.update_layout(\n",
        "    updatemenus=[dict(active=0,\n",
        "                      type=\"dropdown\",\n",
        "                    buttons=buttons2,\n",
        "                    x = 1,\n",
        "                    y = 1.1,\n",
        "                    xanchor = 'right',\n",
        "                    yanchor = 'bottom'\n",
        "                )], \n",
        "    margin=dict(l=20, r=20, t=60, b=20),#setup the margin\n",
        "    paper_bgcolor=\"aliceblue\", #setup the background color\n",
        ")\n",
        "\n",
        "fig2.show()"
      ],
      "metadata": {
        "colab": {
          "base_uri": "https://localhost:8080/"
        },
        "id": "Esr03cSZsxN_",
        "outputId": "d20fbc78-c5f7-47ea-8ed4-7393620e7202"
      },
      "execution_count": null,
      "outputs": [
        {
          "output_type": "display_data",
          "data": {
            "text/html": [
              "<html>\n",
              "<head><meta charset=\"utf-8\" /></head>\n",
              "<body>\n",
              "    <div>            <script src=\"https://cdnjs.cloudflare.com/ajax/libs/mathjax/2.7.5/MathJax.js?config=TeX-AMS-MML_SVG\"></script><script type=\"text/javascript\">if (window.MathJax) {MathJax.Hub.Config({SVG: {font: \"STIX-Web\"}});}</script>                <script type=\"text/javascript\">window.PlotlyConfig = {MathJaxConfig: 'local'};</script>\n",
              "        <script src=\"https://cdn.plot.ly/plotly-2.8.3.min.js\"></script>                <div id=\"beae48cc-90ac-493e-aa16-062624dd82ae\" class=\"plotly-graph-div\" style=\"height:525px; width:100%;\"></div>            <script type=\"text/javascript\">                                    window.PLOTLYENV=window.PLOTLYENV || {};                                    if (document.getElementById(\"beae48cc-90ac-493e-aa16-062624dd82ae\")) {                    Plotly.newPlot(                        \"beae48cc-90ac-493e-aa16-062624dd82ae\",                        [{\"name\":\"join_yr\",\"text\":[76.0,7.0,1.0],\"visible\":false,\"x\":[\"2020\",\"2021\",\"2022\",null],\"y\":[76,7,1],\"type\":\"bar\"},{\"name\":\"inst\",\"text\":[95.0,64.0,16.0,4.0,2.0,2.0,2.0],\"visible\":false,\"x\":[\"Government\",\"Government,Non-government\",\"Government,Non-government,Non-profit\",\"Government,Non-profit\",\"Non-government\",\"Non-government,Non-profit\",\"Non-profit\",null],\"y\":[95,64,16,4,2,2,2],\"type\":\"bar\"},{\"name\":\"membdrug\",\"text\":[137.0,52.0],\"visible\":false,\"x\":[\"No\",\"Yes\",null],\"y\":[137,52],\"type\":\"bar\"},{\"name\":\"othboar\",\"text\":[142.0,48.0],\"visible\":false,\"x\":[\"No\",\"Yes\",null],\"y\":[142,48],\"type\":\"bar\"},{\"name\":\"leadoth\",\"text\":[48.0,36.0],\"visible\":false,\"x\":[\"No\",\"Yes\",null],\"y\":[48,36],\"type\":\"bar\"},{\"name\":\"edu\",\"text\":[69.0,61.0,16.0,10.0,10.0,4.0,3.0,2.0],\"visible\":false,\"x\":[\"Associate college (2-year)\",\"College degree (4-year)\",\"Doctoral degree\",\"High school graduate (high school diploma or equivalent including GED)\",\"Less than high school degree\",\"Master's degree\",\"Professional degree (JD, MD)\",\"Some college but no degree\",null],\"y\":[69,61,16,10,10,4,3,2],\"type\":\"bar\"},{\"name\":\"hisp\",\"text\":[168.0,7.0],\"visible\":false,\"x\":[\"No\",\"Yes\",null],\"y\":[168,7],\"type\":\"bar\"},{\"name\":\"race\",\"text\":[163.0,4.0,2.0,1.0,1.0,1.0,1.0,1.0,1.0],\"visible\":false,\"x\":[\"Asian\",\"Black or African American\",\"Black or African American,American Indian or Alaska Native\",\"Native Hawaiian or Pacific Islander,Other\",\"Other\",\"White\",\"White,American Indian or Alaska Native\",\"White,Black or African American\",\"White,Other\",null],\"y\":[163,4,2,1,1,1,1,1,1],\"type\":\"bar\"},{\"name\":\"sex\",\"text\":[123.0,51.0,1.0],\"visible\":false,\"x\":[\"Female\",\"Male\",\"Other\",null],\"y\":[123,51,1],\"type\":\"bar\"},{\"name\":\"age_group\",\"text\":[77.0,46.0,34.0,9.0,4.0],\"visible\":false,\"x\":[\"18-25\",\"25-40\",\"40-55\",\"55-70\",\"70+\",null],\"y\":[77,46,34,9,4],\"type\":\"bar\"},{\"name\":\"hoursvol_group\",\"text\":[35.0,30.0,21.0,19.0,15.0,14.0],\"visible\":false,\"x\":[\"0-5\",\"5-10\",\"10-15\",\"15-20\",\"20-50\",\"50+\",null],\"y\":[35,30,21,19,15,14],\"type\":\"bar\"},{\"name\":\"netorgnum_group\",\"text\":[45.0,43.0,27.0,24.0,18.0,4.0],\"visible\":false,\"x\":[\"0-5\",\"5-10\",\"10-15\",\"15-20\",\"20-50\",\"50+\",null],\"y\":[45,43,27,24,18,4],\"type\":\"bar\"},{\"name\":\"netoutorg_group\",\"text\":[61.0,36.0,13.0,8.0,7.0,4.0],\"visible\":false,\"x\":[\"0-5\",\"5-10\",\"10-15\",\"15-20\",\"20-50\",\"50+\",null],\"y\":[61,36,13,8,7,4],\"type\":\"bar\"},{\"name\":\"internetfreq_group\",\"text\":[30.0,24.0,21.0,18.0,14.0,10.0,9.0,6.0,1.0],\"visible\":false,\"x\":[\"0-10\",\"10-20\",\"20-30\",\"30-40\",\"40-50\",\"50-60\",\"60-70\",\"70-80\",\"80+\",null],\"y\":[30,24,21,18,14,10,9,6,1],\"type\":\"bar\"},{\"name\":\"cabsat_1\",\"text\":[12.0,11.0,8.0],\"visible\":false,\"x\":[\"Extremely Satisfied\",\"Neither Satisfied or Not Satisfied\",\"Somewhat Satisfied\",null],\"y\":[12,11,8],\"type\":\"bar\"},{\"name\":\"cabsat_2\",\"text\":[14.0,10.0,7.0],\"visible\":false,\"x\":[\"Extremely Satisfied\",\"Neither Satisfied or Not Satisfied\",\"Somewhat Satisfied\",null],\"y\":[14,10,7],\"type\":\"bar\"},{\"name\":\"cabsat_3\",\"text\":[19.0,7.0,5.0],\"visible\":false,\"x\":[\"Extremely Satisfied\",\"Neither Satisfied or Not Satisfied\",\"Somewhat Satisfied\",null],\"y\":[19,7,5],\"type\":\"bar\"},{\"name\":\"cabactivity_1\",\"text\":[13.0,8.0,7.0,3.0],\"visible\":false,\"x\":[\"Neither agree nor disagree\",\"Somewhat agree\",\"Somewhat disagree\",\"Strongly agree\",null],\"y\":[13,8,7,3],\"type\":\"bar\"},{\"name\":\"cabactivity_2\",\"text\":[11.0,9.0,7.0,4.0],\"visible\":false,\"x\":[\"Neither agree nor disagree\",\"Somewhat agree\",\"Somewhat disagree\",\"Strongly agree\",null],\"y\":[11,9,7,4],\"type\":\"bar\"},{\"name\":\"cabactivity_3\",\"text\":[10.0,9.0,6.0,5.0,1.0],\"visible\":false,\"x\":[\"Neither agree nor disagree\",\"Somewhat agree\",\"Somewhat disagree\",\"Strongly agree\",\"Strongly disagree\",null],\"y\":[10,9,6,5,1],\"type\":\"bar\"}],                        {\"template\":{\"data\":{\"bar\":[{\"error_x\":{\"color\":\"#2a3f5f\"},\"error_y\":{\"color\":\"#2a3f5f\"},\"marker\":{\"line\":{\"color\":\"#E5ECF6\",\"width\":0.5},\"pattern\":{\"fillmode\":\"overlay\",\"size\":10,\"solidity\":0.2}},\"type\":\"bar\"}],\"barpolar\":[{\"marker\":{\"line\":{\"color\":\"#E5ECF6\",\"width\":0.5},\"pattern\":{\"fillmode\":\"overlay\",\"size\":10,\"solidity\":0.2}},\"type\":\"barpolar\"}],\"carpet\":[{\"aaxis\":{\"endlinecolor\":\"#2a3f5f\",\"gridcolor\":\"white\",\"linecolor\":\"white\",\"minorgridcolor\":\"white\",\"startlinecolor\":\"#2a3f5f\"},\"baxis\":{\"endlinecolor\":\"#2a3f5f\",\"gridcolor\":\"white\",\"linecolor\":\"white\",\"minorgridcolor\":\"white\",\"startlinecolor\":\"#2a3f5f\"},\"type\":\"carpet\"}],\"choropleth\":[{\"colorbar\":{\"outlinewidth\":0,\"ticks\":\"\"},\"type\":\"choropleth\"}],\"contour\":[{\"colorbar\":{\"outlinewidth\":0,\"ticks\":\"\"},\"colorscale\":[[0.0,\"#0d0887\"],[0.1111111111111111,\"#46039f\"],[0.2222222222222222,\"#7201a8\"],[0.3333333333333333,\"#9c179e\"],[0.4444444444444444,\"#bd3786\"],[0.5555555555555556,\"#d8576b\"],[0.6666666666666666,\"#ed7953\"],[0.7777777777777778,\"#fb9f3a\"],[0.8888888888888888,\"#fdca26\"],[1.0,\"#f0f921\"]],\"type\":\"contour\"}],\"contourcarpet\":[{\"colorbar\":{\"outlinewidth\":0,\"ticks\":\"\"},\"type\":\"contourcarpet\"}],\"heatmap\":[{\"colorbar\":{\"outlinewidth\":0,\"ticks\":\"\"},\"colorscale\":[[0.0,\"#0d0887\"],[0.1111111111111111,\"#46039f\"],[0.2222222222222222,\"#7201a8\"],[0.3333333333333333,\"#9c179e\"],[0.4444444444444444,\"#bd3786\"],[0.5555555555555556,\"#d8576b\"],[0.6666666666666666,\"#ed7953\"],[0.7777777777777778,\"#fb9f3a\"],[0.8888888888888888,\"#fdca26\"],[1.0,\"#f0f921\"]],\"type\":\"heatmap\"}],\"heatmapgl\":[{\"colorbar\":{\"outlinewidth\":0,\"ticks\":\"\"},\"colorscale\":[[0.0,\"#0d0887\"],[0.1111111111111111,\"#46039f\"],[0.2222222222222222,\"#7201a8\"],[0.3333333333333333,\"#9c179e\"],[0.4444444444444444,\"#bd3786\"],[0.5555555555555556,\"#d8576b\"],[0.6666666666666666,\"#ed7953\"],[0.7777777777777778,\"#fb9f3a\"],[0.8888888888888888,\"#fdca26\"],[1.0,\"#f0f921\"]],\"type\":\"heatmapgl\"}],\"histogram\":[{\"marker\":{\"pattern\":{\"fillmode\":\"overlay\",\"size\":10,\"solidity\":0.2}},\"type\":\"histogram\"}],\"histogram2d\":[{\"colorbar\":{\"outlinewidth\":0,\"ticks\":\"\"},\"colorscale\":[[0.0,\"#0d0887\"],[0.1111111111111111,\"#46039f\"],[0.2222222222222222,\"#7201a8\"],[0.3333333333333333,\"#9c179e\"],[0.4444444444444444,\"#bd3786\"],[0.5555555555555556,\"#d8576b\"],[0.6666666666666666,\"#ed7953\"],[0.7777777777777778,\"#fb9f3a\"],[0.8888888888888888,\"#fdca26\"],[1.0,\"#f0f921\"]],\"type\":\"histogram2d\"}],\"histogram2dcontour\":[{\"colorbar\":{\"outlinewidth\":0,\"ticks\":\"\"},\"colorscale\":[[0.0,\"#0d0887\"],[0.1111111111111111,\"#46039f\"],[0.2222222222222222,\"#7201a8\"],[0.3333333333333333,\"#9c179e\"],[0.4444444444444444,\"#bd3786\"],[0.5555555555555556,\"#d8576b\"],[0.6666666666666666,\"#ed7953\"],[0.7777777777777778,\"#fb9f3a\"],[0.8888888888888888,\"#fdca26\"],[1.0,\"#f0f921\"]],\"type\":\"histogram2dcontour\"}],\"mesh3d\":[{\"colorbar\":{\"outlinewidth\":0,\"ticks\":\"\"},\"type\":\"mesh3d\"}],\"parcoords\":[{\"line\":{\"colorbar\":{\"outlinewidth\":0,\"ticks\":\"\"}},\"type\":\"parcoords\"}],\"pie\":[{\"automargin\":true,\"type\":\"pie\"}],\"scatter\":[{\"marker\":{\"colorbar\":{\"outlinewidth\":0,\"ticks\":\"\"}},\"type\":\"scatter\"}],\"scatter3d\":[{\"line\":{\"colorbar\":{\"outlinewidth\":0,\"ticks\":\"\"}},\"marker\":{\"colorbar\":{\"outlinewidth\":0,\"ticks\":\"\"}},\"type\":\"scatter3d\"}],\"scattercarpet\":[{\"marker\":{\"colorbar\":{\"outlinewidth\":0,\"ticks\":\"\"}},\"type\":\"scattercarpet\"}],\"scattergeo\":[{\"marker\":{\"colorbar\":{\"outlinewidth\":0,\"ticks\":\"\"}},\"type\":\"scattergeo\"}],\"scattergl\":[{\"marker\":{\"colorbar\":{\"outlinewidth\":0,\"ticks\":\"\"}},\"type\":\"scattergl\"}],\"scattermapbox\":[{\"marker\":{\"colorbar\":{\"outlinewidth\":0,\"ticks\":\"\"}},\"type\":\"scattermapbox\"}],\"scatterpolar\":[{\"marker\":{\"colorbar\":{\"outlinewidth\":0,\"ticks\":\"\"}},\"type\":\"scatterpolar\"}],\"scatterpolargl\":[{\"marker\":{\"colorbar\":{\"outlinewidth\":0,\"ticks\":\"\"}},\"type\":\"scatterpolargl\"}],\"scatterternary\":[{\"marker\":{\"colorbar\":{\"outlinewidth\":0,\"ticks\":\"\"}},\"type\":\"scatterternary\"}],\"surface\":[{\"colorbar\":{\"outlinewidth\":0,\"ticks\":\"\"},\"colorscale\":[[0.0,\"#0d0887\"],[0.1111111111111111,\"#46039f\"],[0.2222222222222222,\"#7201a8\"],[0.3333333333333333,\"#9c179e\"],[0.4444444444444444,\"#bd3786\"],[0.5555555555555556,\"#d8576b\"],[0.6666666666666666,\"#ed7953\"],[0.7777777777777778,\"#fb9f3a\"],[0.8888888888888888,\"#fdca26\"],[1.0,\"#f0f921\"]],\"type\":\"surface\"}],\"table\":[{\"cells\":{\"fill\":{\"color\":\"#EBF0F8\"},\"line\":{\"color\":\"white\"}},\"header\":{\"fill\":{\"color\":\"#C8D4E3\"},\"line\":{\"color\":\"white\"}},\"type\":\"table\"}]},\"layout\":{\"annotationdefaults\":{\"arrowcolor\":\"#2a3f5f\",\"arrowhead\":0,\"arrowwidth\":1},\"autotypenumbers\":\"strict\",\"coloraxis\":{\"colorbar\":{\"outlinewidth\":0,\"ticks\":\"\"}},\"colorscale\":{\"diverging\":[[0,\"#8e0152\"],[0.1,\"#c51b7d\"],[0.2,\"#de77ae\"],[0.3,\"#f1b6da\"],[0.4,\"#fde0ef\"],[0.5,\"#f7f7f7\"],[0.6,\"#e6f5d0\"],[0.7,\"#b8e186\"],[0.8,\"#7fbc41\"],[0.9,\"#4d9221\"],[1,\"#276419\"]],\"sequential\":[[0.0,\"#0d0887\"],[0.1111111111111111,\"#46039f\"],[0.2222222222222222,\"#7201a8\"],[0.3333333333333333,\"#9c179e\"],[0.4444444444444444,\"#bd3786\"],[0.5555555555555556,\"#d8576b\"],[0.6666666666666666,\"#ed7953\"],[0.7777777777777778,\"#fb9f3a\"],[0.8888888888888888,\"#fdca26\"],[1.0,\"#f0f921\"]],\"sequentialminus\":[[0.0,\"#0d0887\"],[0.1111111111111111,\"#46039f\"],[0.2222222222222222,\"#7201a8\"],[0.3333333333333333,\"#9c179e\"],[0.4444444444444444,\"#bd3786\"],[0.5555555555555556,\"#d8576b\"],[0.6666666666666666,\"#ed7953\"],[0.7777777777777778,\"#fb9f3a\"],[0.8888888888888888,\"#fdca26\"],[1.0,\"#f0f921\"]]},\"colorway\":[\"#636efa\",\"#EF553B\",\"#00cc96\",\"#ab63fa\",\"#FFA15A\",\"#19d3f3\",\"#FF6692\",\"#B6E880\",\"#FF97FF\",\"#FECB52\"],\"font\":{\"color\":\"#2a3f5f\"},\"geo\":{\"bgcolor\":\"white\",\"lakecolor\":\"white\",\"landcolor\":\"#E5ECF6\",\"showlakes\":true,\"showland\":true,\"subunitcolor\":\"white\"},\"hoverlabel\":{\"align\":\"left\"},\"hovermode\":\"closest\",\"mapbox\":{\"style\":\"light\"},\"paper_bgcolor\":\"white\",\"plot_bgcolor\":\"#E5ECF6\",\"polar\":{\"angularaxis\":{\"gridcolor\":\"white\",\"linecolor\":\"white\",\"ticks\":\"\"},\"bgcolor\":\"#E5ECF6\",\"radialaxis\":{\"gridcolor\":\"white\",\"linecolor\":\"white\",\"ticks\":\"\"}},\"scene\":{\"xaxis\":{\"backgroundcolor\":\"#E5ECF6\",\"gridcolor\":\"white\",\"gridwidth\":2,\"linecolor\":\"white\",\"showbackground\":true,\"ticks\":\"\",\"zerolinecolor\":\"white\"},\"yaxis\":{\"backgroundcolor\":\"#E5ECF6\",\"gridcolor\":\"white\",\"gridwidth\":2,\"linecolor\":\"white\",\"showbackground\":true,\"ticks\":\"\",\"zerolinecolor\":\"white\"},\"zaxis\":{\"backgroundcolor\":\"#E5ECF6\",\"gridcolor\":\"white\",\"gridwidth\":2,\"linecolor\":\"white\",\"showbackground\":true,\"ticks\":\"\",\"zerolinecolor\":\"white\"}},\"shapedefaults\":{\"line\":{\"color\":\"#2a3f5f\"}},\"ternary\":{\"aaxis\":{\"gridcolor\":\"white\",\"linecolor\":\"white\",\"ticks\":\"\"},\"baxis\":{\"gridcolor\":\"white\",\"linecolor\":\"white\",\"ticks\":\"\"},\"bgcolor\":\"#E5ECF6\",\"caxis\":{\"gridcolor\":\"white\",\"linecolor\":\"white\",\"ticks\":\"\"}},\"title\":{\"x\":0.05},\"xaxis\":{\"automargin\":true,\"gridcolor\":\"white\",\"linecolor\":\"white\",\"ticks\":\"\",\"title\":{\"standoff\":15},\"zerolinecolor\":\"white\",\"zerolinewidth\":2},\"yaxis\":{\"automargin\":true,\"gridcolor\":\"white\",\"linecolor\":\"white\",\"ticks\":\"\",\"title\":{\"standoff\":15},\"zerolinecolor\":\"white\",\"zerolinewidth\":2}}},\"title\":{\"font\":{\"size\":22},\"text\":\"Participant Information\",\"x\":0.5},\"showlegend\":false,\"margin\":{\"l\":20,\"r\":20,\"t\":60,\"b\":20},\"updatemenus\":[{\"active\":0,\"buttons\":[{\"args\":[{\"visible\":[true,false,false,false,false,false,false,false,false,false,false,false,false,false,false,false,false,false,false,false]},{\"annotations\":[{\"showarrow\":false,\"text\":\"The first year the participants joined CAB\",\"font\":{\"size\":12},\"xref\":\"paper\",\"x\":1,\"yref\":\"paper\",\"y\":1.1,\"align\":\"right\"}]}],\"label\":\"join_yr\",\"method\":\"update\"},{\"args\":[{\"visible\":[false,true,false,false,false,false,false,false,false,false,false,false,false,false,false,false,false,false,false,false]},{\"annotations\":[{\"showarrow\":false,\"text\":\"Institutions the participants work with\",\"font\":{\"size\":12},\"xref\":\"paper\",\"x\":1,\"yref\":\"paper\",\"y\":1.1,\"align\":\"right\"}]}],\"label\":\"inst\",\"method\":\"update\"},{\"args\":[{\"visible\":[false,false,true,false,false,false,false,false,false,false,false,false,false,false,false,false,false,false,false,false]},{\"annotations\":[{\"showarrow\":false,\"text\":\"Are you a member of a drug board or coalition?\",\"font\":{\"size\":12},\"xref\":\"paper\",\"x\":1,\"yref\":\"paper\",\"y\":1.1,\"align\":\"right\"}]}],\"label\":\"membdrug\",\"method\":\"update\"},{\"args\":[{\"visible\":[false,false,false,true,false,false,false,false,false,false,false,false,false,false,false,false,false,false,false,false]},{\"annotations\":[{\"showarrow\":false,\"text\":\"Are you a member of other community boards?\",\"font\":{\"size\":12},\"xref\":\"paper\",\"x\":1,\"yref\":\"paper\",\"y\":1.1,\"align\":\"right\"}]}],\"label\":\"othboar\",\"method\":\"update\"},{\"args\":[{\"visible\":[false,false,false,false,true,false,false,false,false,false,false,false,false,false,false,false,false,false,false,false]},{\"annotations\":[{\"showarrow\":false,\"text\":\"Are you a leader of other community boards?\",\"font\":{\"size\":12},\"xref\":\"paper\",\"x\":1,\"yref\":\"paper\",\"y\":1.1,\"align\":\"right\"}]}],\"label\":\"leadoth\",\"method\":\"update\"},{\"args\":[{\"visible\":[false,false,false,false,false,true,false,false,false,false,false,false,false,false,false,false,false,false,false,false]},{\"annotations\":[{\"showarrow\":false,\"text\":\"Education level\",\"font\":{\"size\":12},\"xref\":\"paper\",\"x\":1,\"yref\":\"paper\",\"y\":1.1,\"align\":\"right\"}]}],\"label\":\"edu\",\"method\":\"update\"},{\"args\":[{\"visible\":[false,false,false,false,false,false,true,false,false,false,false,false,false,false,false,false,false,false,false,false]},{\"annotations\":[{\"showarrow\":false,\"text\":\"If hispanic or not\",\"font\":{\"size\":12},\"xref\":\"paper\",\"x\":1,\"yref\":\"paper\",\"y\":1.1,\"align\":\"right\"}]}],\"label\":\"hisp\",\"method\":\"update\"},{\"args\":[{\"visible\":[false,false,false,false,false,false,false,true,false,false,false,false,false,false,false,false,false,false,false,false]},{\"annotations\":[{\"showarrow\":false,\"text\":\"Race/Ethnicity\",\"font\":{\"size\":12},\"xref\":\"paper\",\"x\":1,\"yref\":\"paper\",\"y\":1.1,\"align\":\"right\"}]}],\"label\":\"race\",\"method\":\"update\"},{\"args\":[{\"visible\":[false,false,false,false,false,false,false,false,true,false,false,false,false,false,false,false,false,false,false,false]},{\"annotations\":[{\"showarrow\":false,\"text\":\"Sex/Gender\",\"font\":{\"size\":12},\"xref\":\"paper\",\"x\":1,\"yref\":\"paper\",\"y\":1.1,\"align\":\"right\"}]}],\"label\":\"sex\",\"method\":\"update\"},{\"args\":[{\"visible\":[false,false,false,false,false,false,false,false,false,true,false,false,false,false,false,false,false,false,false,false]},{\"annotations\":[{\"showarrow\":false,\"text\":\"Age group\",\"font\":{\"size\":12},\"xref\":\"paper\",\"x\":1,\"yref\":\"paper\",\"y\":1.1,\"align\":\"right\"}]}],\"label\":\"age_group\",\"method\":\"update\"},{\"args\":[{\"visible\":[false,false,false,false,false,false,false,false,false,false,true,false,false,false,false,false,false,false,false,false]},{\"annotations\":[{\"showarrow\":false,\"text\":\"How many hours the participants would be willing to volunteer duriing this year\",\"font\":{\"size\":12},\"xref\":\"paper\",\"x\":1,\"yref\":\"paper\",\"y\":1.1,\"align\":\"right\"}]}],\"label\":\"hoursvol_group\",\"method\":\"update\"},{\"args\":[{\"visible\":[false,false,false,false,false,false,false,false,false,false,false,true,false,false,false,false,false,false,false,false]},{\"annotations\":[{\"showarrow\":false,\"text\":\"How many organizations WITHIN the county do the participants typically work with\",\"font\":{\"size\":12},\"xref\":\"paper\",\"x\":1,\"yref\":\"paper\",\"y\":1.1,\"align\":\"right\"}]}],\"label\":\"netorgnum_group\",\"method\":\"update\"},{\"args\":[{\"visible\":[false,false,false,false,false,false,false,false,false,false,false,false,true,false,false,false,false,false,false,false]},{\"annotations\":[{\"showarrow\":false,\"text\":\"How many organizations OUTSIDE the county do the participants typically work with\",\"font\":{\"size\":12},\"xref\":\"paper\",\"x\":1,\"yref\":\"paper\",\"y\":1.1,\"align\":\"right\"}]}],\"label\":\"netoutorg_group\",\"method\":\"update\"},{\"args\":[{\"visible\":[false,false,false,false,false,false,false,false,false,false,false,false,false,true,false,false,false,false,false,false]},{\"annotations\":[{\"showarrow\":false,\"text\":\"How many hours a week do the participants use the Internet\",\"font\":{\"size\":12},\"xref\":\"paper\",\"x\":1,\"yref\":\"paper\",\"y\":1.1,\"align\":\"right\"}]}],\"label\":\"internetfreq_group\",\"method\":\"update\"},{\"args\":[{\"visible\":[false,false,false,false,false,false,false,false,false,false,false,false,false,false,true,false,false,false,false,false]},{\"annotations\":[{\"showarrow\":false,\"text\":\"Satisfaction with being involved in CAB\",\"font\":{\"size\":12},\"xref\":\"paper\",\"x\":1,\"yref\":\"paper\",\"y\":1.1,\"align\":\"right\"}]}],\"label\":\"cabsat_1\",\"method\":\"update\"},{\"args\":[{\"visible\":[false,false,false,false,false,false,false,false,false,false,false,false,false,false,false,true,false,false,false,false]},{\"annotations\":[{\"showarrow\":false,\"text\":\"Satisfaction with Trimonthly Meetings\",\"font\":{\"size\":12},\"xref\":\"paper\",\"x\":1,\"yref\":\"paper\",\"y\":1.1,\"align\":\"right\"}]}],\"label\":\"cabsat_2\",\"method\":\"update\"},{\"args\":[{\"visible\":[false,false,false,false,false,false,false,false,false,false,false,false,false,false,false,false,true,false,false,false]},{\"annotations\":[{\"showarrow\":false,\"text\":\"Satisfaction with frequency of contacts (# of emails and phone calls you are currently receiving from us) \",\"font\":{\"size\":12},\"xref\":\"paper\",\"x\":1,\"yref\":\"paper\",\"y\":1.1,\"align\":\"right\"}]}],\"label\":\"cabsat_3\",\"method\":\"update\"},{\"args\":[{\"visible\":[false,false,false,false,false,false,false,false,false,false,false,false,false,false,false,false,false,true,false,false]},{\"annotations\":[{\"showarrow\":false,\"text\":\"I feel that I'm knowledgeable about the goals of CAB\",\"font\":{\"size\":12},\"xref\":\"paper\",\"x\":1,\"yref\":\"paper\",\"y\":1.1,\"align\":\"right\"}]}],\"label\":\"cabactivity_1\",\"method\":\"update\"},{\"args\":[{\"visible\":[false,false,false,false,false,false,false,false,false,false,false,false,false,false,false,false,false,false,true,false]},{\"annotations\":[{\"showarrow\":false,\"text\":\"I feel that I'm knowledgeable about the activities of CAB\",\"font\":{\"size\":12},\"xref\":\"paper\",\"x\":1,\"yref\":\"paper\",\"y\":1.1,\"align\":\"right\"}]}],\"label\":\"cabactivity_2\",\"method\":\"update\"},{\"args\":[{\"visible\":[false,false,false,false,false,false,false,false,false,false,false,false,false,false,false,false,false,false,false,true]},{\"annotations\":[{\"showarrow\":false,\"text\":\"I feel that I need more information about the CAB in general\",\"font\":{\"size\":12},\"xref\":\"paper\",\"x\":1,\"yref\":\"paper\",\"y\":1.1,\"align\":\"right\"}]}],\"label\":\"cabactivity_3\",\"method\":\"update\"}],\"type\":\"dropdown\",\"x\":1,\"xanchor\":\"right\",\"y\":1.1,\"yanchor\":\"bottom\"}],\"paper_bgcolor\":\"aliceblue\"},                        {\"responsive\": true}                    ).then(function(){\n",
              "                            \n",
              "var gd = document.getElementById('beae48cc-90ac-493e-aa16-062624dd82ae');\n",
              "var x = new MutationObserver(function (mutations, observer) {{\n",
              "        var display = window.getComputedStyle(gd).display;\n",
              "        if (!display || display === 'none') {{\n",
              "            console.log([gd, 'removed!']);\n",
              "            Plotly.purge(gd);\n",
              "            observer.disconnect();\n",
              "        }}\n",
              "}});\n",
              "\n",
              "// Listen for the removal of the full notebook cells\n",
              "var notebookContainer = gd.closest('#notebook-container');\n",
              "if (notebookContainer) {{\n",
              "    x.observe(notebookContainer, {childList: true});\n",
              "}}\n",
              "\n",
              "// Listen for the clearing of the current output cell\n",
              "var outputEl = gd.closest('.output');\n",
              "if (outputEl) {{\n",
              "    x.observe(outputEl, {childList: true});\n",
              "}}\n",
              "\n",
              "                        })                };                            </script>        </div>\n",
              "</body>\n",
              "</html>"
            ]
          },
          "metadata": {}
        }
      ]
    },
    {
      "cell_type": "markdown",
      "source": [
        "### Key performance variables figure"
      ],
      "metadata": {
        "id": "mfrGxYMi4CCm"
      }
    },
    {
      "cell_type": "markdown",
      "source": [
        "This displays the data distribution of some key questions asked each year"
      ],
      "metadata": {
        "id": "8UV063F1jAZA"
      }
    },
    {
      "cell_type": "code",
      "source": [
        "# get text response measurement\n",
        "measurement1 = result.loc[:, result.columns.str.contains(\"issuehelp_|cdrugprob_|trust_|cad_\")].drop(['issuehelp_14_TEXT', 'issuehelp_14_TEXT_TEXT'], axis=1)\n",
        "measurement1[['year','state']] = result[['year','state']].values.tolist()\n",
        "measurement1 = measurement1.reset_index().drop(['index'], axis =1).replace(['Click to write Scale Point 2', 'Click to write Scale Point 3', 'Click to write Scale Point 4'], 'Not Applicable')\n",
        "\n",
        "# get numerical response measurement\n",
        "measurement2 = num.loc[:, num.columns.str.contains(\"_avg|_ttl\")]\n",
        "measurement2[['year','state']] = num[['year','state']].values.tolist()\n",
        "measurement2 = measurement2.reset_index().drop(['index'], axis =1)\n",
        "\n",
        "# concat two responses for plotting\n",
        "measurement = pd.concat([measurement1, measurement2], axis = 1)\n",
        "measurement = measurement.loc[:, ~measurement.columns.duplicated()]"
      ],
      "metadata": {
        "id": "n3B3ED8MSbHV",
        "colab": {
          "base_uri": "https://localhost:8080/"
        },
        "outputId": "79c590a2-fb23-4350-ab52-333135cd7651"
      },
      "execution_count": null,
      "outputs": [
        {
          "output_type": "stream",
          "name": "stderr",
          "text": [
            "/usr/local/lib/python3.7/dist-packages/pandas/core/frame.py:3678: SettingWithCopyWarning:\n",
            "\n",
            "\n",
            "A value is trying to be set on a copy of a slice from a DataFrame.\n",
            "Try using .loc[row_indexer,col_indexer] = value instead\n",
            "\n",
            "See the caveats in the documentation: https://pandas.pydata.org/pandas-docs/stable/user_guide/indexing.html#returning-a-view-versus-a-copy\n",
            "\n"
          ]
        }
      ]
    },
    {
      "cell_type": "code",
      "source": [
        "# <br> means new line in plotly annotation\n",
        "# ordered by column\n",
        "note2 = ['issues pressing to the community where you live - Accessing healthcare for 2020 & 2021, Accessing in-person healthcare (starting 2022)<br>1=Community working to help, 2=Government working to help, 0=Not helping, 4=Not an issue, so irrelevant',# issuehelp_1\n",
        "        'issues pressing to the community where you live - Economy (whether it is problems with unemployment, housing, etc)<br>1=Community working to help, 2=Government working to help, 0=Not helping, 4=Not an issue, so irrelevant', # issuehelp_2\n",
        "        'issues pressing to the community where you live - Education<br>1=Community working to help, 2=Government working to help, 0=Not helping, 4=Not an issue, so irrelevant', # issuehelp_3\n",
        "        'issues pressing to the community where you live - Violence, including domestic abuse<br>1=Community working to help, 2=Government working to help, 0=Not helping, 4=Not an issue, so irrelevant', # issuehelp_4\n",
        "        'issues pressing to the community where you live - Drugs, including misuse of prescriptions or any kind of drugs<br>1=Community working to help, 2=Government working to help, 0=Not helping, 4=Not an issue, so irrelevant', # issuehelp_5\n",
        "        'issues pressing to the community where you live - Crime<br>1=Community working to help, 2=Government working to help, 0=Not helping, 4=Not an issue, so irrelevant', # issuehelp_6\n",
        "        'issues pressing to the community where you live - Mental health<br>1=Community working to help, 2=Government working to help, 0=Not helping, 4=Not an issue, so irrelevant', # issuehelp_7\n",
        "        'issues pressing to the community where you live - Homelessness<br>1=Community working to help, 2=Government working to help, 0=Not helping, 4=Not an issue, so irrelevant', # issuehelp_8\n",
        "        'issues pressing to the community where you live - Prejudice against people of different ethnic or racial groups<br>1=Community working to help, 2=Government working to help, 0=Not helping, 4=Not an issue, so irrelevant', # issuehelp_9\n",
        "        'issues pressing to the community where you live - Prejudice against LGBTQ+ people<br>1=Community working to help, 2=Government working to help, 0=Not helping, 4=Not an issue, so irrelevant', # issuehelp_10\n",
        "        'issues pressing to the community where you live - Depression, hopelessness, or despair<br>1=Community working to help, 2=Government working to help, 0=Not helping, 4=Not an issue, so irrelevant', # issuehelp_11\n",
        "        'issues pressing to the community where you live - Use of alcohol<br>1=Community working to help, 2=Government working to help, 0=Not helping, 4=Not an issue, so irrelevant', # issuehelp_12\n",
        "        'issues pressing to the community where you live - Deteriorating traditional family values<br>1=Community working to help, 2=Government working to help, 0=Not helping, 4=Not an issue, so irrelevant', # issuehelp_13\n",
        "        'A key issue not listed in the survey (needs to check the free text response)', # issuehelp_14 (free text response)\n",
        "        'issues pressing to the community where you live - Accessing online healthcare (starting 2022)<br>1=Community working to help, 2=Government working to help, 0=Not helping, 4=Not an issue, so irrelevant', # issuehelp_15\n",
        "        'issues pressing to the community where you live - Prejudice against people who use drugs (starting 2022)<br>1=Community working to help, 2=Government working to help, 0=Not helping, 4=Not an issue, so irrelevant', # issuehelp_16\n",
        "        'issues pressing to the community where you live - Misleading/incorrect health information (starting 2022)<br>1=Community working to help, 2=Government working to help, 0=Not helping, 4=Not an issue, so irrelevant', # issuehelp_17\n",
        "         \n",
        "        'Marijuana (\"pot\", \"weed\")<br>0=Not common in my community, 1=Common in my community', # cdrugprob_1\n",
        "        'Amphetamines (prescription stimulants like Ritalin, Adderal)<br>0=Not common in my community, 1=Common in my community', # cdrugprob_2\n",
        "        'Methamphetamine (\"speed\", \"meth\")<br>0=Not common in my community, 1=Common in my community', # cdrugprob_3\n",
        "        'Cocaine<br>0=Not common in my community, 1=Common in my community', # cdrugprob_4\n",
        "        'Prescription Opioids for pain (like Oxycontin, Vicodin, Norco, Percocet, others)<br>0=Not common in my community, 1=Common in my community', # cdrugprob_5\n",
        "        'Heroin<br>0=Not common in my community, 1=Common in my community', # cdrugprob_6\n",
        "        'Fentanyl<br>0=Not common in my community, 1=Common in my community', # cdrugprob_7\n",
        "        'Non-opioid prescription pills for pain (like gabapentin [Neurontin], duloxetine [Cymbalta], venlafaxine [Effexor])<br>0=Not common in my community, 1=Common in my community', # cdrugprob_8\n",
        "        'Hallucinogens (\"LSD\", \"psilocybin mushrooms\", \"DMT\")<br>0=Not common in my community, 1=Common in my community', # cdrugprob_9\n",
        "        'Thinner orr other inhalents or solvents, suchas glue<br>0=Not common in my community, 1=Common in my community', # cdrugprob_10\n",
        "        'GHB<br>0=Not common in my community, 1=Common in my community', # cdrugprob_11\n",
        "        'Prescription pills for anxiety (like diazepam [Valium], lorazepam, alprazolam)<br>0=Not common in my community, 1=Common in my community', # cdrugprob_12\n",
        "        'Cigarettes<br>0=Not common in my community, 1=Common in my community', # cdrugprob_13\n",
        "        'Chewing Tobacco<br>0=Not common in my community, 1=Common in my community', # cdrugprob_14\n",
        "        'Nicotine Vaping products<br>0=Not common in my community, 1=Common in my community', # cdrugprob_15\n",
        "        'THC (psychoactive compound of Marijuana) Vaping products<br>0=Not common in my community, 1=Common in my community', # cdrugprob_16\n",
        "        'Ketamine (starting 2022)<br>0=Not common in my community, 1=Common in my community', # cdrugprob_17\n",
        "         \n",
        "        'organizations people in your community place the most trust in - Local government<br>1=No trust at all, 2=Very little trust, 3=They are neutral, 4=Some trust, 5=A great deal of trust', # trust_1\n",
        "        'organizations people in your community place the most trust in - Healthcare providers<br>1=No trust at all, 2=Very little trust, 3=They are neutral, 4=Some trust, 5=A great deal of trust', # trust_2\n",
        "        'organizations people in your community place the most trust in - Federal government<br>1=No trust at all, 2=Very little trust, 3=They are neutral, 4=Some trust, 5=A great deal of trust', # trust_3\n",
        "        'organizations people in your community place the most trust in - Federal government efforts to control and prevent the spread of disease, such as the Centers for Disease Control (CDC)<br>1=No trust at all, 2=Very little trust, 3=They are neutral, 4=Some trust, 5=A great deal of trust', # trust_4\n",
        "        'organizations people in your community place the most trust in - Religious organizations in the community<br>1=No trust at all, 2=Very little trust, 3=They are neutral, 4=Some trust, 5=A great deal of trust', # trust_5\n",
        "        'The types of sources and organizations that people in your community place the most trust in - Community organizations<br>1=No trust at all, 2=Very little trust, 3=They are neutral, 4=Some trust, 5=A great deal of trust', # trust_6\n",
        "         \n",
        "        'Most believe that people who have a substance use disorder are responsible for their problems<br>1=Strongly disagree, 2=Somewhat disagree, 3=Neither agree nor disagree, 4=Somewhat agree, 5=Strongly agree', # cad_1\n",
        "        'Most believe that people develop a substance use disorder because of their own choices<br>1=Strongly disagree, 2=Somewhat disagree, 3=Neither agree nor disagree, 4=Somewhat agree, 5=Strongly agree', # cad_2\n",
        "        'Most believe that people develop a substance use disorder because of circumstances beyond their control<br>1=Strongly disagree, 2=Somewhat disagree, 3=Neither agree nor disagree, 4=Somewhat agree, 5=Strongly agree', # cad_3\n",
        "        \n",
        "        'Calculate the total number of issues<br>1=Community working to help, 2=Government working to help, 0=Not helping, 4=Not an issue, so irrelevant', # issuehelp_ttl\n",
        "        'Calculate the total number of drug problem<br>0=Not common in my community, 1=Common in my community', # cdrugprob_ttl\n",
        "        'Calculate the level of trust to organizations<br>1=No trust at all, 2=Very little trust, 3=They are neutral, 4=Some trust, 5=A great deal of trust', # trust_avg\n",
        "        'Calculate the level of attitude toward drug use in the community<br>1=Strongly disagree, 2=Somewhat disagree, 3=Neither agree nor disagree, 4=Somewhat agree, 5=Strongly agree', # attdruguse_avg\n",
        "        'Calculate the level of stigma of people who use drugs<br>1=Strongly disagree, 2=Somewhat disagree, 3=Neither agree nor disagree, 4=Somewhat agree, 5=Strongly agree', #stigma_avg\n",
        "        'Calculate the level of alienation of people who use drugs<br>1=Strongly disagree, 2=Somewhat disagree, 3=Neither agree nor disagree, 4=Somewhat agree, 5=Strongly agree', #alienation_avg\n",
        "        'Calculate the level of community perceptions of people who use drugs<br>1=Strongly disagree, 2=Somewhat disagree, 3=Neither agree nor disagree, 4=Somewhat agree, 5=Strongly agree', #deval_avg\n",
        "        'Calculate the level of community perceptions of stigma of services for people who use drugs<br>1=Strongly disagree, 2=Somewhat disagree, 3=Neither agree nor disagree, 4=Somewhat agree, 5=Strongly agree', #pwudserv_avg\n",
        "        'Calculate the level of community perceptions of recovery for people who use drugs<br>1=Strongly disagree, 2=Somewhat disagree, 3=Neither agree nor disagree, 4=Somewhat agree, 5=Strongly agree' #pwudrecovery_avg\n",
        "        ]\n",
        "\n",
        "d2 = dict()\n",
        "\n",
        "# update for annotation\n",
        "for idx, value in enumerate(note2):\n",
        "    key = 'anno' + str(idx)\n",
        "    d2[key] = [dict(\n",
        "    showarrow=False,\n",
        "    text=value,\n",
        "    font=dict(size=12), \n",
        "    xref='paper',\n",
        "    x=1,\n",
        "    yref='paper',\n",
        "    y=1.1,\n",
        "    align = 'right'\n",
        "    )]"
      ],
      "metadata": {
        "id": "uEm6Jm6NK_A8"
      },
      "execution_count": null,
      "outputs": []
    },
    {
      "cell_type": "code",
      "source": [
        "fig3 = go.Figure()\n",
        "\n",
        "buttons3 = []\n",
        "\n",
        "for col_name in measurement1.set_index(['year','state']).columns.to_list():\n",
        "  ## add traces\n",
        "  fig3.add_trace(go.Pie(\n",
        "            values=measurement1.set_index(['year','state'])[col_name].value_counts(), \n",
        "            labels=measurement1.set_index(['year','state'])[col_name].value_counts().index.tolist(),\n",
        "            textinfo='label+percent',\n",
        "            visible=False,\n",
        "            )\n",
        "  )\n",
        "\n",
        "for col_name in measurement2.set_index(['year','state']).columns:\n",
        "  ## add traces\n",
        "  fig3.add_trace(go.Box(\n",
        "            y=measurement2.set_index(['year','state'])[col_name].values.tolist(),\n",
        "            text=measurement2.set_index(['year','state'])[col_name].values.tolist(),  \n",
        "            name=col_name,\n",
        "    boxpoints='all',\n",
        "    jitter=0.3,\n",
        "    marker = dict(\n",
        "        color = 'rgb(214,12,140)',\n",
        "    ),\n",
        "            visible=False\n",
        "            )\n",
        "        )\n",
        "\n",
        "for i, column in enumerate(measurement.set_index(['year','state']).columns):\n",
        "  args = [False] * len(measurement.set_index(['year','state']).columns)\n",
        "  args[i] = True\n",
        "\n",
        "  button3 = dict(label = column,\n",
        "                  method = \"update\",\n",
        "                  args=[{\"visible\": args},\n",
        "                        {\"annotations\": list(d2.values())[i]}])\n",
        "  buttons3.append(button3)\n",
        "\n",
        "fig3.update_layout(\n",
        "    title_text=\"Key Measurement\",\n",
        "    title_x=0.5,\n",
        "    showlegend=False,\n",
        "    title_font_size=22\n",
        ") \n",
        "\n",
        "fig3.update_layout(\n",
        "    updatemenus=[dict(active=0,\n",
        "                      type=\"dropdown\",\n",
        "                    buttons=buttons3,\n",
        "                    x = 1,\n",
        "                    y = 1.1,\n",
        "                    xanchor = 'right',\n",
        "                    yanchor = 'bottom'\n",
        "                )], \n",
        "    margin=dict(l=20, r=20, t=60, b=20),#setup the margin\n",
        "    paper_bgcolor=\"aliceblue\", #setup the background color\n",
        ")\n",
        "\n",
        "fig3.show()"
      ],
      "metadata": {
        "colab": {
          "base_uri": "https://localhost:8080/"
        },
        "id": "YldcGIi37BtR",
        "outputId": "15953286-93b7-4cb2-83ce-34333e1aa99e"
      },
      "execution_count": null,
      "outputs": [
        {
          "output_type": "display_data",
          "data": {
            "text/html": [
              "<html>\n",
              "<head><meta charset=\"utf-8\" /></head>\n",
              "<body>\n",
              "    <div>            <script src=\"https://cdnjs.cloudflare.com/ajax/libs/mathjax/2.7.5/MathJax.js?config=TeX-AMS-MML_SVG\"></script><script type=\"text/javascript\">if (window.MathJax) {MathJax.Hub.Config({SVG: {font: \"STIX-Web\"}});}</script>                <script type=\"text/javascript\">window.PlotlyConfig = {MathJaxConfig: 'local'};</script>\n",
              "        <script src=\"https://cdn.plot.ly/plotly-2.8.3.min.js\"></script>                <div id=\"94ca23a2-0d5e-436b-9f44-7ce3fcdb3f2f\" class=\"plotly-graph-div\" style=\"height:525px; width:100%;\"></div>            <script type=\"text/javascript\">                                    window.PLOTLYENV=window.PLOTLYENV || {};                                    if (document.getElementById(\"94ca23a2-0d5e-436b-9f44-7ce3fcdb3f2f\")) {                    Plotly.newPlot(                        \"94ca23a2-0d5e-436b-9f44-7ce3fcdb3f2f\",                        [{\"labels\":[\"Not Applicable\",\"Community working to help\",\"Not an issue, so irrelevant\",\"Community working to help,Government working to help\",\"Not helping\",\"Government working to help\"],\"textinfo\":\"label+percent\",\"values\":[92,69,7,7,6,1],\"visible\":false,\"type\":\"pie\"},{\"labels\":[\"Not Applicable\",\"Community working to help\",\"Community working to help,Government working to help\",\"Not helping\",\"Government working to help\"],\"textinfo\":\"label+percent\",\"values\":[113,48,11,5,3],\"visible\":false,\"type\":\"pie\"},{\"labels\":[\"Not Applicable\",\"Community working to help\",\"Community working to help,Government working to help\",\"Not helping\",\"Not an issue, so irrelevant\",\"Government working to help\"],\"textinfo\":\"label+percent\",\"values\":[107,53,14,2,2,2],\"visible\":false,\"type\":\"pie\"},{\"labels\":[\"Not Applicable\",\"Community working to help\",\"Not helping\",\"Community working to help,Government working to help\",\"Government working to help\",\"Not an issue, so irrelevant\",\"Community working to help,Not helping\"],\"textinfo\":\"label+percent\",\"values\":[81,80,7,7,3,1,1],\"visible\":false,\"type\":\"pie\"},{\"labels\":[\"Community working to help\",\"Not Applicable\",\"Community working to help,Government working to help\",\"Not helping\",\"Community working to help,Not helping\"],\"textinfo\":\"label+percent\",\"values\":[100,59,17,4,1],\"visible\":false,\"type\":\"pie\"},{\"labels\":[\"Not Applicable\",\"Community working to help\",\"Community working to help,Government working to help\",\"Government working to help\",\"Not helping\",\"Not an issue, so irrelevant\"],\"textinfo\":\"label+percent\",\"values\":[128,24,9,9,6,2],\"visible\":false,\"type\":\"pie\"},{\"labels\":[\"Community working to help\",\"Not Applicable\",\"Community working to help,Government working to help\",\"Not helping\",\"Community working to help,Not helping\"],\"textinfo\":\"label+percent\",\"values\":[99,62,11,7,1],\"visible\":false,\"type\":\"pie\"},{\"labels\":[\"Not Applicable\",\"Community working to help\",\"Not helping\",\"Community working to help,Government working to help\",\"Not an issue, so irrelevant\",\"Government working to help\"],\"textinfo\":\"label+percent\",\"values\":[86,76,10,4,2,1],\"visible\":false,\"type\":\"pie\"},{\"labels\":[\"Not Applicable\",\"Community working to help\",\"Not helping\",\"Community working to help,Government working to help\",\"Not an issue, so irrelevant\"],\"textinfo\":\"label+percent\",\"values\":[111,45,15,4,4],\"visible\":false,\"type\":\"pie\"},{\"labels\":[\"Not Applicable\",\"Community working to help\",\"Not helping\",\"Not an issue, so irrelevant\",\"Community working to help,Government working to help\"],\"textinfo\":\"label+percent\",\"values\":[117,40,15,4,2],\"visible\":false,\"type\":\"pie\"},{\"labels\":[\"Community working to help\",\"Not Applicable\",\"Community working to help,Government working to help\",\"Not helping\"],\"textinfo\":\"label+percent\",\"values\":[92,71,10,7],\"visible\":false,\"type\":\"pie\"},{\"labels\":[\"Community working to help\",\"Not Applicable\",\"Not helping\",\"Community working to help,Government working to help\",\"Community working to help,Not helping\"],\"textinfo\":\"label+percent\",\"values\":[94,64,13,8,1],\"visible\":false,\"type\":\"pie\"},{\"labels\":[\"Not Applicable\",\"Community working to help\",\"Not helping\",\"Not an issue, so irrelevant\",\"Community working to help,Government working to help\"],\"textinfo\":\"label+percent\",\"values\":[83,78,12,3,2],\"visible\":false,\"type\":\"pie\"},{\"labels\":[\"Not Applicable\",\"Community working to help\"],\"textinfo\":\"label+percent\",\"values\":[77,15],\"visible\":false,\"type\":\"pie\"},{\"labels\":[\"Somewhat agree\",\"Neither agree nor disagree\",\"Strongly agree\",\"Somewhat disagree\",\"Strongly disagree\"],\"textinfo\":\"label+percent\",\"values\":[89,27,26,24,10],\"visible\":false,\"type\":\"pie\"},{\"labels\":[\"Somewhat agree\",\"Strongly agree\",\"Somewhat disagree\",\"Neither agree nor disagree\",\"Strongly disagree\"],\"textinfo\":\"label+percent\",\"values\":[88,34,23,19,12],\"visible\":false,\"type\":\"pie\"},{\"labels\":[\"Somewhat agree\",\"Somewhat disagree\",\"Neither agree nor disagree\",\"Strongly disagree\",\"Strongly agree\"],\"textinfo\":\"label+percent\",\"values\":[59,59,36,11,11],\"visible\":false,\"type\":\"pie\"},{\"labels\":[\"Some trust\",\"They are neutral\",\"Very little trust\",\"A great deal of trust\",\"No trust at all\"],\"textinfo\":\"label+percent\",\"values\":[98,33,31,8,6],\"visible\":false,\"type\":\"pie\"},{\"labels\":[\"Some trust\",\"A great deal of trust\",\"Very little trust\",\"They are neutral\",\"No trust at all\"],\"textinfo\":\"label+percent\",\"values\":[88,58,16,13,1],\"visible\":false,\"type\":\"pie\"},{\"labels\":[\"Very little trust\",\"Some trust\",\"They are neutral\",\"No trust at all\",\"A great deal of trust\"],\"textinfo\":\"label+percent\",\"values\":[78,41,38,17,2],\"visible\":false,\"type\":\"pie\"},{\"labels\":[\"Very little trust\",\"Some trust\",\"They are neutral\",\"No trust at all\",\"A great deal of trust\"],\"textinfo\":\"label+percent\",\"values\":[71,52,36,15,2],\"visible\":false,\"type\":\"pie\"},{\"labels\":[\"A great deal of trust\",\"Some trust\",\"They are neutral\",\"Very little trust\",\"No trust at all\"],\"textinfo\":\"label+percent\",\"values\":[77,71,21,5,1],\"visible\":false,\"type\":\"pie\"},{\"labels\":[\"Some trust\",\"A great deal of trust\",\"They are neutral\",\"Very little trust\",\"No trust at all\"],\"textinfo\":\"label+percent\",\"values\":[119,35,15,5,1],\"visible\":false,\"type\":\"pie\"},{\"labels\":[\"Common in my community\",\"Not common in my community\"],\"textinfo\":\"label+percent\",\"values\":[172,6],\"visible\":false,\"type\":\"pie\"},{\"labels\":[\"Common in my community\",\"Not common in my community\"],\"textinfo\":\"label+percent\",\"values\":[120,55],\"visible\":false,\"type\":\"pie\"},{\"labels\":[\"Common in my community\",\"Not common in my community\"],\"textinfo\":\"label+percent\",\"values\":[170,7],\"visible\":false,\"type\":\"pie\"},{\"labels\":[\"Not common in my community\",\"Common in my community\"],\"textinfo\":\"label+percent\",\"values\":[101,75],\"visible\":false,\"type\":\"pie\"},{\"labels\":[\"Common in my community\",\"Not common in my community\"],\"textinfo\":\"label+percent\",\"values\":[171,7],\"visible\":false,\"type\":\"pie\"},{\"labels\":[\"Common in my community\",\"Not common in my community\"],\"textinfo\":\"label+percent\",\"values\":[123,54],\"visible\":false,\"type\":\"pie\"},{\"labels\":[\"Common in my community\",\"Not common in my community\"],\"textinfo\":\"label+percent\",\"values\":[121,54],\"visible\":false,\"type\":\"pie\"},{\"labels\":[\"Common in my community\",\"Not common in my community\"],\"textinfo\":\"label+percent\",\"values\":[107,66],\"visible\":false,\"type\":\"pie\"},{\"labels\":[\"Not common in my community\",\"Common in my community\"],\"textinfo\":\"label+percent\",\"values\":[162,13],\"visible\":false,\"type\":\"pie\"},{\"labels\":[\"Not common in my community\",\"Common in my community\"],\"textinfo\":\"label+percent\",\"values\":[128,46],\"visible\":false,\"type\":\"pie\"},{\"labels\":[\"Not common in my community\",\"Common in my community\"],\"textinfo\":\"label+percent\",\"values\":[159,13],\"visible\":false,\"type\":\"pie\"},{\"labels\":[\"Common in my community\",\"Not common in my community\"],\"textinfo\":\"label+percent\",\"values\":[151,25],\"visible\":false,\"type\":\"pie\"},{\"labels\":[\"Common in my community\",\"Not common in my community\"],\"textinfo\":\"label+percent\",\"values\":[173,5],\"visible\":false,\"type\":\"pie\"},{\"labels\":[\"Common in my community\",\"Not common in my community\"],\"textinfo\":\"label+percent\",\"values\":[170,9],\"visible\":false,\"type\":\"pie\"},{\"labels\":[\"Common in my community\",\"Not common in my community\"],\"textinfo\":\"label+percent\",\"values\":[168,11],\"visible\":false,\"type\":\"pie\"},{\"labels\":[\"Common in my community\",\"Not common in my community\"],\"textinfo\":\"label+percent\",\"values\":[140,35],\"visible\":false,\"type\":\"pie\"},{\"labels\":[\"Not helping\",\"Not an issue, so irrelevant\",\"Government working to help\",\"Community working to help\",\"Community working to help,Government working to help\"],\"textinfo\":\"label+percent\",\"values\":[11,7,4,4,3],\"visible\":false,\"type\":\"pie\"},{\"labels\":[\"Community working to help\",\"Not helping\",\"Community working to help,Government working to help\",\"Community working to help,Not helping\",\"Not an issue, so irrelevant\"],\"textinfo\":\"label+percent\",\"values\":[14,7,6,1,1],\"visible\":false,\"type\":\"pie\"},{\"labels\":[\"Not helping\",\"Community working to help,Government working to help\",\"Not an issue, so irrelevant\",\"Community working to help\",\"Government working to help\"],\"textinfo\":\"label+percent\",\"values\":[10,6,6,5,2],\"visible\":false,\"type\":\"pie\"},{\"labels\":[\"Not common in my community\",\"Common in my community\"],\"textinfo\":\"label+percent\",\"values\":[26,3],\"visible\":false,\"type\":\"pie\"},{\"boxpoints\":\"all\",\"jitter\":0.3,\"marker\":{\"color\":\"rgb(214,12,140)\"},\"name\":\"issuehelp_ttl\",\"text\":[\"nan\",\"17.0\",\"nan\",\"20.0\",\"18.0\",\"41.0\",\"12.0\",\"24.0\",\"nan\",\"20.0\",\"12.0\",\"nan\",\"30.0\",\"39.0\",\"nan\",\"nan\",\"nan\",\"nan\",\"13.0\",\"14.0\",\"21.0\",\"14.0\",\"13.0\",\"nan\",\"11.0\",\"6.0\",\"24.0\",\"nan\",\"nan\",\"19.0\",\"26.0\",\"nan\",\"nan\",\"nan\",\"24.0\",\"11.0\",\"20.0\",\"nan\",\"nan\",\"23.0\",\"nan\",\"24.0\",\"nan\",\"nan\",\"nan\",\"30.0\",\"23.0\",\"13.0\",\"5.0\",\"22.0\",\"14.0\",\"nan\",\"56.0\",\"nan\",\"27.0\",\"28.0\",\"12.0\",\"18.0\",\"nan\",\"27.0\",\"22.0\",\"nan\",\"31.0\",\"19.0\",\"19.0\",\"nan\",\"17.0\",\"nan\",\"14.0\",\"42.0\",\"8.0\",\"nan\",\"nan\",\"26.0\",\"12.0\",\"nan\",\"15.0\",\"18.0\",\"24.0\",\"nan\",\"16.0\",\"18.0\",\"19.0\",\"nan\",\"nan\",\"15.0\",\"8.0\",\"17.0\",\"27.0\",\"19.0\",\"nan\",\"35.0\",\"nan\",\"nan\",\"38.0\",\"24.0\",\"12.0\",\"0.0\",\"0.0\",\"21.0\",\"nan\",\"14.0\",\"nan\",\"nan\",\"24.0\",\"9.0\",\"nan\",\"22.0\",\"nan\",\"nan\",\"20.0\",\"nan\",\"nan\",\"12.0\",\"nan\",\"nan\",\"37.0\",\"15.0\",\"nan\",\"34.0\",\"nan\",\"nan\",\"nan\",\"nan\",\"nan\",\"nan\",\"nan\",\"nan\",\"12.0\",\"21.0\",\"nan\",\"25.0\",\"nan\",\"nan\",\"nan\",\"nan\",\"12.0\",\"nan\",\"11.0\",\"nan\",\"nan\",\"nan\",\"nan\",\"nan\",\"14.0\",\"nan\",\"nan\",\"nan\",\"11.0\",\"41.0\",\"27.0\",\"19.0\",\"25.0\",\"44.0\",\"21.0\",\"nan\",\"9.0\",\"nan\",\"31.0\",\"19.0\",\"nan\",\"nan\",\"nan\",\"20.0\",\"nan\",\"nan\",\"nan\",\"nan\",\"nan\",\"nan\",\"nan\",\"nan\",\"nan\",\"nan\",\"nan\",\"nan\",\"nan\",\"nan\",\"nan\",\"nan\",\"35.0\",\"nan\",\"nan\",\"nan\",\"37.0\",\"nan\",\"nan\",\"31.0\",\"nan\",\"nan\",\"nan\",\"27.0\",\"nan\",\"nan\",\"nan\",\"nan\"],\"visible\":false,\"y\":[null,17.0,null,20.0,18.0,41.0,12.0,24.0,null,20.0,12.0,null,30.0,39.0,null,null,null,null,13.0,14.0,21.0,14.0,13.0,null,11.0,6.0,24.0,null,null,19.0,26.0,null,null,null,24.0,11.0,20.0,null,null,23.0,null,24.0,null,null,null,30.0,23.0,13.0,5.0,22.0,14.0,null,56.0,null,27.0,28.0,12.0,18.0,null,27.0,22.0,null,31.0,19.0,19.0,null,17.0,null,14.0,42.0,8.0,null,null,26.0,12.0,null,15.0,18.0,24.0,null,16.0,18.0,19.0,null,null,15.0,8.0,17.0,27.0,19.0,null,35.0,null,null,38.0,24.0,12.0,0.0,0.0,21.0,null,14.0,null,null,24.0,9.0,null,22.0,null,null,20.0,null,null,12.0,null,null,37.0,15.0,null,34.0,null,null,null,null,null,null,null,null,12.0,21.0,null,25.0,null,null,null,null,12.0,null,11.0,null,null,null,null,null,14.0,null,null,null,11.0,41.0,27.0,19.0,25.0,44.0,21.0,null,9.0,null,31.0,19.0,null,null,null,20.0,null,null,null,null,null,null,null,null,null,null,null,null,null,null,null,null,35.0,null,null,null,37.0,null,null,31.0,null,null,null,27.0,null,null,null,null],\"type\":\"box\"},{\"boxpoints\":\"all\",\"jitter\":0.3,\"marker\":{\"color\":\"rgb(214,12,140)\"},\"name\":\"cdrugprob_ttl\",\"text\":[\"2.0\",\"0.0\",\"nan\",\"8.0\",\"12.0\",\"9.0\",\"11.0\",\"11.0\",\"12.0\",\"14.0\",\"13.0\",\"10.0\",\"13.0\",\"10.0\",\"8.0\",\"nan\",\"nan\",\"nan\",\"12.0\",\"9.0\",\"10.0\",\"10.0\",\"7.0\",\"nan\",\"11.0\",\"11.0\",\"11.0\",\"11.0\",\"10.0\",\"10.0\",\"7.0\",\"11.0\",\"11.0\",\"11.0\",\"11.0\",\"12.0\",\"11.0\",\"7.0\",\"11.0\",\"nan\",\"nan\",\"13.0\",\"nan\",\"12.0\",\"13.0\",\"13.0\",\"nan\",\"13.0\",\"16.0\",\"12.0\",\"12.0\",\"14.0\",\"nan\",\"14.0\",\"3.0\",\"12.0\",\"12.0\",\"nan\",\"13.0\",\"12.0\",\"9.0\",\"16.0\",\"11.0\",\"13.0\",\"13.0\",\"10.0\",\"11.0\",\"nan\",\"10.0\",\"12.0\",\"9.0\",\"12.0\",\"10.0\",\"11.0\",\"11.0\",\"11.0\",\"7.0\",\"7.0\",\"11.0\",\"13.0\",\"12.0\",\"10.0\",\"13.0\",\"9.0\",\"11.0\",\"9.0\",\"12.0\",\"13.0\",\"14.0\",\"13.0\",\"9.0\",\"10.0\",\"9.0\",\"12.0\",\"10.0\",\"10.0\",\"10.0\",\"11.0\",\"nan\",\"12.0\",\"12.0\",\"13.0\",\"10.0\",\"10.0\",\"11.0\",\"12.0\",\"13.0\",\"12.0\",\"nan\",\"4.0\",\"11.0\",\"9.0\",\"14.0\",\"10.0\",\"13.0\",\"13.0\",\"15.0\",\"10.0\",\"13.0\",\"11.0\",\"11.0\",\"10.0\",\"8.0\",\"nan\",\"9.0\",\"13.0\",\"14.0\",\"9.0\",\"12.0\",\"10.0\",\"10.0\",\"9.0\",\"16.0\",\"nan\",\"9.0\",\"9.0\",\"12.0\",\"13.0\",\"10.0\",\"15.0\",\"9.0\",\"10.0\",\"nan\",\"16.0\",\"8.0\",\"10.0\",\"nan\",\"11.0\",\"12.0\",\"8.0\",\"12.0\",\"10.0\",\"15.0\",\"5.0\",\"12.0\",\"12.0\",\"nan\",\"nan\",\"12.0\",\"8.0\",\"12.0\",\"nan\",\"11.0\",\"nan\",\"nan\",\"10.0\",\"10.0\",\"11.0\",\"11.0\",\"10.0\",\"11.0\",\"nan\",\"13.0\",\"11.0\",\"9.0\",\"14.0\",\"9.0\",\"14.0\",\"10.0\",\"11.0\",\"12.0\",\"16.0\",\"14.0\",\"13.0\",\"13.0\",\"nan\",\"10.0\",\"13.0\",\"6.0\",\"10.0\",\"13.0\",\"10.0\",\"13.0\",\"11.0\",\"12.0\",\"12.0\"],\"visible\":false,\"y\":[2.0,0.0,null,8.0,12.0,9.0,11.0,11.0,12.0,14.0,13.0,10.0,13.0,10.0,8.0,null,null,null,12.0,9.0,10.0,10.0,7.0,null,11.0,11.0,11.0,11.0,10.0,10.0,7.0,11.0,11.0,11.0,11.0,12.0,11.0,7.0,11.0,null,null,13.0,null,12.0,13.0,13.0,null,13.0,16.0,12.0,12.0,14.0,null,14.0,3.0,12.0,12.0,null,13.0,12.0,9.0,16.0,11.0,13.0,13.0,10.0,11.0,null,10.0,12.0,9.0,12.0,10.0,11.0,11.0,11.0,7.0,7.0,11.0,13.0,12.0,10.0,13.0,9.0,11.0,9.0,12.0,13.0,14.0,13.0,9.0,10.0,9.0,12.0,10.0,10.0,10.0,11.0,null,12.0,12.0,13.0,10.0,10.0,11.0,12.0,13.0,12.0,null,4.0,11.0,9.0,14.0,10.0,13.0,13.0,15.0,10.0,13.0,11.0,11.0,10.0,8.0,null,9.0,13.0,14.0,9.0,12.0,10.0,10.0,9.0,16.0,null,9.0,9.0,12.0,13.0,10.0,15.0,9.0,10.0,null,16.0,8.0,10.0,null,11.0,12.0,8.0,12.0,10.0,15.0,5.0,12.0,12.0,null,null,12.0,8.0,12.0,null,11.0,null,null,10.0,10.0,11.0,11.0,10.0,11.0,null,13.0,11.0,9.0,14.0,9.0,14.0,10.0,11.0,12.0,16.0,14.0,13.0,13.0,null,10.0,13.0,6.0,10.0,13.0,10.0,13.0,11.0,12.0,12.0],\"type\":\"box\"},{\"boxpoints\":\"all\",\"jitter\":0.3,\"marker\":{\"color\":\"rgb(214,12,140)\"},\"name\":\"trust_avg\",\"text\":[\"nan\",\"1.0\",\"nan\",\"4.33333333333333\",\"2.66666666666667\",\"3.16666666666667\",\"3.33333333333333\",\"3.0\",\"4.0\",\"4.5\",\"3.5\",\"4.33333333333333\",\"4.5\",\"3.5\",\"nan\",\"nan\",\"nan\",\"3.83333333333333\",\"3.33333333333333\",\"3.66666666666667\",\"2.0\",\"4.33333333333333\",\"3.33333333333333\",\"nan\",\"2.83333333333333\",\"3.66666666666667\",\"3.66666666666667\",\"4.16666666666667\",\"4.33333333333333\",\"4.33333333333333\",\"3.5\",\"3.5\",\"3.66666666666667\",\"3.0\",\"3.16666666666667\",\"3.66666666666667\",\"3.66666666666667\",\"4.33333333333333\",\"2.5\",\"nan\",\"nan\",\"3.83333333333333\",\"4.0\",\"3.5\",\"4.16666666666667\",\"3.66666666666667\",\"3.5\",\"3.5\",\"2.83333333333333\",\"3.5\",\"3.33333333333333\",\"4.33333333333333\",\"nan\",\"2.83333333333333\",\"3.33333333333333\",\"4.16666666666667\",\"3.0\",\"nan\",\"4.16666666666667\",\"4.33333333333333\",\"3.5\",\"3.5\",\"2.66666666666667\",\"3.66666666666667\",\"4.0\",\"4.33333333333333\",\"3.83333333333333\",\"nan\",\"2.5\",\"4.16666666666667\",\"3.16666666666667\",\"3.0\",\"3.5\",\"4.33333333333333\",\"3.66666666666667\",\"4.16666666666667\",\"2.83333333333333\",\"4.0\",\"4.16666666666667\",\"4.33333333333333\",\"3.33333333333333\",\"3.5\",\"2.0\",\"3.66666666666667\",\"3.66666666666667\",\"3.66666666666667\",\"2.66666666666667\",\"2.5\",\"4.0\",\"3.33333333333333\",\"3.33333333333333\",\"4.33333333333333\",\"3.0\",\"2.0\",\"3.5\",\"3.5\",\"3.5\",\"2.16666666666667\",\"3.33333333333333\",\"3.83333333333333\",\"3.33333333333333\",\"3.5\",\"2.66666666666667\",\"3.83333333333333\",\"2.83333333333333\",\"3.66666666666667\",\"4.66666666666667\",\"3.16666666666667\",\"nan\",\"4.0\",\"4.0\",\"3.66666666666667\",\"4.16666666666667\",\"4.16666666666667\",\"3.66666666666667\",\"3.83333333333333\",\"4.0\",\"3.66666666666667\",\"4.33333333333333\",\"3.33333333333333\",\"4.16666666666667\",\"2.66666666666667\",\"4.16666666666667\",\"nan\",\"3.5\",\"4.0\",\"4.0\",\"3.16666666666667\",\"3.5\",\"3.16666666666667\",\"3.83333333333333\",\"4.83333333333333\",\"3.33333333333333\",\"nan\",\"3.33333333333333\",\"4.5\",\"4.0\",\"3.83333333333333\",\"2.33333333333333\",\"3.0\",\"3.0\",\"3.33333333333333\",\"3.0\",\"nan\",\"3.33333333333333\",\"3.66666666666667\",\"nan\",\"3.16666666666667\",\"2.5\",\"3.83333333333333\",\"3.66666666666667\",\"3.0\",\"1.83333333333333\",\"4.16666666666667\",\"3.5\",\"4.0\",\"2.5\",\"nan\",\"4.0\",\"3.5\",\"4.16666666666667\",\"nan\",\"nan\",\"4.0\",\"nan\",\"3.5\",\"4.5\",\"3.33333333333333\",\"3.66666666666667\",\"3.5\",\"3.16666666666667\",\"4.33333333333333\",\"3.83333333333333\",\"3.16666666666667\",\"2.66666666666667\",\"3.66666666666667\",\"3.5\",\"4.0\",\"3.33333333333333\",\"3.33333333333333\",\"3.0\",\"3.66666666666667\",\"4.0\",\"2.83333333333333\",\"3.16666666666667\",\"nan\",\"4.16666666666667\",\"3.66666666666667\",\"3.66666666666667\",\"3.0\",\"2.66666666666667\",\"3.16666666666667\",\"3.16666666666667\",\"3.66666666666667\",\"3.33333333333333\",\"2.66666666666667\"],\"visible\":false,\"y\":[null,1.0,null,4.33333333333333,2.66666666666667,3.16666666666667,3.33333333333333,3.0,4.0,4.5,3.5,4.33333333333333,4.5,3.5,null,null,null,3.83333333333333,3.33333333333333,3.66666666666667,2.0,4.33333333333333,3.33333333333333,null,2.83333333333333,3.66666666666667,3.66666666666667,4.16666666666667,4.33333333333333,4.33333333333333,3.5,3.5,3.66666666666667,3.0,3.16666666666667,3.66666666666667,3.66666666666667,4.33333333333333,2.5,null,null,3.83333333333333,4.0,3.5,4.16666666666667,3.66666666666667,3.5,3.5,2.83333333333333,3.5,3.33333333333333,4.33333333333333,null,2.83333333333333,3.33333333333333,4.16666666666667,3.0,null,4.16666666666667,4.33333333333333,3.5,3.5,2.66666666666667,3.66666666666667,4.0,4.33333333333333,3.83333333333333,null,2.5,4.16666666666667,3.16666666666667,3.0,3.5,4.33333333333333,3.66666666666667,4.16666666666667,2.83333333333333,4.0,4.16666666666667,4.33333333333333,3.33333333333333,3.5,2.0,3.66666666666667,3.66666666666667,3.66666666666667,2.66666666666667,2.5,4.0,3.33333333333333,3.33333333333333,4.33333333333333,3.0,2.0,3.5,3.5,3.5,2.16666666666667,3.33333333333333,3.83333333333333,3.33333333333333,3.5,2.66666666666667,3.83333333333333,2.83333333333333,3.66666666666667,4.66666666666667,3.16666666666667,null,4.0,4.0,3.66666666666667,4.16666666666667,4.16666666666667,3.66666666666667,3.83333333333333,4.0,3.66666666666667,4.33333333333333,3.33333333333333,4.16666666666667,2.66666666666667,4.16666666666667,null,3.5,4.0,4.0,3.16666666666667,3.5,3.16666666666667,3.83333333333333,4.83333333333333,3.33333333333333,null,3.33333333333333,4.5,4.0,3.83333333333333,2.33333333333333,3.0,3.0,3.33333333333333,3.0,null,3.33333333333333,3.66666666666667,null,3.16666666666667,2.5,3.83333333333333,3.66666666666667,3.0,1.83333333333333,4.16666666666667,3.5,4.0,2.5,null,4.0,3.5,4.16666666666667,null,null,4.0,null,3.5,4.5,3.33333333333333,3.66666666666667,3.5,3.16666666666667,4.33333333333333,3.83333333333333,3.16666666666667,2.66666666666667,3.66666666666667,3.5,4.0,3.33333333333333,3.33333333333333,3.0,3.66666666666667,4.0,2.83333333333333,3.16666666666667,null,4.16666666666667,3.66666666666667,3.66666666666667,3.0,2.66666666666667,3.16666666666667,3.16666666666667,3.66666666666667,3.33333333333333,2.66666666666667],\"type\":\"box\"},{\"boxpoints\":\"all\",\"jitter\":0.3,\"marker\":{\"color\":\"rgb(214,12,140)\"},\"name\":\"attdruguse_avg\",\"text\":[\"4.0\",\"1.0\",\"nan\",\"3.33333333333333\",\"4.33333333333333\",\"3.0\",\"4.0\",\"3.66666666666667\",\"2.66666666666667\",\"3.0\",\"3.66666666666667\",\"3.66666666666667\",\"4.33333333333333\",\"3.0\",\"nan\",\"nan\",\"nan\",\"3.66666666666667\",\"4.33333333333333\",\"2.33333333333333\",\"2.0\",\"3.33333333333333\",\"2.66666666666667\",\"nan\",\"1.66666666666667\",\"3.0\",\"3.66666666666667\",\"3.33333333333333\",\"4.33333333333333\",\"4.0\",\"1.33333333333333\",\"3.0\",\"3.33333333333333\",\"2.66666666666667\",\"4.66666666666667\",\"3.33333333333333\",\"2.66666666666667\",\"2.66666666666667\",\"3.33333333333333\",\"nan\",\"nan\",\"4.0\",\"4.0\",\"2.66666666666667\",\"3.33333333333333\",\"3.0\",\"3.33333333333333\",\"3.66666666666667\",\"1.66666666666667\",\"3.66666666666667\",\"4.33333333333333\",\"4.0\",\"nan\",\"3.0\",\"4.0\",\"3.33333333333333\",\"3.66666666666667\",\"nan\",\"4.0\",\"4.0\",\"3.66666666666667\",\"4.0\",\"3.33333333333333\",\"3.0\",\"3.33333333333333\",\"3.66666666666667\",\"4.0\",\"nan\",\"4.33333333333333\",\"3.33333333333333\",\"3.33333333333333\",\"3.33333333333333\",\"4.0\",\"3.0\",\"3.33333333333333\",\"3.66666666666667\",\"3.33333333333333\",\"3.66666666666667\",\"4.0\",\"3.66666666666667\",\"3.0\",\"2.66666666666667\",\"4.33333333333333\",\"4.0\",\"3.66666666666667\",\"1.33333333333333\",\"4.66666666666667\",\"3.66666666666667\",\"3.0\",\"2.66666666666667\",\"3.33333333333333\",\"1.0\",\"3.33333333333333\",\"4.0\",\"4.33333333333333\",\"2.33333333333333\",\"3.0\",\"3.33333333333333\",\"4.0\",\"2.66666666666667\",\"3.33333333333333\",\"3.33333333333333\",\"4.0\",\"3.66666666666667\",\"3.66666666666667\",\"4.0\",\"3.33333333333333\",\"3.33333333333333\",\"nan\",\"2.33333333333333\",\"2.0\",\"4.0\",\"3.0\",\"4.0\",\"4.0\",\"3.66666666666667\",\"2.66666666666667\",\"3.66666666666667\",\"2.0\",\"2.66666666666667\",\"4.0\",\"4.0\",\"3.0\",\"nan\",\"3.33333333333333\",\"3.66666666666667\",\"2.0\",\"3.33333333333333\",\"3.66666666666667\",\"3.33333333333333\",\"2.66666666666667\",\"4.0\",\"3.33333333333333\",\"nan\",\"4.0\",\"4.0\",\"3.33333333333333\",\"3.66666666666667\",\"3.66666666666667\",\"4.0\",\"4.0\",\"4.0\",\"3.0\",\"nan\",\"nan\",\"3.66666666666667\",\"nan\",\"3.33333333333333\",\"3.0\",\"4.0\",\"3.33333333333333\",\"3.33333333333333\",\"4.0\",\"4.66666666666667\",\"4.33333333333333\",\"1.66666666666667\",\"3.0\",\"nan\",\"2.66666666666667\",\"3.33333333333333\",\"2.0\",\"nan\",\"4.0\",\"4.0\",\"nan\",\"4.0\",\"3.66666666666667\",\"3.66666666666667\",\"3.33333333333333\",\"3.66666666666667\",\"3.33333333333333\",\"4.66666666666667\",\"3.66666666666667\",\"3.0\",\"4.0\",\"3.0\",\"4.0\",\"4.0\",\"3.33333333333333\",\"4.0\",\"3.0\",\"3.66666666666667\",\"3.66666666666667\",\"2.66666666666667\",\"2.33333333333333\",\"nan\",\"4.33333333333333\",\"3.66666666666667\",\"2.0\",\"3.33333333333333\",\"3.66666666666667\",\"3.33333333333333\",\"4.33333333333333\",\"3.33333333333333\",\"3.33333333333333\",\"2.66666666666667\"],\"visible\":false,\"y\":[4.0,1.0,null,3.33333333333333,4.33333333333333,3.0,4.0,3.66666666666667,2.66666666666667,3.0,3.66666666666667,3.66666666666667,4.33333333333333,3.0,null,null,null,3.66666666666667,4.33333333333333,2.33333333333333,2.0,3.33333333333333,2.66666666666667,null,1.66666666666667,3.0,3.66666666666667,3.33333333333333,4.33333333333333,4.0,1.33333333333333,3.0,3.33333333333333,2.66666666666667,4.66666666666667,3.33333333333333,2.66666666666667,2.66666666666667,3.33333333333333,null,null,4.0,4.0,2.66666666666667,3.33333333333333,3.0,3.33333333333333,3.66666666666667,1.66666666666667,3.66666666666667,4.33333333333333,4.0,null,3.0,4.0,3.33333333333333,3.66666666666667,null,4.0,4.0,3.66666666666667,4.0,3.33333333333333,3.0,3.33333333333333,3.66666666666667,4.0,null,4.33333333333333,3.33333333333333,3.33333333333333,3.33333333333333,4.0,3.0,3.33333333333333,3.66666666666667,3.33333333333333,3.66666666666667,4.0,3.66666666666667,3.0,2.66666666666667,4.33333333333333,4.0,3.66666666666667,1.33333333333333,4.66666666666667,3.66666666666667,3.0,2.66666666666667,3.33333333333333,1.0,3.33333333333333,4.0,4.33333333333333,2.33333333333333,3.0,3.33333333333333,4.0,2.66666666666667,3.33333333333333,3.33333333333333,4.0,3.66666666666667,3.66666666666667,4.0,3.33333333333333,3.33333333333333,null,2.33333333333333,2.0,4.0,3.0,4.0,4.0,3.66666666666667,2.66666666666667,3.66666666666667,2.0,2.66666666666667,4.0,4.0,3.0,null,3.33333333333333,3.66666666666667,2.0,3.33333333333333,3.66666666666667,3.33333333333333,2.66666666666667,4.0,3.33333333333333,null,4.0,4.0,3.33333333333333,3.66666666666667,3.66666666666667,4.0,4.0,4.0,3.0,null,null,3.66666666666667,null,3.33333333333333,3.0,4.0,3.33333333333333,3.33333333333333,4.0,4.66666666666667,4.33333333333333,1.66666666666667,3.0,null,2.66666666666667,3.33333333333333,2.0,null,4.0,4.0,null,4.0,3.66666666666667,3.66666666666667,3.33333333333333,3.66666666666667,3.33333333333333,4.66666666666667,3.66666666666667,3.0,4.0,3.0,4.0,4.0,3.33333333333333,4.0,3.0,3.66666666666667,3.66666666666667,2.66666666666667,2.33333333333333,null,4.33333333333333,3.66666666666667,2.0,3.33333333333333,3.66666666666667,3.33333333333333,4.33333333333333,3.33333333333333,3.33333333333333,2.66666666666667],\"type\":\"box\"},{\"boxpoints\":\"all\",\"jitter\":0.3,\"marker\":{\"color\":\"rgb(214,12,140)\"},\"name\":\"stigma_avg\",\"text\":[\"nan\",\"nan\",\"nan\",\"nan\",\"nan\",\"nan\",\"nan\",\"nan\",\"nan\",\"nan\",\"nan\",\"nan\",\"nan\",\"nan\",\"nan\",\"nan\",\"nan\",\"nan\",\"nan\",\"nan\",\"nan\",\"nan\",\"nan\",\"nan\",\"nan\",\"nan\",\"nan\",\"nan\",\"nan\",\"nan\",\"nan\",\"nan\",\"nan\",\"nan\",\"nan\",\"nan\",\"nan\",\"nan\",\"nan\",\"nan\",\"nan\",\"nan\",\"nan\",\"nan\",\"nan\",\"nan\",\"nan\",\"nan\",\"nan\",\"nan\",\"nan\",\"nan\",\"nan\",\"nan\",\"nan\",\"nan\",\"nan\",\"nan\",\"nan\",\"nan\",\"nan\",\"nan\",\"nan\",\"nan\",\"nan\",\"nan\",\"nan\",\"nan\",\"nan\",\"nan\",\"nan\",\"nan\",\"nan\",\"nan\",\"nan\",\"nan\",\"nan\",\"nan\",\"nan\",\"nan\",\"nan\",\"nan\",\"nan\",\"nan\",\"nan\",\"nan\",\"nan\",\"nan\",\"nan\",\"nan\",\"nan\",\"nan\",\"nan\",\"nan\",\"nan\",\"nan\",\"nan\",\"nan\",\"nan\",\"nan\",\"nan\",\"nan\",\"nan\",\"nan\",\"nan\",\"nan\",\"nan\",\"nan\",\"nan\",\"nan\",\"nan\",\"nan\",\"nan\",\"nan\",\"nan\",\"nan\",\"nan\",\"nan\",\"nan\",\"nan\",\"nan\",\"nan\",\"nan\",\"nan\",\"nan\",\"nan\",\"nan\",\"nan\",\"nan\",\"nan\",\"nan\",\"nan\",\"nan\",\"nan\",\"nan\",\"nan\",\"nan\",\"nan\",\"nan\",\"nan\",\"nan\",\"nan\",\"nan\",\"nan\",\"nan\",\"nan\",\"nan\",\"nan\",\"nan\",\"nan\",\"nan\",\"nan\",\"nan\",\"nan\",\"nan\",\"nan\",\"nan\",\"nan\",\"nan\",\"nan\",\"nan\",\"nan\",\"nan\",\"nan\",\"nan\",\"3.75\",\"3.5\",\"5.0\",\"4.0\",\"3.0\",\"3.5\",\"4.0\",\"3.0\",\"4.0\",\"3.5\",\"3.0\",\"3.5\",\"4.75\",\"2.5\",\"3.75\",\"3.25\",\"4.0\",\"4.5\",\"3.75\",\"4.0\",\"nan\",\"3.0\",\"4.0\",\"5.0\",\"3.0\",\"5.0\",\"3.75\",\"4.0\",\"3.75\",\"3.25\",\"3.5\"],\"visible\":false,\"y\":[null,null,null,null,null,null,null,null,null,null,null,null,null,null,null,null,null,null,null,null,null,null,null,null,null,null,null,null,null,null,null,null,null,null,null,null,null,null,null,null,null,null,null,null,null,null,null,null,null,null,null,null,null,null,null,null,null,null,null,null,null,null,null,null,null,null,null,null,null,null,null,null,null,null,null,null,null,null,null,null,null,null,null,null,null,null,null,null,null,null,null,null,null,null,null,null,null,null,null,null,null,null,null,null,null,null,null,null,null,null,null,null,null,null,null,null,null,null,null,null,null,null,null,null,null,null,null,null,null,null,null,null,null,null,null,null,null,null,null,null,null,null,null,null,null,null,null,null,null,null,null,null,null,null,null,null,null,null,null,null,null,null,null,null,null,3.75,3.5,5.0,4.0,3.0,3.5,4.0,3.0,4.0,3.5,3.0,3.5,4.75,2.5,3.75,3.25,4.0,4.5,3.75,4.0,null,3.0,4.0,5.0,3.0,5.0,3.75,4.0,3.75,3.25,3.5],\"type\":\"box\"},{\"boxpoints\":\"all\",\"jitter\":0.3,\"marker\":{\"color\":\"rgb(214,12,140)\"},\"name\":\"alienation_avg\",\"text\":[\"nan\",\"nan\",\"nan\",\"nan\",\"nan\",\"nan\",\"nan\",\"nan\",\"nan\",\"nan\",\"nan\",\"nan\",\"nan\",\"nan\",\"nan\",\"nan\",\"nan\",\"nan\",\"nan\",\"nan\",\"nan\",\"nan\",\"nan\",\"nan\",\"nan\",\"nan\",\"nan\",\"nan\",\"nan\",\"nan\",\"nan\",\"nan\",\"nan\",\"nan\",\"nan\",\"nan\",\"nan\",\"nan\",\"nan\",\"nan\",\"nan\",\"nan\",\"nan\",\"nan\",\"nan\",\"nan\",\"nan\",\"nan\",\"nan\",\"nan\",\"nan\",\"nan\",\"nan\",\"nan\",\"nan\",\"nan\",\"nan\",\"nan\",\"nan\",\"nan\",\"nan\",\"nan\",\"nan\",\"nan\",\"nan\",\"nan\",\"nan\",\"nan\",\"nan\",\"nan\",\"nan\",\"nan\",\"nan\",\"nan\",\"nan\",\"nan\",\"nan\",\"nan\",\"nan\",\"nan\",\"nan\",\"nan\",\"nan\",\"nan\",\"nan\",\"nan\",\"nan\",\"nan\",\"nan\",\"nan\",\"nan\",\"nan\",\"nan\",\"nan\",\"nan\",\"nan\",\"nan\",\"nan\",\"nan\",\"nan\",\"nan\",\"nan\",\"nan\",\"nan\",\"nan\",\"nan\",\"nan\",\"nan\",\"nan\",\"nan\",\"nan\",\"nan\",\"nan\",\"nan\",\"nan\",\"nan\",\"nan\",\"nan\",\"nan\",\"nan\",\"nan\",\"nan\",\"nan\",\"nan\",\"nan\",\"nan\",\"nan\",\"nan\",\"nan\",\"nan\",\"nan\",\"nan\",\"nan\",\"nan\",\"nan\",\"nan\",\"nan\",\"nan\",\"nan\",\"nan\",\"nan\",\"nan\",\"nan\",\"nan\",\"nan\",\"nan\",\"nan\",\"nan\",\"nan\",\"nan\",\"nan\",\"nan\",\"nan\",\"nan\",\"nan\",\"nan\",\"nan\",\"nan\",\"nan\",\"nan\",\"nan\",\"nan\",\"nan\",\"nan\",\"nan\",\"4.33333333333333\",\"3.33333333333333\",\"4.33333333333333\",\"5.0\",\"5.0\",\"3.66666666666667\",\"4.33333333333333\",\"4.66666666666667\",\"5.0\",\"5.0\",\"5.0\",\"3.66666666666667\",\"4.66666666666667\",\"4.0\",\"5.0\",\"3.33333333333333\",\"5.0\",\"4.66666666666667\",\"5.0\",\"4.33333333333333\",\"nan\",\"5.0\",\"4.66666666666667\",\"5.0\",\"3.0\",\"5.0\",\"4.33333333333333\",\"4.33333333333333\",\"4.33333333333333\",\"3.66666666666667\",\"4.0\"],\"visible\":false,\"y\":[null,null,null,null,null,null,null,null,null,null,null,null,null,null,null,null,null,null,null,null,null,null,null,null,null,null,null,null,null,null,null,null,null,null,null,null,null,null,null,null,null,null,null,null,null,null,null,null,null,null,null,null,null,null,null,null,null,null,null,null,null,null,null,null,null,null,null,null,null,null,null,null,null,null,null,null,null,null,null,null,null,null,null,null,null,null,null,null,null,null,null,null,null,null,null,null,null,null,null,null,null,null,null,null,null,null,null,null,null,null,null,null,null,null,null,null,null,null,null,null,null,null,null,null,null,null,null,null,null,null,null,null,null,null,null,null,null,null,null,null,null,null,null,null,null,null,null,null,null,null,null,null,null,null,null,null,null,null,null,null,null,null,null,null,null,4.33333333333333,3.33333333333333,4.33333333333333,5.0,5.0,3.66666666666667,4.33333333333333,4.66666666666667,5.0,5.0,5.0,3.66666666666667,4.66666666666667,4.0,5.0,3.33333333333333,5.0,4.66666666666667,5.0,4.33333333333333,null,5.0,4.66666666666667,5.0,3.0,5.0,4.33333333333333,4.33333333333333,4.33333333333333,3.66666666666667,4.0],\"type\":\"box\"},{\"boxpoints\":\"all\",\"jitter\":0.3,\"marker\":{\"color\":\"rgb(214,12,140)\"},\"name\":\"deval_avg\",\"text\":[\"nan\",\"nan\",\"nan\",\"nan\",\"nan\",\"nan\",\"nan\",\"nan\",\"nan\",\"nan\",\"nan\",\"nan\",\"nan\",\"nan\",\"nan\",\"nan\",\"nan\",\"nan\",\"nan\",\"nan\",\"nan\",\"nan\",\"nan\",\"nan\",\"nan\",\"nan\",\"nan\",\"nan\",\"nan\",\"nan\",\"nan\",\"nan\",\"nan\",\"nan\",\"nan\",\"nan\",\"nan\",\"nan\",\"nan\",\"nan\",\"nan\",\"nan\",\"nan\",\"nan\",\"nan\",\"nan\",\"nan\",\"nan\",\"nan\",\"nan\",\"nan\",\"nan\",\"nan\",\"nan\",\"nan\",\"nan\",\"nan\",\"nan\",\"nan\",\"nan\",\"nan\",\"nan\",\"nan\",\"nan\",\"nan\",\"nan\",\"nan\",\"nan\",\"nan\",\"nan\",\"nan\",\"nan\",\"nan\",\"nan\",\"nan\",\"nan\",\"nan\",\"nan\",\"nan\",\"nan\",\"nan\",\"nan\",\"nan\",\"nan\",\"nan\",\"nan\",\"nan\",\"nan\",\"nan\",\"nan\",\"nan\",\"nan\",\"nan\",\"nan\",\"nan\",\"nan\",\"nan\",\"nan\",\"nan\",\"nan\",\"nan\",\"nan\",\"nan\",\"nan\",\"nan\",\"nan\",\"nan\",\"nan\",\"nan\",\"nan\",\"nan\",\"nan\",\"nan\",\"nan\",\"nan\",\"nan\",\"nan\",\"nan\",\"nan\",\"nan\",\"nan\",\"nan\",\"nan\",\"nan\",\"nan\",\"nan\",\"nan\",\"nan\",\"nan\",\"nan\",\"nan\",\"nan\",\"nan\",\"nan\",\"nan\",\"nan\",\"nan\",\"nan\",\"nan\",\"nan\",\"nan\",\"nan\",\"nan\",\"nan\",\"nan\",\"nan\",\"nan\",\"nan\",\"nan\",\"nan\",\"nan\",\"nan\",\"nan\",\"nan\",\"nan\",\"nan\",\"nan\",\"nan\",\"nan\",\"nan\",\"nan\",\"nan\",\"nan\",\"nan\",\"nan\",\"nan\",\"4.33333333333333\",\"4.0\",\"4.33333333333333\",\"4.33333333333333\",\"3.33333333333333\",\"4.0\",\"3.66666666666667\",\"4.0\",\"4.0\",\"3.0\",\"5.0\",\"4.66666666666667\",\"3.66666666666667\",\"4.33333333333333\",\"3.66666666666667\",\"4.0\",\"5.0\",\"4.33333333333333\",\"4.33333333333333\",\"nan\",\"4.33333333333333\",\"4.33333333333333\",\"5.0\",\"4.33333333333333\",\"3.66666666666667\",\"4.33333333333333\",\"4.33333333333333\",\"4.0\",\"3.66666666666667\",\"4.0\"],\"visible\":false,\"y\":[null,null,null,null,null,null,null,null,null,null,null,null,null,null,null,null,null,null,null,null,null,null,null,null,null,null,null,null,null,null,null,null,null,null,null,null,null,null,null,null,null,null,null,null,null,null,null,null,null,null,null,null,null,null,null,null,null,null,null,null,null,null,null,null,null,null,null,null,null,null,null,null,null,null,null,null,null,null,null,null,null,null,null,null,null,null,null,null,null,null,null,null,null,null,null,null,null,null,null,null,null,null,null,null,null,null,null,null,null,null,null,null,null,null,null,null,null,null,null,null,null,null,null,null,null,null,null,null,null,null,null,null,null,null,null,null,null,null,null,null,null,null,null,null,null,null,null,null,null,null,null,null,null,null,null,null,null,null,null,null,null,null,null,null,null,null,4.33333333333333,4.0,4.33333333333333,4.33333333333333,3.33333333333333,4.0,3.66666666666667,4.0,4.0,3.0,5.0,4.66666666666667,3.66666666666667,4.33333333333333,3.66666666666667,4.0,5.0,4.33333333333333,4.33333333333333,null,4.33333333333333,4.33333333333333,5.0,4.33333333333333,3.66666666666667,4.33333333333333,4.33333333333333,4.0,3.66666666666667,4.0],\"type\":\"box\"},{\"boxpoints\":\"all\",\"jitter\":0.3,\"marker\":{\"color\":\"rgb(214,12,140)\"},\"name\":\"pwudserv_avg\",\"text\":[\"nan\",\"nan\",\"nan\",\"nan\",\"nan\",\"nan\",\"nan\",\"nan\",\"nan\",\"nan\",\"nan\",\"nan\",\"nan\",\"nan\",\"nan\",\"nan\",\"nan\",\"nan\",\"nan\",\"nan\",\"nan\",\"nan\",\"nan\",\"nan\",\"nan\",\"nan\",\"nan\",\"nan\",\"nan\",\"nan\",\"nan\",\"nan\",\"nan\",\"nan\",\"nan\",\"nan\",\"nan\",\"nan\",\"nan\",\"nan\",\"nan\",\"nan\",\"nan\",\"nan\",\"nan\",\"nan\",\"nan\",\"nan\",\"nan\",\"nan\",\"nan\",\"nan\",\"nan\",\"nan\",\"nan\",\"nan\",\"nan\",\"nan\",\"nan\",\"nan\",\"nan\",\"nan\",\"nan\",\"nan\",\"nan\",\"nan\",\"nan\",\"nan\",\"nan\",\"nan\",\"nan\",\"nan\",\"nan\",\"nan\",\"nan\",\"nan\",\"nan\",\"nan\",\"nan\",\"nan\",\"nan\",\"nan\",\"nan\",\"nan\",\"nan\",\"nan\",\"nan\",\"nan\",\"nan\",\"nan\",\"nan\",\"nan\",\"nan\",\"nan\",\"nan\",\"nan\",\"nan\",\"nan\",\"nan\",\"nan\",\"nan\",\"nan\",\"nan\",\"nan\",\"nan\",\"nan\",\"nan\",\"nan\",\"nan\",\"nan\",\"nan\",\"nan\",\"nan\",\"nan\",\"nan\",\"nan\",\"nan\",\"nan\",\"nan\",\"nan\",\"nan\",\"nan\",\"nan\",\"nan\",\"nan\",\"nan\",\"nan\",\"nan\",\"nan\",\"nan\",\"nan\",\"nan\",\"nan\",\"nan\",\"nan\",\"nan\",\"nan\",\"nan\",\"nan\",\"nan\",\"nan\",\"nan\",\"nan\",\"nan\",\"nan\",\"nan\",\"nan\",\"nan\",\"nan\",\"nan\",\"nan\",\"nan\",\"nan\",\"nan\",\"nan\",\"nan\",\"nan\",\"nan\",\"nan\",\"nan\",\"nan\",\"nan\",\"nan\",\"nan\",\"nan\",\"4.33333333333333\",\"3.0\",\"1.66666666666667\",\"3.77777777777778\",\"3.22222222222222\",\"2.55555555555556\",\"3.55555555555556\",\"3.44444444444444\",\"2.11111111111111\",\"3.0\",\"3.0\",\"3.22222222222222\",\"3.44444444444444\",\"2.0\",\"3.0\",\"2.44444444444444\",\"2.77777777777778\",\"nan\",\"1.33333333333333\",\"3.33333333333333\",\"nan\",\"3.44444444444444\",\"3.33333333333333\",\"4.33333333333333\",\"2.55555555555556\",\"3.55555555555556\",\"3.66666666666667\",\"3.22222222222222\",\"3.0\",\"3.0\",\"3.0\"],\"visible\":false,\"y\":[null,null,null,null,null,null,null,null,null,null,null,null,null,null,null,null,null,null,null,null,null,null,null,null,null,null,null,null,null,null,null,null,null,null,null,null,null,null,null,null,null,null,null,null,null,null,null,null,null,null,null,null,null,null,null,null,null,null,null,null,null,null,null,null,null,null,null,null,null,null,null,null,null,null,null,null,null,null,null,null,null,null,null,null,null,null,null,null,null,null,null,null,null,null,null,null,null,null,null,null,null,null,null,null,null,null,null,null,null,null,null,null,null,null,null,null,null,null,null,null,null,null,null,null,null,null,null,null,null,null,null,null,null,null,null,null,null,null,null,null,null,null,null,null,null,null,null,null,null,null,null,null,null,null,null,null,null,null,null,null,null,null,null,null,null,4.33333333333333,3.0,1.66666666666667,3.77777777777778,3.22222222222222,2.55555555555556,3.55555555555556,3.44444444444444,2.11111111111111,3.0,3.0,3.22222222222222,3.44444444444444,2.0,3.0,2.44444444444444,2.77777777777778,null,1.33333333333333,3.33333333333333,null,3.44444444444444,3.33333333333333,4.33333333333333,2.55555555555556,3.55555555555556,3.66666666666667,3.22222222222222,3.0,3.0,3.0],\"type\":\"box\"},{\"boxpoints\":\"all\",\"jitter\":0.3,\"marker\":{\"color\":\"rgb(214,12,140)\"},\"name\":\"pwudrecovery_avg\",\"text\":[\"nan\",\"nan\",\"nan\",\"nan\",\"nan\",\"nan\",\"nan\",\"nan\",\"nan\",\"nan\",\"nan\",\"nan\",\"nan\",\"nan\",\"nan\",\"nan\",\"nan\",\"nan\",\"nan\",\"nan\",\"nan\",\"nan\",\"nan\",\"nan\",\"nan\",\"nan\",\"nan\",\"nan\",\"nan\",\"nan\",\"nan\",\"nan\",\"nan\",\"nan\",\"nan\",\"nan\",\"nan\",\"nan\",\"nan\",\"nan\",\"nan\",\"nan\",\"nan\",\"nan\",\"nan\",\"nan\",\"nan\",\"nan\",\"nan\",\"nan\",\"nan\",\"nan\",\"nan\",\"nan\",\"nan\",\"nan\",\"nan\",\"nan\",\"nan\",\"nan\",\"nan\",\"nan\",\"nan\",\"nan\",\"nan\",\"nan\",\"nan\",\"nan\",\"nan\",\"nan\",\"nan\",\"nan\",\"nan\",\"nan\",\"nan\",\"nan\",\"nan\",\"nan\",\"nan\",\"nan\",\"nan\",\"nan\",\"nan\",\"nan\",\"nan\",\"nan\",\"nan\",\"nan\",\"nan\",\"nan\",\"nan\",\"nan\",\"nan\",\"nan\",\"nan\",\"nan\",\"nan\",\"nan\",\"nan\",\"nan\",\"nan\",\"nan\",\"nan\",\"nan\",\"nan\",\"nan\",\"nan\",\"nan\",\"nan\",\"nan\",\"nan\",\"nan\",\"nan\",\"nan\",\"nan\",\"nan\",\"nan\",\"nan\",\"nan\",\"nan\",\"nan\",\"nan\",\"nan\",\"nan\",\"nan\",\"nan\",\"nan\",\"nan\",\"nan\",\"nan\",\"nan\",\"nan\",\"nan\",\"nan\",\"nan\",\"nan\",\"nan\",\"nan\",\"nan\",\"nan\",\"nan\",\"nan\",\"nan\",\"nan\",\"nan\",\"nan\",\"nan\",\"nan\",\"nan\",\"nan\",\"nan\",\"nan\",\"nan\",\"nan\",\"nan\",\"nan\",\"nan\",\"nan\",\"nan\",\"nan\",\"nan\",\"nan\",\"nan\",\"nan\",\"nan\",\"nan\",\"3.6\",\"3.2\",\"3.0\",\"3.0\",\"2.2\",\"4.0\",\"3.2\",\"2.6\",\"4.2\",\"3.2\",\"2.8\",\"3.4\",\"3.8\",\"3.6\",\"3.4\",\"3.0\",\"3.6\",\"3.8\",\"3.4\",\"nan\",\"3.8\",\"4.2\",\"4.2\",\"3.6\",\"4.4\",\"3.0\",\"3.6\",\"2.2\",\"3.4\",\"4.0\"],\"visible\":false,\"y\":[null,null,null,null,null,null,null,null,null,null,null,null,null,null,null,null,null,null,null,null,null,null,null,null,null,null,null,null,null,null,null,null,null,null,null,null,null,null,null,null,null,null,null,null,null,null,null,null,null,null,null,null,null,null,null,null,null,null,null,null,null,null,null,null,null,null,null,null,null,null,null,null,null,null,null,null,null,null,null,null,null,null,null,null,null,null,null,null,null,null,null,null,null,null,null,null,null,null,null,null,null,null,null,null,null,null,null,null,null,null,null,null,null,null,null,null,null,null,null,null,null,null,null,null,null,null,null,null,null,null,null,null,null,null,null,null,null,null,null,null,null,null,null,null,null,null,null,null,null,null,null,null,null,null,null,null,null,null,null,null,null,null,null,null,null,null,3.6,3.2,3.0,3.0,2.2,4.0,3.2,2.6,4.2,3.2,2.8,3.4,3.8,3.6,3.4,3.0,3.6,3.8,3.4,null,3.8,4.2,4.2,3.6,4.4,3.0,3.6,2.2,3.4,4.0],\"type\":\"box\"}],                        {\"template\":{\"data\":{\"bar\":[{\"error_x\":{\"color\":\"#2a3f5f\"},\"error_y\":{\"color\":\"#2a3f5f\"},\"marker\":{\"line\":{\"color\":\"#E5ECF6\",\"width\":0.5},\"pattern\":{\"fillmode\":\"overlay\",\"size\":10,\"solidity\":0.2}},\"type\":\"bar\"}],\"barpolar\":[{\"marker\":{\"line\":{\"color\":\"#E5ECF6\",\"width\":0.5},\"pattern\":{\"fillmode\":\"overlay\",\"size\":10,\"solidity\":0.2}},\"type\":\"barpolar\"}],\"carpet\":[{\"aaxis\":{\"endlinecolor\":\"#2a3f5f\",\"gridcolor\":\"white\",\"linecolor\":\"white\",\"minorgridcolor\":\"white\",\"startlinecolor\":\"#2a3f5f\"},\"baxis\":{\"endlinecolor\":\"#2a3f5f\",\"gridcolor\":\"white\",\"linecolor\":\"white\",\"minorgridcolor\":\"white\",\"startlinecolor\":\"#2a3f5f\"},\"type\":\"carpet\"}],\"choropleth\":[{\"colorbar\":{\"outlinewidth\":0,\"ticks\":\"\"},\"type\":\"choropleth\"}],\"contour\":[{\"colorbar\":{\"outlinewidth\":0,\"ticks\":\"\"},\"colorscale\":[[0.0,\"#0d0887\"],[0.1111111111111111,\"#46039f\"],[0.2222222222222222,\"#7201a8\"],[0.3333333333333333,\"#9c179e\"],[0.4444444444444444,\"#bd3786\"],[0.5555555555555556,\"#d8576b\"],[0.6666666666666666,\"#ed7953\"],[0.7777777777777778,\"#fb9f3a\"],[0.8888888888888888,\"#fdca26\"],[1.0,\"#f0f921\"]],\"type\":\"contour\"}],\"contourcarpet\":[{\"colorbar\":{\"outlinewidth\":0,\"ticks\":\"\"},\"type\":\"contourcarpet\"}],\"heatmap\":[{\"colorbar\":{\"outlinewidth\":0,\"ticks\":\"\"},\"colorscale\":[[0.0,\"#0d0887\"],[0.1111111111111111,\"#46039f\"],[0.2222222222222222,\"#7201a8\"],[0.3333333333333333,\"#9c179e\"],[0.4444444444444444,\"#bd3786\"],[0.5555555555555556,\"#d8576b\"],[0.6666666666666666,\"#ed7953\"],[0.7777777777777778,\"#fb9f3a\"],[0.8888888888888888,\"#fdca26\"],[1.0,\"#f0f921\"]],\"type\":\"heatmap\"}],\"heatmapgl\":[{\"colorbar\":{\"outlinewidth\":0,\"ticks\":\"\"},\"colorscale\":[[0.0,\"#0d0887\"],[0.1111111111111111,\"#46039f\"],[0.2222222222222222,\"#7201a8\"],[0.3333333333333333,\"#9c179e\"],[0.4444444444444444,\"#bd3786\"],[0.5555555555555556,\"#d8576b\"],[0.6666666666666666,\"#ed7953\"],[0.7777777777777778,\"#fb9f3a\"],[0.8888888888888888,\"#fdca26\"],[1.0,\"#f0f921\"]],\"type\":\"heatmapgl\"}],\"histogram\":[{\"marker\":{\"pattern\":{\"fillmode\":\"overlay\",\"size\":10,\"solidity\":0.2}},\"type\":\"histogram\"}],\"histogram2d\":[{\"colorbar\":{\"outlinewidth\":0,\"ticks\":\"\"},\"colorscale\":[[0.0,\"#0d0887\"],[0.1111111111111111,\"#46039f\"],[0.2222222222222222,\"#7201a8\"],[0.3333333333333333,\"#9c179e\"],[0.4444444444444444,\"#bd3786\"],[0.5555555555555556,\"#d8576b\"],[0.6666666666666666,\"#ed7953\"],[0.7777777777777778,\"#fb9f3a\"],[0.8888888888888888,\"#fdca26\"],[1.0,\"#f0f921\"]],\"type\":\"histogram2d\"}],\"histogram2dcontour\":[{\"colorbar\":{\"outlinewidth\":0,\"ticks\":\"\"},\"colorscale\":[[0.0,\"#0d0887\"],[0.1111111111111111,\"#46039f\"],[0.2222222222222222,\"#7201a8\"],[0.3333333333333333,\"#9c179e\"],[0.4444444444444444,\"#bd3786\"],[0.5555555555555556,\"#d8576b\"],[0.6666666666666666,\"#ed7953\"],[0.7777777777777778,\"#fb9f3a\"],[0.8888888888888888,\"#fdca26\"],[1.0,\"#f0f921\"]],\"type\":\"histogram2dcontour\"}],\"mesh3d\":[{\"colorbar\":{\"outlinewidth\":0,\"ticks\":\"\"},\"type\":\"mesh3d\"}],\"parcoords\":[{\"line\":{\"colorbar\":{\"outlinewidth\":0,\"ticks\":\"\"}},\"type\":\"parcoords\"}],\"pie\":[{\"automargin\":true,\"type\":\"pie\"}],\"scatter\":[{\"marker\":{\"colorbar\":{\"outlinewidth\":0,\"ticks\":\"\"}},\"type\":\"scatter\"}],\"scatter3d\":[{\"line\":{\"colorbar\":{\"outlinewidth\":0,\"ticks\":\"\"}},\"marker\":{\"colorbar\":{\"outlinewidth\":0,\"ticks\":\"\"}},\"type\":\"scatter3d\"}],\"scattercarpet\":[{\"marker\":{\"colorbar\":{\"outlinewidth\":0,\"ticks\":\"\"}},\"type\":\"scattercarpet\"}],\"scattergeo\":[{\"marker\":{\"colorbar\":{\"outlinewidth\":0,\"ticks\":\"\"}},\"type\":\"scattergeo\"}],\"scattergl\":[{\"marker\":{\"colorbar\":{\"outlinewidth\":0,\"ticks\":\"\"}},\"type\":\"scattergl\"}],\"scattermapbox\":[{\"marker\":{\"colorbar\":{\"outlinewidth\":0,\"ticks\":\"\"}},\"type\":\"scattermapbox\"}],\"scatterpolar\":[{\"marker\":{\"colorbar\":{\"outlinewidth\":0,\"ticks\":\"\"}},\"type\":\"scatterpolar\"}],\"scatterpolargl\":[{\"marker\":{\"colorbar\":{\"outlinewidth\":0,\"ticks\":\"\"}},\"type\":\"scatterpolargl\"}],\"scatterternary\":[{\"marker\":{\"colorbar\":{\"outlinewidth\":0,\"ticks\":\"\"}},\"type\":\"scatterternary\"}],\"surface\":[{\"colorbar\":{\"outlinewidth\":0,\"ticks\":\"\"},\"colorscale\":[[0.0,\"#0d0887\"],[0.1111111111111111,\"#46039f\"],[0.2222222222222222,\"#7201a8\"],[0.3333333333333333,\"#9c179e\"],[0.4444444444444444,\"#bd3786\"],[0.5555555555555556,\"#d8576b\"],[0.6666666666666666,\"#ed7953\"],[0.7777777777777778,\"#fb9f3a\"],[0.8888888888888888,\"#fdca26\"],[1.0,\"#f0f921\"]],\"type\":\"surface\"}],\"table\":[{\"cells\":{\"fill\":{\"color\":\"#EBF0F8\"},\"line\":{\"color\":\"white\"}},\"header\":{\"fill\":{\"color\":\"#C8D4E3\"},\"line\":{\"color\":\"white\"}},\"type\":\"table\"}]},\"layout\":{\"annotationdefaults\":{\"arrowcolor\":\"#2a3f5f\",\"arrowhead\":0,\"arrowwidth\":1},\"autotypenumbers\":\"strict\",\"coloraxis\":{\"colorbar\":{\"outlinewidth\":0,\"ticks\":\"\"}},\"colorscale\":{\"diverging\":[[0,\"#8e0152\"],[0.1,\"#c51b7d\"],[0.2,\"#de77ae\"],[0.3,\"#f1b6da\"],[0.4,\"#fde0ef\"],[0.5,\"#f7f7f7\"],[0.6,\"#e6f5d0\"],[0.7,\"#b8e186\"],[0.8,\"#7fbc41\"],[0.9,\"#4d9221\"],[1,\"#276419\"]],\"sequential\":[[0.0,\"#0d0887\"],[0.1111111111111111,\"#46039f\"],[0.2222222222222222,\"#7201a8\"],[0.3333333333333333,\"#9c179e\"],[0.4444444444444444,\"#bd3786\"],[0.5555555555555556,\"#d8576b\"],[0.6666666666666666,\"#ed7953\"],[0.7777777777777778,\"#fb9f3a\"],[0.8888888888888888,\"#fdca26\"],[1.0,\"#f0f921\"]],\"sequentialminus\":[[0.0,\"#0d0887\"],[0.1111111111111111,\"#46039f\"],[0.2222222222222222,\"#7201a8\"],[0.3333333333333333,\"#9c179e\"],[0.4444444444444444,\"#bd3786\"],[0.5555555555555556,\"#d8576b\"],[0.6666666666666666,\"#ed7953\"],[0.7777777777777778,\"#fb9f3a\"],[0.8888888888888888,\"#fdca26\"],[1.0,\"#f0f921\"]]},\"colorway\":[\"#636efa\",\"#EF553B\",\"#00cc96\",\"#ab63fa\",\"#FFA15A\",\"#19d3f3\",\"#FF6692\",\"#B6E880\",\"#FF97FF\",\"#FECB52\"],\"font\":{\"color\":\"#2a3f5f\"},\"geo\":{\"bgcolor\":\"white\",\"lakecolor\":\"white\",\"landcolor\":\"#E5ECF6\",\"showlakes\":true,\"showland\":true,\"subunitcolor\":\"white\"},\"hoverlabel\":{\"align\":\"left\"},\"hovermode\":\"closest\",\"mapbox\":{\"style\":\"light\"},\"paper_bgcolor\":\"white\",\"plot_bgcolor\":\"#E5ECF6\",\"polar\":{\"angularaxis\":{\"gridcolor\":\"white\",\"linecolor\":\"white\",\"ticks\":\"\"},\"bgcolor\":\"#E5ECF6\",\"radialaxis\":{\"gridcolor\":\"white\",\"linecolor\":\"white\",\"ticks\":\"\"}},\"scene\":{\"xaxis\":{\"backgroundcolor\":\"#E5ECF6\",\"gridcolor\":\"white\",\"gridwidth\":2,\"linecolor\":\"white\",\"showbackground\":true,\"ticks\":\"\",\"zerolinecolor\":\"white\"},\"yaxis\":{\"backgroundcolor\":\"#E5ECF6\",\"gridcolor\":\"white\",\"gridwidth\":2,\"linecolor\":\"white\",\"showbackground\":true,\"ticks\":\"\",\"zerolinecolor\":\"white\"},\"zaxis\":{\"backgroundcolor\":\"#E5ECF6\",\"gridcolor\":\"white\",\"gridwidth\":2,\"linecolor\":\"white\",\"showbackground\":true,\"ticks\":\"\",\"zerolinecolor\":\"white\"}},\"shapedefaults\":{\"line\":{\"color\":\"#2a3f5f\"}},\"ternary\":{\"aaxis\":{\"gridcolor\":\"white\",\"linecolor\":\"white\",\"ticks\":\"\"},\"baxis\":{\"gridcolor\":\"white\",\"linecolor\":\"white\",\"ticks\":\"\"},\"bgcolor\":\"#E5ECF6\",\"caxis\":{\"gridcolor\":\"white\",\"linecolor\":\"white\",\"ticks\":\"\"}},\"title\":{\"x\":0.05},\"xaxis\":{\"automargin\":true,\"gridcolor\":\"white\",\"linecolor\":\"white\",\"ticks\":\"\",\"title\":{\"standoff\":15},\"zerolinecolor\":\"white\",\"zerolinewidth\":2},\"yaxis\":{\"automargin\":true,\"gridcolor\":\"white\",\"linecolor\":\"white\",\"ticks\":\"\",\"title\":{\"standoff\":15},\"zerolinecolor\":\"white\",\"zerolinewidth\":2}}},\"title\":{\"font\":{\"size\":22},\"text\":\"Key Measurement\",\"x\":0.5},\"showlegend\":false,\"margin\":{\"l\":20,\"r\":20,\"t\":60,\"b\":20},\"updatemenus\":[{\"active\":0,\"buttons\":[{\"args\":[{\"visible\":[true,false,false,false,false,false,false,false,false,false,false,false,false,false,false,false,false,false,false,false,false,false,false,false,false,false,false,false,false,false,false,false,false,false,false,false,false,false,false,false,false,false,false,false,false,false,false,false,false,false,false,false]},{\"annotations\":[{\"showarrow\":false,\"text\":\"issues pressing to the community where you live - Accessing healthcare for 2020 & 2021, Accessing in-person healthcare (starting 2022)<br>1=Community working to help, 2=Government working to help, 0=Not helping, 4=Not an issue, so irrelevant\",\"font\":{\"size\":12},\"xref\":\"paper\",\"x\":1,\"yref\":\"paper\",\"y\":1.1,\"align\":\"right\"}]}],\"label\":\"issuehelp_1\",\"method\":\"update\"},{\"args\":[{\"visible\":[false,true,false,false,false,false,false,false,false,false,false,false,false,false,false,false,false,false,false,false,false,false,false,false,false,false,false,false,false,false,false,false,false,false,false,false,false,false,false,false,false,false,false,false,false,false,false,false,false,false,false,false]},{\"annotations\":[{\"showarrow\":false,\"text\":\"issues pressing to the community where you live - Economy (whether it is problems with unemployment, housing, etc)<br>1=Community working to help, 2=Government working to help, 0=Not helping, 4=Not an issue, so irrelevant\",\"font\":{\"size\":12},\"xref\":\"paper\",\"x\":1,\"yref\":\"paper\",\"y\":1.1,\"align\":\"right\"}]}],\"label\":\"issuehelp_2\",\"method\":\"update\"},{\"args\":[{\"visible\":[false,false,true,false,false,false,false,false,false,false,false,false,false,false,false,false,false,false,false,false,false,false,false,false,false,false,false,false,false,false,false,false,false,false,false,false,false,false,false,false,false,false,false,false,false,false,false,false,false,false,false,false]},{\"annotations\":[{\"showarrow\":false,\"text\":\"issues pressing to the community where you live - Education<br>1=Community working to help, 2=Government working to help, 0=Not helping, 4=Not an issue, so irrelevant\",\"font\":{\"size\":12},\"xref\":\"paper\",\"x\":1,\"yref\":\"paper\",\"y\":1.1,\"align\":\"right\"}]}],\"label\":\"issuehelp_3\",\"method\":\"update\"},{\"args\":[{\"visible\":[false,false,false,true,false,false,false,false,false,false,false,false,false,false,false,false,false,false,false,false,false,false,false,false,false,false,false,false,false,false,false,false,false,false,false,false,false,false,false,false,false,false,false,false,false,false,false,false,false,false,false,false]},{\"annotations\":[{\"showarrow\":false,\"text\":\"issues pressing to the community where you live - Violence, including domestic abuse<br>1=Community working to help, 2=Government working to help, 0=Not helping, 4=Not an issue, so irrelevant\",\"font\":{\"size\":12},\"xref\":\"paper\",\"x\":1,\"yref\":\"paper\",\"y\":1.1,\"align\":\"right\"}]}],\"label\":\"issuehelp_4\",\"method\":\"update\"},{\"args\":[{\"visible\":[false,false,false,false,true,false,false,false,false,false,false,false,false,false,false,false,false,false,false,false,false,false,false,false,false,false,false,false,false,false,false,false,false,false,false,false,false,false,false,false,false,false,false,false,false,false,false,false,false,false,false,false]},{\"annotations\":[{\"showarrow\":false,\"text\":\"issues pressing to the community where you live - Drugs, including misuse of prescriptions or any kind of drugs<br>1=Community working to help, 2=Government working to help, 0=Not helping, 4=Not an issue, so irrelevant\",\"font\":{\"size\":12},\"xref\":\"paper\",\"x\":1,\"yref\":\"paper\",\"y\":1.1,\"align\":\"right\"}]}],\"label\":\"issuehelp_5\",\"method\":\"update\"},{\"args\":[{\"visible\":[false,false,false,false,false,true,false,false,false,false,false,false,false,false,false,false,false,false,false,false,false,false,false,false,false,false,false,false,false,false,false,false,false,false,false,false,false,false,false,false,false,false,false,false,false,false,false,false,false,false,false,false]},{\"annotations\":[{\"showarrow\":false,\"text\":\"issues pressing to the community where you live - Crime<br>1=Community working to help, 2=Government working to help, 0=Not helping, 4=Not an issue, so irrelevant\",\"font\":{\"size\":12},\"xref\":\"paper\",\"x\":1,\"yref\":\"paper\",\"y\":1.1,\"align\":\"right\"}]}],\"label\":\"issuehelp_6\",\"method\":\"update\"},{\"args\":[{\"visible\":[false,false,false,false,false,false,true,false,false,false,false,false,false,false,false,false,false,false,false,false,false,false,false,false,false,false,false,false,false,false,false,false,false,false,false,false,false,false,false,false,false,false,false,false,false,false,false,false,false,false,false,false]},{\"annotations\":[{\"showarrow\":false,\"text\":\"issues pressing to the community where you live - Mental health<br>1=Community working to help, 2=Government working to help, 0=Not helping, 4=Not an issue, so irrelevant\",\"font\":{\"size\":12},\"xref\":\"paper\",\"x\":1,\"yref\":\"paper\",\"y\":1.1,\"align\":\"right\"}]}],\"label\":\"issuehelp_7\",\"method\":\"update\"},{\"args\":[{\"visible\":[false,false,false,false,false,false,false,true,false,false,false,false,false,false,false,false,false,false,false,false,false,false,false,false,false,false,false,false,false,false,false,false,false,false,false,false,false,false,false,false,false,false,false,false,false,false,false,false,false,false,false,false]},{\"annotations\":[{\"showarrow\":false,\"text\":\"issues pressing to the community where you live - Homelessness<br>1=Community working to help, 2=Government working to help, 0=Not helping, 4=Not an issue, so irrelevant\",\"font\":{\"size\":12},\"xref\":\"paper\",\"x\":1,\"yref\":\"paper\",\"y\":1.1,\"align\":\"right\"}]}],\"label\":\"issuehelp_8\",\"method\":\"update\"},{\"args\":[{\"visible\":[false,false,false,false,false,false,false,false,true,false,false,false,false,false,false,false,false,false,false,false,false,false,false,false,false,false,false,false,false,false,false,false,false,false,false,false,false,false,false,false,false,false,false,false,false,false,false,false,false,false,false,false]},{\"annotations\":[{\"showarrow\":false,\"text\":\"issues pressing to the community where you live - Prejudice against people of different ethnic or racial groups<br>1=Community working to help, 2=Government working to help, 0=Not helping, 4=Not an issue, so irrelevant\",\"font\":{\"size\":12},\"xref\":\"paper\",\"x\":1,\"yref\":\"paper\",\"y\":1.1,\"align\":\"right\"}]}],\"label\":\"issuehelp_9\",\"method\":\"update\"},{\"args\":[{\"visible\":[false,false,false,false,false,false,false,false,false,true,false,false,false,false,false,false,false,false,false,false,false,false,false,false,false,false,false,false,false,false,false,false,false,false,false,false,false,false,false,false,false,false,false,false,false,false,false,false,false,false,false,false]},{\"annotations\":[{\"showarrow\":false,\"text\":\"issues pressing to the community where you live - Prejudice against LGBTQ+ people<br>1=Community working to help, 2=Government working to help, 0=Not helping, 4=Not an issue, so irrelevant\",\"font\":{\"size\":12},\"xref\":\"paper\",\"x\":1,\"yref\":\"paper\",\"y\":1.1,\"align\":\"right\"}]}],\"label\":\"issuehelp_10\",\"method\":\"update\"},{\"args\":[{\"visible\":[false,false,false,false,false,false,false,false,false,false,true,false,false,false,false,false,false,false,false,false,false,false,false,false,false,false,false,false,false,false,false,false,false,false,false,false,false,false,false,false,false,false,false,false,false,false,false,false,false,false,false,false]},{\"annotations\":[{\"showarrow\":false,\"text\":\"issues pressing to the community where you live - Depression, hopelessness, or despair<br>1=Community working to help, 2=Government working to help, 0=Not helping, 4=Not an issue, so irrelevant\",\"font\":{\"size\":12},\"xref\":\"paper\",\"x\":1,\"yref\":\"paper\",\"y\":1.1,\"align\":\"right\"}]}],\"label\":\"issuehelp_11\",\"method\":\"update\"},{\"args\":[{\"visible\":[false,false,false,false,false,false,false,false,false,false,false,true,false,false,false,false,false,false,false,false,false,false,false,false,false,false,false,false,false,false,false,false,false,false,false,false,false,false,false,false,false,false,false,false,false,false,false,false,false,false,false,false]},{\"annotations\":[{\"showarrow\":false,\"text\":\"issues pressing to the community where you live - Use of alcohol<br>1=Community working to help, 2=Government working to help, 0=Not helping, 4=Not an issue, so irrelevant\",\"font\":{\"size\":12},\"xref\":\"paper\",\"x\":1,\"yref\":\"paper\",\"y\":1.1,\"align\":\"right\"}]}],\"label\":\"issuehelp_12\",\"method\":\"update\"},{\"args\":[{\"visible\":[false,false,false,false,false,false,false,false,false,false,false,false,true,false,false,false,false,false,false,false,false,false,false,false,false,false,false,false,false,false,false,false,false,false,false,false,false,false,false,false,false,false,false,false,false,false,false,false,false,false,false,false]},{\"annotations\":[{\"showarrow\":false,\"text\":\"issues pressing to the community where you live - Deteriorating traditional family values<br>1=Community working to help, 2=Government working to help, 0=Not helping, 4=Not an issue, so irrelevant\",\"font\":{\"size\":12},\"xref\":\"paper\",\"x\":1,\"yref\":\"paper\",\"y\":1.1,\"align\":\"right\"}]}],\"label\":\"issuehelp_13\",\"method\":\"update\"},{\"args\":[{\"visible\":[false,false,false,false,false,false,false,false,false,false,false,false,false,true,false,false,false,false,false,false,false,false,false,false,false,false,false,false,false,false,false,false,false,false,false,false,false,false,false,false,false,false,false,false,false,false,false,false,false,false,false,false]},{\"annotations\":[{\"showarrow\":false,\"text\":\"A key issue not listed in the survey (needs to check the free text response)\",\"font\":{\"size\":12},\"xref\":\"paper\",\"x\":1,\"yref\":\"paper\",\"y\":1.1,\"align\":\"right\"}]}],\"label\":\"issuehelp_14\",\"method\":\"update\"},{\"args\":[{\"visible\":[false,false,false,false,false,false,false,false,false,false,false,false,false,false,true,false,false,false,false,false,false,false,false,false,false,false,false,false,false,false,false,false,false,false,false,false,false,false,false,false,false,false,false,false,false,false,false,false,false,false,false,false]},{\"annotations\":[{\"showarrow\":false,\"text\":\"issues pressing to the community where you live - Accessing online healthcare (starting 2022)<br>1=Community working to help, 2=Government working to help, 0=Not helping, 4=Not an issue, so irrelevant\",\"font\":{\"size\":12},\"xref\":\"paper\",\"x\":1,\"yref\":\"paper\",\"y\":1.1,\"align\":\"right\"}]}],\"label\":\"cad_1\",\"method\":\"update\"},{\"args\":[{\"visible\":[false,false,false,false,false,false,false,false,false,false,false,false,false,false,false,true,false,false,false,false,false,false,false,false,false,false,false,false,false,false,false,false,false,false,false,false,false,false,false,false,false,false,false,false,false,false,false,false,false,false,false,false]},{\"annotations\":[{\"showarrow\":false,\"text\":\"issues pressing to the community where you live - Prejudice against people who use drugs (starting 2022)<br>1=Community working to help, 2=Government working to help, 0=Not helping, 4=Not an issue, so irrelevant\",\"font\":{\"size\":12},\"xref\":\"paper\",\"x\":1,\"yref\":\"paper\",\"y\":1.1,\"align\":\"right\"}]}],\"label\":\"cad_2\",\"method\":\"update\"},{\"args\":[{\"visible\":[false,false,false,false,false,false,false,false,false,false,false,false,false,false,false,false,true,false,false,false,false,false,false,false,false,false,false,false,false,false,false,false,false,false,false,false,false,false,false,false,false,false,false,false,false,false,false,false,false,false,false,false]},{\"annotations\":[{\"showarrow\":false,\"text\":\"issues pressing to the community where you live - Misleading/incorrect health information (starting 2022)<br>1=Community working to help, 2=Government working to help, 0=Not helping, 4=Not an issue, so irrelevant\",\"font\":{\"size\":12},\"xref\":\"paper\",\"x\":1,\"yref\":\"paper\",\"y\":1.1,\"align\":\"right\"}]}],\"label\":\"cad_3\",\"method\":\"update\"},{\"args\":[{\"visible\":[false,false,false,false,false,false,false,false,false,false,false,false,false,false,false,false,false,true,false,false,false,false,false,false,false,false,false,false,false,false,false,false,false,false,false,false,false,false,false,false,false,false,false,false,false,false,false,false,false,false,false,false]},{\"annotations\":[{\"showarrow\":false,\"text\":\"Marijuana (\\\"pot\\\", \\\"weed\\\")<br>0=Not common in my community, 1=Common in my community\",\"font\":{\"size\":12},\"xref\":\"paper\",\"x\":1,\"yref\":\"paper\",\"y\":1.1,\"align\":\"right\"}]}],\"label\":\"trust_1\",\"method\":\"update\"},{\"args\":[{\"visible\":[false,false,false,false,false,false,false,false,false,false,false,false,false,false,false,false,false,false,true,false,false,false,false,false,false,false,false,false,false,false,false,false,false,false,false,false,false,false,false,false,false,false,false,false,false,false,false,false,false,false,false,false]},{\"annotations\":[{\"showarrow\":false,\"text\":\"Amphetamines (prescription stimulants like Ritalin, Adderal)<br>0=Not common in my community, 1=Common in my community\",\"font\":{\"size\":12},\"xref\":\"paper\",\"x\":1,\"yref\":\"paper\",\"y\":1.1,\"align\":\"right\"}]}],\"label\":\"trust_2\",\"method\":\"update\"},{\"args\":[{\"visible\":[false,false,false,false,false,false,false,false,false,false,false,false,false,false,false,false,false,false,false,true,false,false,false,false,false,false,false,false,false,false,false,false,false,false,false,false,false,false,false,false,false,false,false,false,false,false,false,false,false,false,false,false]},{\"annotations\":[{\"showarrow\":false,\"text\":\"Methamphetamine (\\\"speed\\\", \\\"meth\\\")<br>0=Not common in my community, 1=Common in my community\",\"font\":{\"size\":12},\"xref\":\"paper\",\"x\":1,\"yref\":\"paper\",\"y\":1.1,\"align\":\"right\"}]}],\"label\":\"trust_3\",\"method\":\"update\"},{\"args\":[{\"visible\":[false,false,false,false,false,false,false,false,false,false,false,false,false,false,false,false,false,false,false,false,true,false,false,false,false,false,false,false,false,false,false,false,false,false,false,false,false,false,false,false,false,false,false,false,false,false,false,false,false,false,false,false]},{\"annotations\":[{\"showarrow\":false,\"text\":\"Cocaine<br>0=Not common in my community, 1=Common in my community\",\"font\":{\"size\":12},\"xref\":\"paper\",\"x\":1,\"yref\":\"paper\",\"y\":1.1,\"align\":\"right\"}]}],\"label\":\"trust_4\",\"method\":\"update\"},{\"args\":[{\"visible\":[false,false,false,false,false,false,false,false,false,false,false,false,false,false,false,false,false,false,false,false,false,true,false,false,false,false,false,false,false,false,false,false,false,false,false,false,false,false,false,false,false,false,false,false,false,false,false,false,false,false,false,false]},{\"annotations\":[{\"showarrow\":false,\"text\":\"Prescription Opioids for pain (like Oxycontin, Vicodin, Norco, Percocet, others)<br>0=Not common in my community, 1=Common in my community\",\"font\":{\"size\":12},\"xref\":\"paper\",\"x\":1,\"yref\":\"paper\",\"y\":1.1,\"align\":\"right\"}]}],\"label\":\"trust_5\",\"method\":\"update\"},{\"args\":[{\"visible\":[false,false,false,false,false,false,false,false,false,false,false,false,false,false,false,false,false,false,false,false,false,false,true,false,false,false,false,false,false,false,false,false,false,false,false,false,false,false,false,false,false,false,false,false,false,false,false,false,false,false,false,false]},{\"annotations\":[{\"showarrow\":false,\"text\":\"Heroin<br>0=Not common in my community, 1=Common in my community\",\"font\":{\"size\":12},\"xref\":\"paper\",\"x\":1,\"yref\":\"paper\",\"y\":1.1,\"align\":\"right\"}]}],\"label\":\"trust_6\",\"method\":\"update\"},{\"args\":[{\"visible\":[false,false,false,false,false,false,false,false,false,false,false,false,false,false,false,false,false,false,false,false,false,false,false,true,false,false,false,false,false,false,false,false,false,false,false,false,false,false,false,false,false,false,false,false,false,false,false,false,false,false,false,false]},{\"annotations\":[{\"showarrow\":false,\"text\":\"Fentanyl<br>0=Not common in my community, 1=Common in my community\",\"font\":{\"size\":12},\"xref\":\"paper\",\"x\":1,\"yref\":\"paper\",\"y\":1.1,\"align\":\"right\"}]}],\"label\":\"cdrugprob_1\",\"method\":\"update\"},{\"args\":[{\"visible\":[false,false,false,false,false,false,false,false,false,false,false,false,false,false,false,false,false,false,false,false,false,false,false,false,true,false,false,false,false,false,false,false,false,false,false,false,false,false,false,false,false,false,false,false,false,false,false,false,false,false,false,false]},{\"annotations\":[{\"showarrow\":false,\"text\":\"Non-opioid prescription pills for pain (like gabapentin [Neurontin], duloxetine [Cymbalta], venlafaxine [Effexor])<br>0=Not common in my community, 1=Common in my community\",\"font\":{\"size\":12},\"xref\":\"paper\",\"x\":1,\"yref\":\"paper\",\"y\":1.1,\"align\":\"right\"}]}],\"label\":\"cdrugprob_2\",\"method\":\"update\"},{\"args\":[{\"visible\":[false,false,false,false,false,false,false,false,false,false,false,false,false,false,false,false,false,false,false,false,false,false,false,false,false,true,false,false,false,false,false,false,false,false,false,false,false,false,false,false,false,false,false,false,false,false,false,false,false,false,false,false]},{\"annotations\":[{\"showarrow\":false,\"text\":\"Hallucinogens (\\\"LSD\\\", \\\"psilocybin mushrooms\\\", \\\"DMT\\\")<br>0=Not common in my community, 1=Common in my community\",\"font\":{\"size\":12},\"xref\":\"paper\",\"x\":1,\"yref\":\"paper\",\"y\":1.1,\"align\":\"right\"}]}],\"label\":\"cdrugprob_3\",\"method\":\"update\"},{\"args\":[{\"visible\":[false,false,false,false,false,false,false,false,false,false,false,false,false,false,false,false,false,false,false,false,false,false,false,false,false,false,true,false,false,false,false,false,false,false,false,false,false,false,false,false,false,false,false,false,false,false,false,false,false,false,false,false]},{\"annotations\":[{\"showarrow\":false,\"text\":\"Thinner orr other inhalents or solvents, suchas glue<br>0=Not common in my community, 1=Common in my community\",\"font\":{\"size\":12},\"xref\":\"paper\",\"x\":1,\"yref\":\"paper\",\"y\":1.1,\"align\":\"right\"}]}],\"label\":\"cdrugprob_4\",\"method\":\"update\"},{\"args\":[{\"visible\":[false,false,false,false,false,false,false,false,false,false,false,false,false,false,false,false,false,false,false,false,false,false,false,false,false,false,false,true,false,false,false,false,false,false,false,false,false,false,false,false,false,false,false,false,false,false,false,false,false,false,false,false]},{\"annotations\":[{\"showarrow\":false,\"text\":\"GHB<br>0=Not common in my community, 1=Common in my community\",\"font\":{\"size\":12},\"xref\":\"paper\",\"x\":1,\"yref\":\"paper\",\"y\":1.1,\"align\":\"right\"}]}],\"label\":\"cdrugprob_5\",\"method\":\"update\"},{\"args\":[{\"visible\":[false,false,false,false,false,false,false,false,false,false,false,false,false,false,false,false,false,false,false,false,false,false,false,false,false,false,false,false,true,false,false,false,false,false,false,false,false,false,false,false,false,false,false,false,false,false,false,false,false,false,false,false]},{\"annotations\":[{\"showarrow\":false,\"text\":\"Prescription pills for anxiety (like diazepam [Valium], lorazepam, alprazolam)<br>0=Not common in my community, 1=Common in my community\",\"font\":{\"size\":12},\"xref\":\"paper\",\"x\":1,\"yref\":\"paper\",\"y\":1.1,\"align\":\"right\"}]}],\"label\":\"cdrugprob_6\",\"method\":\"update\"},{\"args\":[{\"visible\":[false,false,false,false,false,false,false,false,false,false,false,false,false,false,false,false,false,false,false,false,false,false,false,false,false,false,false,false,false,true,false,false,false,false,false,false,false,false,false,false,false,false,false,false,false,false,false,false,false,false,false,false]},{\"annotations\":[{\"showarrow\":false,\"text\":\"Cigarettes<br>0=Not common in my community, 1=Common in my community\",\"font\":{\"size\":12},\"xref\":\"paper\",\"x\":1,\"yref\":\"paper\",\"y\":1.1,\"align\":\"right\"}]}],\"label\":\"cdrugprob_7\",\"method\":\"update\"},{\"args\":[{\"visible\":[false,false,false,false,false,false,false,false,false,false,false,false,false,false,false,false,false,false,false,false,false,false,false,false,false,false,false,false,false,false,true,false,false,false,false,false,false,false,false,false,false,false,false,false,false,false,false,false,false,false,false,false]},{\"annotations\":[{\"showarrow\":false,\"text\":\"Chewing Tobacco<br>0=Not common in my community, 1=Common in my community\",\"font\":{\"size\":12},\"xref\":\"paper\",\"x\":1,\"yref\":\"paper\",\"y\":1.1,\"align\":\"right\"}]}],\"label\":\"cdrugprob_8\",\"method\":\"update\"},{\"args\":[{\"visible\":[false,false,false,false,false,false,false,false,false,false,false,false,false,false,false,false,false,false,false,false,false,false,false,false,false,false,false,false,false,false,false,true,false,false,false,false,false,false,false,false,false,false,false,false,false,false,false,false,false,false,false,false]},{\"annotations\":[{\"showarrow\":false,\"text\":\"Nicotine Vaping products<br>0=Not common in my community, 1=Common in my community\",\"font\":{\"size\":12},\"xref\":\"paper\",\"x\":1,\"yref\":\"paper\",\"y\":1.1,\"align\":\"right\"}]}],\"label\":\"cdrugprob_9\",\"method\":\"update\"},{\"args\":[{\"visible\":[false,false,false,false,false,false,false,false,false,false,false,false,false,false,false,false,false,false,false,false,false,false,false,false,false,false,false,false,false,false,false,false,true,false,false,false,false,false,false,false,false,false,false,false,false,false,false,false,false,false,false,false]},{\"annotations\":[{\"showarrow\":false,\"text\":\"THC (psychoactive compound of Marijuana) Vaping products<br>0=Not common in my community, 1=Common in my community\",\"font\":{\"size\":12},\"xref\":\"paper\",\"x\":1,\"yref\":\"paper\",\"y\":1.1,\"align\":\"right\"}]}],\"label\":\"cdrugprob_10\",\"method\":\"update\"},{\"args\":[{\"visible\":[false,false,false,false,false,false,false,false,false,false,false,false,false,false,false,false,false,false,false,false,false,false,false,false,false,false,false,false,false,false,false,false,false,true,false,false,false,false,false,false,false,false,false,false,false,false,false,false,false,false,false,false]},{\"annotations\":[{\"showarrow\":false,\"text\":\"Ketamine (starting 2022)<br>0=Not common in my community, 1=Common in my community\",\"font\":{\"size\":12},\"xref\":\"paper\",\"x\":1,\"yref\":\"paper\",\"y\":1.1,\"align\":\"right\"}]}],\"label\":\"cdrugprob_11\",\"method\":\"update\"},{\"args\":[{\"visible\":[false,false,false,false,false,false,false,false,false,false,false,false,false,false,false,false,false,false,false,false,false,false,false,false,false,false,false,false,false,false,false,false,false,false,true,false,false,false,false,false,false,false,false,false,false,false,false,false,false,false,false,false]},{\"annotations\":[{\"showarrow\":false,\"text\":\"organizations people in your community place the most trust in - Local government<br>1=No trust at all, 2=Very little trust, 3=They are neutral, 4=Some trust, 5=A great deal of trust\",\"font\":{\"size\":12},\"xref\":\"paper\",\"x\":1,\"yref\":\"paper\",\"y\":1.1,\"align\":\"right\"}]}],\"label\":\"cdrugprob_12\",\"method\":\"update\"},{\"args\":[{\"visible\":[false,false,false,false,false,false,false,false,false,false,false,false,false,false,false,false,false,false,false,false,false,false,false,false,false,false,false,false,false,false,false,false,false,false,false,true,false,false,false,false,false,false,false,false,false,false,false,false,false,false,false,false]},{\"annotations\":[{\"showarrow\":false,\"text\":\"organizations people in your community place the most trust in - Healthcare providers<br>1=No trust at all, 2=Very little trust, 3=They are neutral, 4=Some trust, 5=A great deal of trust\",\"font\":{\"size\":12},\"xref\":\"paper\",\"x\":1,\"yref\":\"paper\",\"y\":1.1,\"align\":\"right\"}]}],\"label\":\"cdrugprob_13\",\"method\":\"update\"},{\"args\":[{\"visible\":[false,false,false,false,false,false,false,false,false,false,false,false,false,false,false,false,false,false,false,false,false,false,false,false,false,false,false,false,false,false,false,false,false,false,false,false,true,false,false,false,false,false,false,false,false,false,false,false,false,false,false,false]},{\"annotations\":[{\"showarrow\":false,\"text\":\"organizations people in your community place the most trust in - Federal government<br>1=No trust at all, 2=Very little trust, 3=They are neutral, 4=Some trust, 5=A great deal of trust\",\"font\":{\"size\":12},\"xref\":\"paper\",\"x\":1,\"yref\":\"paper\",\"y\":1.1,\"align\":\"right\"}]}],\"label\":\"cdrugprob_14\",\"method\":\"update\"},{\"args\":[{\"visible\":[false,false,false,false,false,false,false,false,false,false,false,false,false,false,false,false,false,false,false,false,false,false,false,false,false,false,false,false,false,false,false,false,false,false,false,false,false,true,false,false,false,false,false,false,false,false,false,false,false,false,false,false]},{\"annotations\":[{\"showarrow\":false,\"text\":\"organizations people in your community place the most trust in - Federal government efforts to control and prevent the spread of disease, such as the Centers for Disease Control (CDC)<br>1=No trust at all, 2=Very little trust, 3=They are neutral, 4=Some trust, 5=A great deal of trust\",\"font\":{\"size\":12},\"xref\":\"paper\",\"x\":1,\"yref\":\"paper\",\"y\":1.1,\"align\":\"right\"}]}],\"label\":\"cdrugprob_15\",\"method\":\"update\"},{\"args\":[{\"visible\":[false,false,false,false,false,false,false,false,false,false,false,false,false,false,false,false,false,false,false,false,false,false,false,false,false,false,false,false,false,false,false,false,false,false,false,false,false,false,true,false,false,false,false,false,false,false,false,false,false,false,false,false]},{\"annotations\":[{\"showarrow\":false,\"text\":\"organizations people in your community place the most trust in - Religious organizations in the community<br>1=No trust at all, 2=Very little trust, 3=They are neutral, 4=Some trust, 5=A great deal of trust\",\"font\":{\"size\":12},\"xref\":\"paper\",\"x\":1,\"yref\":\"paper\",\"y\":1.1,\"align\":\"right\"}]}],\"label\":\"cdrugprob_16\",\"method\":\"update\"},{\"args\":[{\"visible\":[false,false,false,false,false,false,false,false,false,false,false,false,false,false,false,false,false,false,false,false,false,false,false,false,false,false,false,false,false,false,false,false,false,false,false,false,false,false,false,true,false,false,false,false,false,false,false,false,false,false,false,false]},{\"annotations\":[{\"showarrow\":false,\"text\":\"The types of sources and organizations that people in your community place the most trust in - Community organizations<br>1=No trust at all, 2=Very little trust, 3=They are neutral, 4=Some trust, 5=A great deal of trust\",\"font\":{\"size\":12},\"xref\":\"paper\",\"x\":1,\"yref\":\"paper\",\"y\":1.1,\"align\":\"right\"}]}],\"label\":\"issuehelp_15\",\"method\":\"update\"},{\"args\":[{\"visible\":[false,false,false,false,false,false,false,false,false,false,false,false,false,false,false,false,false,false,false,false,false,false,false,false,false,false,false,false,false,false,false,false,false,false,false,false,false,false,false,false,true,false,false,false,false,false,false,false,false,false,false,false]},{\"annotations\":[{\"showarrow\":false,\"text\":\"Most believe that people who have a substance use disorder are responsible for their problems<br>1=Strongly disagree, 2=Somewhat disagree, 3=Neither agree nor disagree, 4=Somewhat agree, 5=Strongly agree\",\"font\":{\"size\":12},\"xref\":\"paper\",\"x\":1,\"yref\":\"paper\",\"y\":1.1,\"align\":\"right\"}]}],\"label\":\"issuehelp_16\",\"method\":\"update\"},{\"args\":[{\"visible\":[false,false,false,false,false,false,false,false,false,false,false,false,false,false,false,false,false,false,false,false,false,false,false,false,false,false,false,false,false,false,false,false,false,false,false,false,false,false,false,false,false,true,false,false,false,false,false,false,false,false,false,false]},{\"annotations\":[{\"showarrow\":false,\"text\":\"Most believe that people develop a substance use disorder because of their own choices<br>1=Strongly disagree, 2=Somewhat disagree, 3=Neither agree nor disagree, 4=Somewhat agree, 5=Strongly agree\",\"font\":{\"size\":12},\"xref\":\"paper\",\"x\":1,\"yref\":\"paper\",\"y\":1.1,\"align\":\"right\"}]}],\"label\":\"issuehelp_17\",\"method\":\"update\"},{\"args\":[{\"visible\":[false,false,false,false,false,false,false,false,false,false,false,false,false,false,false,false,false,false,false,false,false,false,false,false,false,false,false,false,false,false,false,false,false,false,false,false,false,false,false,false,false,false,true,false,false,false,false,false,false,false,false,false]},{\"annotations\":[{\"showarrow\":false,\"text\":\"Most believe that people develop a substance use disorder because of circumstances beyond their control<br>1=Strongly disagree, 2=Somewhat disagree, 3=Neither agree nor disagree, 4=Somewhat agree, 5=Strongly agree\",\"font\":{\"size\":12},\"xref\":\"paper\",\"x\":1,\"yref\":\"paper\",\"y\":1.1,\"align\":\"right\"}]}],\"label\":\"cdrugprob_17\",\"method\":\"update\"},{\"args\":[{\"visible\":[false,false,false,false,false,false,false,false,false,false,false,false,false,false,false,false,false,false,false,false,false,false,false,false,false,false,false,false,false,false,false,false,false,false,false,false,false,false,false,false,false,false,false,true,false,false,false,false,false,false,false,false]},{\"annotations\":[{\"showarrow\":false,\"text\":\"Calculate the total number of issues<br>1=Community working to help, 2=Government working to help, 0=Not helping, 4=Not an issue, so irrelevant\",\"font\":{\"size\":12},\"xref\":\"paper\",\"x\":1,\"yref\":\"paper\",\"y\":1.1,\"align\":\"right\"}]}],\"label\":\"issuehelp_ttl\",\"method\":\"update\"},{\"args\":[{\"visible\":[false,false,false,false,false,false,false,false,false,false,false,false,false,false,false,false,false,false,false,false,false,false,false,false,false,false,false,false,false,false,false,false,false,false,false,false,false,false,false,false,false,false,false,false,true,false,false,false,false,false,false,false]},{\"annotations\":[{\"showarrow\":false,\"text\":\"Calculate the total number of drug problem<br>0=Not common in my community, 1=Common in my community\",\"font\":{\"size\":12},\"xref\":\"paper\",\"x\":1,\"yref\":\"paper\",\"y\":1.1,\"align\":\"right\"}]}],\"label\":\"cdrugprob_ttl\",\"method\":\"update\"},{\"args\":[{\"visible\":[false,false,false,false,false,false,false,false,false,false,false,false,false,false,false,false,false,false,false,false,false,false,false,false,false,false,false,false,false,false,false,false,false,false,false,false,false,false,false,false,false,false,false,false,false,true,false,false,false,false,false,false]},{\"annotations\":[{\"showarrow\":false,\"text\":\"Calculate the level of trust to organizations<br>1=No trust at all, 2=Very little trust, 3=They are neutral, 4=Some trust, 5=A great deal of trust\",\"font\":{\"size\":12},\"xref\":\"paper\",\"x\":1,\"yref\":\"paper\",\"y\":1.1,\"align\":\"right\"}]}],\"label\":\"trust_avg\",\"method\":\"update\"},{\"args\":[{\"visible\":[false,false,false,false,false,false,false,false,false,false,false,false,false,false,false,false,false,false,false,false,false,false,false,false,false,false,false,false,false,false,false,false,false,false,false,false,false,false,false,false,false,false,false,false,false,false,true,false,false,false,false,false]},{\"annotations\":[{\"showarrow\":false,\"text\":\"Calculate the level of attitude toward drug use in the community<br>1=Strongly disagree, 2=Somewhat disagree, 3=Neither agree nor disagree, 4=Somewhat agree, 5=Strongly agree\",\"font\":{\"size\":12},\"xref\":\"paper\",\"x\":1,\"yref\":\"paper\",\"y\":1.1,\"align\":\"right\"}]}],\"label\":\"attdruguse_avg\",\"method\":\"update\"},{\"args\":[{\"visible\":[false,false,false,false,false,false,false,false,false,false,false,false,false,false,false,false,false,false,false,false,false,false,false,false,false,false,false,false,false,false,false,false,false,false,false,false,false,false,false,false,false,false,false,false,false,false,false,true,false,false,false,false]},{\"annotations\":[{\"showarrow\":false,\"text\":\"Calculate the level of stigma of people who use drugs<br>1=Strongly disagree, 2=Somewhat disagree, 3=Neither agree nor disagree, 4=Somewhat agree, 5=Strongly agree\",\"font\":{\"size\":12},\"xref\":\"paper\",\"x\":1,\"yref\":\"paper\",\"y\":1.1,\"align\":\"right\"}]}],\"label\":\"stigma_avg\",\"method\":\"update\"},{\"args\":[{\"visible\":[false,false,false,false,false,false,false,false,false,false,false,false,false,false,false,false,false,false,false,false,false,false,false,false,false,false,false,false,false,false,false,false,false,false,false,false,false,false,false,false,false,false,false,false,false,false,false,false,true,false,false,false]},{\"annotations\":[{\"showarrow\":false,\"text\":\"Calculate the level of alienation of people who use drugs<br>1=Strongly disagree, 2=Somewhat disagree, 3=Neither agree nor disagree, 4=Somewhat agree, 5=Strongly agree\",\"font\":{\"size\":12},\"xref\":\"paper\",\"x\":1,\"yref\":\"paper\",\"y\":1.1,\"align\":\"right\"}]}],\"label\":\"alienation_avg\",\"method\":\"update\"},{\"args\":[{\"visible\":[false,false,false,false,false,false,false,false,false,false,false,false,false,false,false,false,false,false,false,false,false,false,false,false,false,false,false,false,false,false,false,false,false,false,false,false,false,false,false,false,false,false,false,false,false,false,false,false,false,true,false,false]},{\"annotations\":[{\"showarrow\":false,\"text\":\"Calculate the level of community perceptions of people who use drugs<br>1=Strongly disagree, 2=Somewhat disagree, 3=Neither agree nor disagree, 4=Somewhat agree, 5=Strongly agree\",\"font\":{\"size\":12},\"xref\":\"paper\",\"x\":1,\"yref\":\"paper\",\"y\":1.1,\"align\":\"right\"}]}],\"label\":\"deval_avg\",\"method\":\"update\"},{\"args\":[{\"visible\":[false,false,false,false,false,false,false,false,false,false,false,false,false,false,false,false,false,false,false,false,false,false,false,false,false,false,false,false,false,false,false,false,false,false,false,false,false,false,false,false,false,false,false,false,false,false,false,false,false,false,true,false]},{\"annotations\":[{\"showarrow\":false,\"text\":\"Calculate the level of community perceptions of stigma of services for people who use drugs<br>1=Strongly disagree, 2=Somewhat disagree, 3=Neither agree nor disagree, 4=Somewhat agree, 5=Strongly agree\",\"font\":{\"size\":12},\"xref\":\"paper\",\"x\":1,\"yref\":\"paper\",\"y\":1.1,\"align\":\"right\"}]}],\"label\":\"pwudserv_avg\",\"method\":\"update\"},{\"args\":[{\"visible\":[false,false,false,false,false,false,false,false,false,false,false,false,false,false,false,false,false,false,false,false,false,false,false,false,false,false,false,false,false,false,false,false,false,false,false,false,false,false,false,false,false,false,false,false,false,false,false,false,false,false,false,true]},{\"annotations\":[{\"showarrow\":false,\"text\":\"Calculate the level of community perceptions of recovery for people who use drugs<br>1=Strongly disagree, 2=Somewhat disagree, 3=Neither agree nor disagree, 4=Somewhat agree, 5=Strongly agree\",\"font\":{\"size\":12},\"xref\":\"paper\",\"x\":1,\"yref\":\"paper\",\"y\":1.1,\"align\":\"right\"}]}],\"label\":\"pwudrecovery_avg\",\"method\":\"update\"}],\"type\":\"dropdown\",\"x\":1,\"xanchor\":\"right\",\"y\":1.1,\"yanchor\":\"bottom\"}],\"paper_bgcolor\":\"aliceblue\"},                        {\"responsive\": true}                    ).then(function(){\n",
              "                            \n",
              "var gd = document.getElementById('94ca23a2-0d5e-436b-9f44-7ce3fcdb3f2f');\n",
              "var x = new MutationObserver(function (mutations, observer) {{\n",
              "        var display = window.getComputedStyle(gd).display;\n",
              "        if (!display || display === 'none') {{\n",
              "            console.log([gd, 'removed!']);\n",
              "            Plotly.purge(gd);\n",
              "            observer.disconnect();\n",
              "        }}\n",
              "}});\n",
              "\n",
              "// Listen for the removal of the full notebook cells\n",
              "var notebookContainer = gd.closest('#notebook-container');\n",
              "if (notebookContainer) {{\n",
              "    x.observe(notebookContainer, {childList: true});\n",
              "}}\n",
              "\n",
              "// Listen for the clearing of the current output cell\n",
              "var outputEl = gd.closest('.output');\n",
              "if (outputEl) {{\n",
              "    x.observe(outputEl, {childList: true});\n",
              "}}\n",
              "\n",
              "                        })                };                            </script>        </div>\n",
              "</body>\n",
              "</html>"
            ]
          },
          "metadata": {}
        }
      ]
    },
    {
      "cell_type": "markdown",
      "source": [
        "### Yearly trend"
      ],
      "metadata": {
        "id": "anvQGzLjtcQH"
      }
    },
    {
      "cell_type": "markdown",
      "source": [
        "This displays the yearly trend for survey items"
      ],
      "metadata": {
        "id": "UF6ZT0KHjXmM"
      }
    },
    {
      "cell_type": "code",
      "source": [
        "# select columns\n",
        "trend = num[['Status','issuehelp_ttl', 'cdrugprob_ttl', 'trust_avg', 'attdruguse_avg', 'year', 'stigma_avg', 'alienation_avg', 'deval_avg', 'pwudserv_avg', 'pwudrecovery_avg']]\n",
        "trend = trend.rename({'Status':'num_of_participants'}, axis= 1)"
      ],
      "metadata": {
        "id": "Y-lfvv61JiIZ"
      },
      "execution_count": null,
      "outputs": []
    },
    {
      "cell_type": "code",
      "source": [
        "# update the note for each dropdown button\n",
        "# ordered by each column\n",
        "\n",
        "note4 = ['Number of Participants',\n",
        "         'Calculate the total number of issues<br>1=Community working to help, 2=Government working to help, 0=Not helping, 4=Not an issue, so irrelevant', # issuehelp_ttl\n",
        "        'Calculate the total number of drug problem<br>0=Not common in my community, 1=Common in my community', # cdrugprob_ttl\n",
        "        'Calculate the level of trust to organizations<br>1=No trust at all, 2=Very little trust, 3=They are neutral, 4=Some trust, 5=A great deal of trust', # trust_avg\n",
        "        'Calculate the level of attitude toward drug use in the community<br>1=Strongly disagree, 2=Somewhat disagree, 3=Neither agree nor disagree, 4=Somewhat agree, 5=Strongly agree', # attdruguse_avg\n",
        "        '(starting 2022) Calculate the level of stigma of people who use drugs<br>1=Strongly disagree, 2=Somewhat disagree, 3=Neither agree nor disagree, 4=Somewhat agree, 5=Strongly agree', #stigma_avg\n",
        "        '(starting 2022) Calculate the level of alienation of people who use drugs<br>1=Strongly disagree, 2=Somewhat disagree, 3=Neither agree nor disagree, 4=Somewhat agree, 5=Strongly agree', #alienation_avg\n",
        "        '(starting 2022) Calculate the level of community perceptions of people who use drugs<br>1=Strongly disagree, 2=Somewhat disagree, 3=Neither agree nor disagree, 4=Somewhat agree, 5=Strongly agree', #deval_avg\n",
        "        '(starting 2022) Calculate the level of community perceptions of stigma of services for people who use drugs<br>1=Strongly disagree, 2=Somewhat disagree, 3=Neither agree nor disagree, 4=Somewhat agree, 5=Strongly agree', #pwudserv_avg\n",
        "        '(starting 2022) Calculate the level of community perceptions of recovery for people who use drugs<br>1=Strongly disagree, 2=Somewhat disagree, 3=Neither agree nor disagree, 4=Somewhat agree, 5=Strongly agree' #pwudrecovery_avg\n",
        "        ]\n",
        "\n",
        "d4 = dict()\n",
        "\n",
        "for idx, value in enumerate(note4):\n",
        "    key = 'anno' + str(idx)\n",
        "    d4[key] = [dict(showarrow=False,\n",
        "                    text=value,\n",
        "                    font=dict(size=12), \n",
        "                    xref='paper',\n",
        "                    x=1,\n",
        "                    yref='paper',\n",
        "                    y=1.1,\n",
        "                    align = 'right'\n",
        "                    )]"
      ],
      "metadata": {
        "id": "a0c0UahcUiIm"
      },
      "execution_count": null,
      "outputs": []
    },
    {
      "cell_type": "code",
      "source": [
        "# Initialize figure\n",
        "fig4 = go.Figure()\n",
        "\n",
        "buttons4 = []\n",
        "\n",
        "for col_name in trend.set_index('year').columns:\n",
        "  ## add traces\n",
        "  fig4.add_trace(go.Scatter(\n",
        "            x=[str(x) for x in trend.year.unique().tolist()],\n",
        "            # add different aggregations to the figure\n",
        "            y=trend.groupby('year').agg({'num_of_participants':'count', \n",
        "                         'issuehelp_ttl':'mean', \n",
        "                         'cdrugprob_ttl':'mean', \n",
        "                         'trust_avg':'mean', \n",
        "                         'attdruguse_avg':'mean', \n",
        "                         'stigma_avg':'mean', \n",
        "                         'alienation_avg':'mean', \n",
        "                         'deval_avg':'mean', \n",
        "                         'pwudserv_avg':'mean', \n",
        "                         'pwudrecovery_avg':'mean'})[col_name], \n",
        "            text=trend.groupby('year').agg({'num_of_participants':'count', \n",
        "                         'issuehelp_ttl':'mean', \n",
        "                         'cdrugprob_ttl':'mean', \n",
        "                         'trust_avg':'mean', \n",
        "                         'attdruguse_avg':'mean', \n",
        "                         'stigma_avg':'mean', \n",
        "                         'alienation_avg':'mean', \n",
        "                         'deval_avg':'mean', \n",
        "                         'pwudserv_avg':'mean', \n",
        "                         'pwudrecovery_avg':'mean'})[col_name].values.tolist(), \n",
        "            name=col_name,\n",
        "            visible = False\n",
        "            )\n",
        "        )\n",
        "  \n",
        "for i, column in enumerate(trend.set_index('year').columns): # set index so that they don't display\n",
        "  args = [False] * len(trend.set_index('year').columns)\n",
        "  args[i] = True\n",
        "\n",
        "  button4 = dict(label = column,\n",
        "                  method = \"update\",\n",
        "                  args=[{\"visible\": args},\n",
        "                        {\"annotations\": list(d4.values())[i]}])\n",
        "  buttons4.append(button4)\n",
        "\n",
        "\n",
        "fig4.update_layout(\n",
        "    updatemenus=[dict(active=0,\n",
        "                      type=\"dropdown\",\n",
        "                    buttons=buttons4,\n",
        "                    x = 1,\n",
        "                    y = 1.1,\n",
        "                    xanchor = 'right',\n",
        "                    yanchor = 'bottom'\n",
        "                )], \n",
        "    margin=dict(l=20, r=20, t=60, b=20),#setup the margin\n",
        "    paper_bgcolor=\"aliceblue\", #setup the background color\n",
        "    title_text=\"Yearly Trend (does not change with the year filter)\",\n",
        "    title_x=0.5,\n",
        "    showlegend=False,\n",
        "    title_font_size=22)\n",
        "\n",
        "fig4.show()"
      ],
      "metadata": {
        "colab": {
          "base_uri": "https://localhost:8080/"
        },
        "id": "_xXSduBK0Y-X",
        "outputId": "d6482e72-d6ec-4b0d-f4ce-9718df3324bd"
      },
      "execution_count": null,
      "outputs": [
        {
          "output_type": "display_data",
          "data": {
            "text/html": [
              "<html>\n",
              "<head><meta charset=\"utf-8\" /></head>\n",
              "<body>\n",
              "    <div>            <script src=\"https://cdnjs.cloudflare.com/ajax/libs/mathjax/2.7.5/MathJax.js?config=TeX-AMS-MML_SVG\"></script><script type=\"text/javascript\">if (window.MathJax) {MathJax.Hub.Config({SVG: {font: \"STIX-Web\"}});}</script>                <script type=\"text/javascript\">window.PlotlyConfig = {MathJaxConfig: 'local'};</script>\n",
              "        <script src=\"https://cdn.plot.ly/plotly-2.8.3.min.js\"></script>                <div id=\"d3f3a742-d0ee-45f8-82dd-b191b05e938a\" class=\"plotly-graph-div\" style=\"height:525px; width:100%;\"></div>            <script type=\"text/javascript\">                                    window.PLOTLYENV=window.PLOTLYENV || {};                                    if (document.getElementById(\"d3f3a742-d0ee-45f8-82dd-b191b05e938a\")) {                    Plotly.newPlot(                        \"d3f3a742-d0ee-45f8-82dd-b191b05e938a\",                        [{\"name\":\"num_of_participants\",\"text\":[\"109\",\"56\",\"31\"],\"visible\":false,\"x\":[\"2020\",\"2021\",\"2022\"],\"y\":[109,56,31],\"type\":\"scatter\"},{\"name\":\"issuehelp_ttl\",\"text\":[\"19.942028985507246\",\"21.818181818181817\",\"32.5\"],\"visible\":false,\"x\":[\"2020\",\"2021\",\"2022\"],\"y\":[19.942028985507246,21.818181818181817,32.5],\"type\":\"scatter\"},{\"name\":\"cdrugprob_ttl\",\"text\":[\"10.842105263157896\",\"10.957446808510639\",\"11.448275862068966\"],\"visible\":false,\"x\":[\"2020\",\"2021\",\"2022\"],\"y\":[10.842105263157896,10.957446808510639,11.448275862068966],\"type\":\"scatter\"},{\"name\":\"trust_avg\",\"text\":[\"3.506872852233677\",\"3.590277777777778\",\"3.444444444444445\"],\"visible\":false,\"x\":[\"2020\",\"2021\",\"2022\"],\"y\":[3.506872852233677,3.590277777777778,3.444444444444445],\"type\":\"scatter\"},{\"name\":\"attdruguse_avg\",\"text\":[\"3.363945578231292\",\"3.3819444444444446\",\"3.488888888888889\"],\"visible\":false,\"x\":[\"2020\",\"2021\",\"2022\"],\"y\":[3.363945578231292,3.3819444444444446,3.488888888888889],\"type\":\"scatter\"},{\"name\":\"stigma_avg\",\"text\":[\"nan\",\"nan\",\"3.75\"],\"visible\":false,\"x\":[\"2020\",\"2021\",\"2022\"],\"y\":[null,null,3.75],\"type\":\"scatter\"},{\"name\":\"alienation_avg\",\"text\":[\"nan\",\"nan\",\"4.422222222222222\"],\"visible\":false,\"x\":[\"2020\",\"2021\",\"2022\"],\"y\":[null,null,4.422222222222222],\"type\":\"scatter\"},{\"name\":\"deval_avg\",\"text\":[\"nan\",\"nan\",\"4.137931034482758\"],\"visible\":false,\"x\":[\"2020\",\"2021\",\"2022\"],\"y\":[null,null,4.137931034482758],\"type\":\"scatter\"},{\"name\":\"pwudserv_avg\",\"text\":[\"nan\",\"nan\",\"3.0459770114942524\"],\"visible\":false,\"x\":[\"2020\",\"2021\",\"2022\"],\"y\":[null,null,3.0459770114942524],\"type\":\"scatter\"},{\"name\":\"pwudrecovery_avg\",\"text\":[\"nan\",\"nan\",\"3.427586206896552\"],\"visible\":false,\"x\":[\"2020\",\"2021\",\"2022\"],\"y\":[null,null,3.427586206896552],\"type\":\"scatter\"}],                        {\"template\":{\"data\":{\"bar\":[{\"error_x\":{\"color\":\"#2a3f5f\"},\"error_y\":{\"color\":\"#2a3f5f\"},\"marker\":{\"line\":{\"color\":\"#E5ECF6\",\"width\":0.5},\"pattern\":{\"fillmode\":\"overlay\",\"size\":10,\"solidity\":0.2}},\"type\":\"bar\"}],\"barpolar\":[{\"marker\":{\"line\":{\"color\":\"#E5ECF6\",\"width\":0.5},\"pattern\":{\"fillmode\":\"overlay\",\"size\":10,\"solidity\":0.2}},\"type\":\"barpolar\"}],\"carpet\":[{\"aaxis\":{\"endlinecolor\":\"#2a3f5f\",\"gridcolor\":\"white\",\"linecolor\":\"white\",\"minorgridcolor\":\"white\",\"startlinecolor\":\"#2a3f5f\"},\"baxis\":{\"endlinecolor\":\"#2a3f5f\",\"gridcolor\":\"white\",\"linecolor\":\"white\",\"minorgridcolor\":\"white\",\"startlinecolor\":\"#2a3f5f\"},\"type\":\"carpet\"}],\"choropleth\":[{\"colorbar\":{\"outlinewidth\":0,\"ticks\":\"\"},\"type\":\"choropleth\"}],\"contour\":[{\"colorbar\":{\"outlinewidth\":0,\"ticks\":\"\"},\"colorscale\":[[0.0,\"#0d0887\"],[0.1111111111111111,\"#46039f\"],[0.2222222222222222,\"#7201a8\"],[0.3333333333333333,\"#9c179e\"],[0.4444444444444444,\"#bd3786\"],[0.5555555555555556,\"#d8576b\"],[0.6666666666666666,\"#ed7953\"],[0.7777777777777778,\"#fb9f3a\"],[0.8888888888888888,\"#fdca26\"],[1.0,\"#f0f921\"]],\"type\":\"contour\"}],\"contourcarpet\":[{\"colorbar\":{\"outlinewidth\":0,\"ticks\":\"\"},\"type\":\"contourcarpet\"}],\"heatmap\":[{\"colorbar\":{\"outlinewidth\":0,\"ticks\":\"\"},\"colorscale\":[[0.0,\"#0d0887\"],[0.1111111111111111,\"#46039f\"],[0.2222222222222222,\"#7201a8\"],[0.3333333333333333,\"#9c179e\"],[0.4444444444444444,\"#bd3786\"],[0.5555555555555556,\"#d8576b\"],[0.6666666666666666,\"#ed7953\"],[0.7777777777777778,\"#fb9f3a\"],[0.8888888888888888,\"#fdca26\"],[1.0,\"#f0f921\"]],\"type\":\"heatmap\"}],\"heatmapgl\":[{\"colorbar\":{\"outlinewidth\":0,\"ticks\":\"\"},\"colorscale\":[[0.0,\"#0d0887\"],[0.1111111111111111,\"#46039f\"],[0.2222222222222222,\"#7201a8\"],[0.3333333333333333,\"#9c179e\"],[0.4444444444444444,\"#bd3786\"],[0.5555555555555556,\"#d8576b\"],[0.6666666666666666,\"#ed7953\"],[0.7777777777777778,\"#fb9f3a\"],[0.8888888888888888,\"#fdca26\"],[1.0,\"#f0f921\"]],\"type\":\"heatmapgl\"}],\"histogram\":[{\"marker\":{\"pattern\":{\"fillmode\":\"overlay\",\"size\":10,\"solidity\":0.2}},\"type\":\"histogram\"}],\"histogram2d\":[{\"colorbar\":{\"outlinewidth\":0,\"ticks\":\"\"},\"colorscale\":[[0.0,\"#0d0887\"],[0.1111111111111111,\"#46039f\"],[0.2222222222222222,\"#7201a8\"],[0.3333333333333333,\"#9c179e\"],[0.4444444444444444,\"#bd3786\"],[0.5555555555555556,\"#d8576b\"],[0.6666666666666666,\"#ed7953\"],[0.7777777777777778,\"#fb9f3a\"],[0.8888888888888888,\"#fdca26\"],[1.0,\"#f0f921\"]],\"type\":\"histogram2d\"}],\"histogram2dcontour\":[{\"colorbar\":{\"outlinewidth\":0,\"ticks\":\"\"},\"colorscale\":[[0.0,\"#0d0887\"],[0.1111111111111111,\"#46039f\"],[0.2222222222222222,\"#7201a8\"],[0.3333333333333333,\"#9c179e\"],[0.4444444444444444,\"#bd3786\"],[0.5555555555555556,\"#d8576b\"],[0.6666666666666666,\"#ed7953\"],[0.7777777777777778,\"#fb9f3a\"],[0.8888888888888888,\"#fdca26\"],[1.0,\"#f0f921\"]],\"type\":\"histogram2dcontour\"}],\"mesh3d\":[{\"colorbar\":{\"outlinewidth\":0,\"ticks\":\"\"},\"type\":\"mesh3d\"}],\"parcoords\":[{\"line\":{\"colorbar\":{\"outlinewidth\":0,\"ticks\":\"\"}},\"type\":\"parcoords\"}],\"pie\":[{\"automargin\":true,\"type\":\"pie\"}],\"scatter\":[{\"marker\":{\"colorbar\":{\"outlinewidth\":0,\"ticks\":\"\"}},\"type\":\"scatter\"}],\"scatter3d\":[{\"line\":{\"colorbar\":{\"outlinewidth\":0,\"ticks\":\"\"}},\"marker\":{\"colorbar\":{\"outlinewidth\":0,\"ticks\":\"\"}},\"type\":\"scatter3d\"}],\"scattercarpet\":[{\"marker\":{\"colorbar\":{\"outlinewidth\":0,\"ticks\":\"\"}},\"type\":\"scattercarpet\"}],\"scattergeo\":[{\"marker\":{\"colorbar\":{\"outlinewidth\":0,\"ticks\":\"\"}},\"type\":\"scattergeo\"}],\"scattergl\":[{\"marker\":{\"colorbar\":{\"outlinewidth\":0,\"ticks\":\"\"}},\"type\":\"scattergl\"}],\"scattermapbox\":[{\"marker\":{\"colorbar\":{\"outlinewidth\":0,\"ticks\":\"\"}},\"type\":\"scattermapbox\"}],\"scatterpolar\":[{\"marker\":{\"colorbar\":{\"outlinewidth\":0,\"ticks\":\"\"}},\"type\":\"scatterpolar\"}],\"scatterpolargl\":[{\"marker\":{\"colorbar\":{\"outlinewidth\":0,\"ticks\":\"\"}},\"type\":\"scatterpolargl\"}],\"scatterternary\":[{\"marker\":{\"colorbar\":{\"outlinewidth\":0,\"ticks\":\"\"}},\"type\":\"scatterternary\"}],\"surface\":[{\"colorbar\":{\"outlinewidth\":0,\"ticks\":\"\"},\"colorscale\":[[0.0,\"#0d0887\"],[0.1111111111111111,\"#46039f\"],[0.2222222222222222,\"#7201a8\"],[0.3333333333333333,\"#9c179e\"],[0.4444444444444444,\"#bd3786\"],[0.5555555555555556,\"#d8576b\"],[0.6666666666666666,\"#ed7953\"],[0.7777777777777778,\"#fb9f3a\"],[0.8888888888888888,\"#fdca26\"],[1.0,\"#f0f921\"]],\"type\":\"surface\"}],\"table\":[{\"cells\":{\"fill\":{\"color\":\"#EBF0F8\"},\"line\":{\"color\":\"white\"}},\"header\":{\"fill\":{\"color\":\"#C8D4E3\"},\"line\":{\"color\":\"white\"}},\"type\":\"table\"}]},\"layout\":{\"annotationdefaults\":{\"arrowcolor\":\"#2a3f5f\",\"arrowhead\":0,\"arrowwidth\":1},\"autotypenumbers\":\"strict\",\"coloraxis\":{\"colorbar\":{\"outlinewidth\":0,\"ticks\":\"\"}},\"colorscale\":{\"diverging\":[[0,\"#8e0152\"],[0.1,\"#c51b7d\"],[0.2,\"#de77ae\"],[0.3,\"#f1b6da\"],[0.4,\"#fde0ef\"],[0.5,\"#f7f7f7\"],[0.6,\"#e6f5d0\"],[0.7,\"#b8e186\"],[0.8,\"#7fbc41\"],[0.9,\"#4d9221\"],[1,\"#276419\"]],\"sequential\":[[0.0,\"#0d0887\"],[0.1111111111111111,\"#46039f\"],[0.2222222222222222,\"#7201a8\"],[0.3333333333333333,\"#9c179e\"],[0.4444444444444444,\"#bd3786\"],[0.5555555555555556,\"#d8576b\"],[0.6666666666666666,\"#ed7953\"],[0.7777777777777778,\"#fb9f3a\"],[0.8888888888888888,\"#fdca26\"],[1.0,\"#f0f921\"]],\"sequentialminus\":[[0.0,\"#0d0887\"],[0.1111111111111111,\"#46039f\"],[0.2222222222222222,\"#7201a8\"],[0.3333333333333333,\"#9c179e\"],[0.4444444444444444,\"#bd3786\"],[0.5555555555555556,\"#d8576b\"],[0.6666666666666666,\"#ed7953\"],[0.7777777777777778,\"#fb9f3a\"],[0.8888888888888888,\"#fdca26\"],[1.0,\"#f0f921\"]]},\"colorway\":[\"#636efa\",\"#EF553B\",\"#00cc96\",\"#ab63fa\",\"#FFA15A\",\"#19d3f3\",\"#FF6692\",\"#B6E880\",\"#FF97FF\",\"#FECB52\"],\"font\":{\"color\":\"#2a3f5f\"},\"geo\":{\"bgcolor\":\"white\",\"lakecolor\":\"white\",\"landcolor\":\"#E5ECF6\",\"showlakes\":true,\"showland\":true,\"subunitcolor\":\"white\"},\"hoverlabel\":{\"align\":\"left\"},\"hovermode\":\"closest\",\"mapbox\":{\"style\":\"light\"},\"paper_bgcolor\":\"white\",\"plot_bgcolor\":\"#E5ECF6\",\"polar\":{\"angularaxis\":{\"gridcolor\":\"white\",\"linecolor\":\"white\",\"ticks\":\"\"},\"bgcolor\":\"#E5ECF6\",\"radialaxis\":{\"gridcolor\":\"white\",\"linecolor\":\"white\",\"ticks\":\"\"}},\"scene\":{\"xaxis\":{\"backgroundcolor\":\"#E5ECF6\",\"gridcolor\":\"white\",\"gridwidth\":2,\"linecolor\":\"white\",\"showbackground\":true,\"ticks\":\"\",\"zerolinecolor\":\"white\"},\"yaxis\":{\"backgroundcolor\":\"#E5ECF6\",\"gridcolor\":\"white\",\"gridwidth\":2,\"linecolor\":\"white\",\"showbackground\":true,\"ticks\":\"\",\"zerolinecolor\":\"white\"},\"zaxis\":{\"backgroundcolor\":\"#E5ECF6\",\"gridcolor\":\"white\",\"gridwidth\":2,\"linecolor\":\"white\",\"showbackground\":true,\"ticks\":\"\",\"zerolinecolor\":\"white\"}},\"shapedefaults\":{\"line\":{\"color\":\"#2a3f5f\"}},\"ternary\":{\"aaxis\":{\"gridcolor\":\"white\",\"linecolor\":\"white\",\"ticks\":\"\"},\"baxis\":{\"gridcolor\":\"white\",\"linecolor\":\"white\",\"ticks\":\"\"},\"bgcolor\":\"#E5ECF6\",\"caxis\":{\"gridcolor\":\"white\",\"linecolor\":\"white\",\"ticks\":\"\"}},\"title\":{\"x\":0.05},\"xaxis\":{\"automargin\":true,\"gridcolor\":\"white\",\"linecolor\":\"white\",\"ticks\":\"\",\"title\":{\"standoff\":15},\"zerolinecolor\":\"white\",\"zerolinewidth\":2},\"yaxis\":{\"automargin\":true,\"gridcolor\":\"white\",\"linecolor\":\"white\",\"ticks\":\"\",\"title\":{\"standoff\":15},\"zerolinecolor\":\"white\",\"zerolinewidth\":2}}},\"margin\":{\"l\":20,\"r\":20,\"t\":60,\"b\":20},\"title\":{\"font\":{\"size\":22},\"text\":\"Yearly Trend (does not change with the year filter)\",\"x\":0.5},\"updatemenus\":[{\"active\":0,\"buttons\":[{\"args\":[{\"visible\":[true,false,false,false,false,false,false,false,false,false]},{\"annotations\":[{\"showarrow\":false,\"text\":\"Number of Participants\",\"font\":{\"size\":12},\"xref\":\"paper\",\"x\":1,\"yref\":\"paper\",\"y\":1.1,\"align\":\"right\"}]}],\"label\":\"num_of_participants\",\"method\":\"update\"},{\"args\":[{\"visible\":[false,true,false,false,false,false,false,false,false,false]},{\"annotations\":[{\"showarrow\":false,\"text\":\"Calculate the total number of issues<br>1=Community working to help, 2=Government working to help, 0=Not helping, 4=Not an issue, so irrelevant\",\"font\":{\"size\":12},\"xref\":\"paper\",\"x\":1,\"yref\":\"paper\",\"y\":1.1,\"align\":\"right\"}]}],\"label\":\"issuehelp_ttl\",\"method\":\"update\"},{\"args\":[{\"visible\":[false,false,true,false,false,false,false,false,false,false]},{\"annotations\":[{\"showarrow\":false,\"text\":\"Calculate the total number of drug problem<br>0=Not common in my community, 1=Common in my community\",\"font\":{\"size\":12},\"xref\":\"paper\",\"x\":1,\"yref\":\"paper\",\"y\":1.1,\"align\":\"right\"}]}],\"label\":\"cdrugprob_ttl\",\"method\":\"update\"},{\"args\":[{\"visible\":[false,false,false,true,false,false,false,false,false,false]},{\"annotations\":[{\"showarrow\":false,\"text\":\"Calculate the level of trust to organizations<br>1=No trust at all, 2=Very little trust, 3=They are neutral, 4=Some trust, 5=A great deal of trust\",\"font\":{\"size\":12},\"xref\":\"paper\",\"x\":1,\"yref\":\"paper\",\"y\":1.1,\"align\":\"right\"}]}],\"label\":\"trust_avg\",\"method\":\"update\"},{\"args\":[{\"visible\":[false,false,false,false,true,false,false,false,false,false]},{\"annotations\":[{\"showarrow\":false,\"text\":\"Calculate the level of attitude toward drug use in the community<br>1=Strongly disagree, 2=Somewhat disagree, 3=Neither agree nor disagree, 4=Somewhat agree, 5=Strongly agree\",\"font\":{\"size\":12},\"xref\":\"paper\",\"x\":1,\"yref\":\"paper\",\"y\":1.1,\"align\":\"right\"}]}],\"label\":\"attdruguse_avg\",\"method\":\"update\"},{\"args\":[{\"visible\":[false,false,false,false,false,true,false,false,false,false]},{\"annotations\":[{\"showarrow\":false,\"text\":\"(starting 2022) Calculate the level of stigma of people who use drugs<br>1=Strongly disagree, 2=Somewhat disagree, 3=Neither agree nor disagree, 4=Somewhat agree, 5=Strongly agree\",\"font\":{\"size\":12},\"xref\":\"paper\",\"x\":1,\"yref\":\"paper\",\"y\":1.1,\"align\":\"right\"}]}],\"label\":\"stigma_avg\",\"method\":\"update\"},{\"args\":[{\"visible\":[false,false,false,false,false,false,true,false,false,false]},{\"annotations\":[{\"showarrow\":false,\"text\":\"(starting 2022) Calculate the level of alienation of people who use drugs<br>1=Strongly disagree, 2=Somewhat disagree, 3=Neither agree nor disagree, 4=Somewhat agree, 5=Strongly agree\",\"font\":{\"size\":12},\"xref\":\"paper\",\"x\":1,\"yref\":\"paper\",\"y\":1.1,\"align\":\"right\"}]}],\"label\":\"alienation_avg\",\"method\":\"update\"},{\"args\":[{\"visible\":[false,false,false,false,false,false,false,true,false,false]},{\"annotations\":[{\"showarrow\":false,\"text\":\"(starting 2022) Calculate the level of community perceptions of people who use drugs<br>1=Strongly disagree, 2=Somewhat disagree, 3=Neither agree nor disagree, 4=Somewhat agree, 5=Strongly agree\",\"font\":{\"size\":12},\"xref\":\"paper\",\"x\":1,\"yref\":\"paper\",\"y\":1.1,\"align\":\"right\"}]}],\"label\":\"deval_avg\",\"method\":\"update\"},{\"args\":[{\"visible\":[false,false,false,false,false,false,false,false,true,false]},{\"annotations\":[{\"showarrow\":false,\"text\":\"(starting 2022) Calculate the level of community perceptions of stigma of services for people who use drugs<br>1=Strongly disagree, 2=Somewhat disagree, 3=Neither agree nor disagree, 4=Somewhat agree, 5=Strongly agree\",\"font\":{\"size\":12},\"xref\":\"paper\",\"x\":1,\"yref\":\"paper\",\"y\":1.1,\"align\":\"right\"}]}],\"label\":\"pwudserv_avg\",\"method\":\"update\"},{\"args\":[{\"visible\":[false,false,false,false,false,false,false,false,false,true]},{\"annotations\":[{\"showarrow\":false,\"text\":\"(starting 2022) Calculate the level of community perceptions of recovery for people who use drugs<br>1=Strongly disagree, 2=Somewhat disagree, 3=Neither agree nor disagree, 4=Somewhat agree, 5=Strongly agree\",\"font\":{\"size\":12},\"xref\":\"paper\",\"x\":1,\"yref\":\"paper\",\"y\":1.1,\"align\":\"right\"}]}],\"label\":\"pwudrecovery_avg\",\"method\":\"update\"}],\"type\":\"dropdown\",\"x\":1,\"xanchor\":\"right\",\"y\":1.1,\"yanchor\":\"bottom\"}],\"paper_bgcolor\":\"aliceblue\",\"showlegend\":false},                        {\"responsive\": true}                    ).then(function(){\n",
              "                            \n",
              "var gd = document.getElementById('d3f3a742-d0ee-45f8-82dd-b191b05e938a');\n",
              "var x = new MutationObserver(function (mutations, observer) {{\n",
              "        var display = window.getComputedStyle(gd).display;\n",
              "        if (!display || display === 'none') {{\n",
              "            console.log([gd, 'removed!']);\n",
              "            Plotly.purge(gd);\n",
              "            observer.disconnect();\n",
              "        }}\n",
              "}});\n",
              "\n",
              "// Listen for the removal of the full notebook cells\n",
              "var notebookContainer = gd.closest('#notebook-container');\n",
              "if (notebookContainer) {{\n",
              "    x.observe(notebookContainer, {childList: true});\n",
              "}}\n",
              "\n",
              "// Listen for the clearing of the current output cell\n",
              "var outputEl = gd.closest('.output');\n",
              "if (outputEl) {{\n",
              "    x.observe(outputEl, {childList: true});\n",
              "}}\n",
              "\n",
              "                        })                };                            </script>        </div>\n",
              "</body>\n",
              "</html>"
            ]
          },
          "metadata": {}
        }
      ]
    },
    {
      "cell_type": "markdown",
      "source": [
        "### Reliability measure"
      ],
      "metadata": {
        "id": "JIYnFBh4mf7h"
      }
    },
    {
      "cell_type": "markdown",
      "source": [
        "This table returns reliability of the questionaire for each year."
      ],
      "metadata": {
        "id": "dXhyJOVfhYQ6"
      }
    },
    {
      "cell_type": "code",
      "source": [
        "# select columns\n",
        "col_name = ['cdrugprob','ctool','trust', 'worry', 'althiv','cedr','com.*up','self','cabsat','cabactivity', '\\Ace_','Stigma','Alienation','deval','pwudserv','pwudrecovery','cad_']"
      ],
      "metadata": {
        "id": "XsxYvS3msD5P"
      },
      "execution_count": null,
      "outputs": []
    },
    {
      "cell_type": "code",
      "source": [
        "# define function to output CA table\n",
        "def reliability_tbl(df):\n",
        "  table = pd.DataFrame(columns=['Questions', 'Cronbach\\'s Alpha','Number of items','95% CI-low','95% CI-high']) # you can add more columns needed\n",
        "  list1 = []\n",
        "  list2 = []\n",
        "  list3 = []\n",
        "  list4 = []\n",
        "  list5 = []\n",
        "  \n",
        "  # iterate over column to obtain wanted data\n",
        "  for i in col_name:\n",
        "    list1.append(num.loc[:, df.columns.str.contains(i)].columns.tolist()) # this return column name\n",
        "    list2.append(pg.cronbach_alpha(data=df.loc[:, num.columns.str.contains(i)])[0]) # this returns CA for each set of questions\n",
        "    list3.append(len(num.loc[:, df.columns.str.contains(i)].columns)) # this return the total number of questions contained in one set\n",
        "    list4.append(pg.cronbach_alpha(data=df.loc[:, num.columns.str.contains(i)])[1].tolist()[0]) # this returns the low value for 95% CI\n",
        "    list5.append(pg.cronbach_alpha(data=df.loc[:, num.columns.str.contains(i)])[1].tolist()[1]) # this returns the high value for 95% CI\n",
        "  \n",
        "  # fill the columns\n",
        "  table['Questions'] = list1\n",
        "  table['Cronbach\\'s Alpha'] = list2\n",
        "  table['Number of items'] = list3\n",
        "  table['95% CI-low'] = list4\n",
        "  table['95% CI-high'] = list5\n",
        "\n",
        "  #convert list to string to be better displayed in dash\n",
        "  table['Questions'] = [','.join(map(str, l)) for l in table['Questions']] \n",
        "\n",
        "  return table"
      ],
      "metadata": {
        "id": "AT2kW4tkqIL-"
      },
      "execution_count": null,
      "outputs": []
    },
    {
      "cell_type": "markdown",
      "source": [
        "# Dashboard building"
      ],
      "metadata": {
        "id": "o3rFwYLOD0fu"
      }
    },
    {
      "cell_type": "markdown",
      "source": [
        "### import packages"
      ],
      "metadata": {
        "id": "Q9RxivbIkSx4"
      }
    },
    {
      "cell_type": "code",
      "source": [
        "!pip install dash_bootstrap_components\n",
        "!pip install jupyter-dash"
      ],
      "metadata": {
        "id": "wVYy7WRDk7oH",
        "colab": {
          "base_uri": "https://localhost:8080/"
        },
        "outputId": "af8edded-4e38-4669-b4f5-2d05f365970e"
      },
      "execution_count": null,
      "outputs": [
        {
          "output_type": "stream",
          "name": "stdout",
          "text": [
            "Looking in indexes: https://pypi.org/simple, https://us-python.pkg.dev/colab-wheels/public/simple/\n",
            "Requirement already satisfied: dash_bootstrap_components in /usr/local/lib/python3.7/dist-packages (1.2.1)\n",
            "Requirement already satisfied: dash>=2.0.0 in /usr/local/lib/python3.7/dist-packages (from dash_bootstrap_components) (2.6.1)\n",
            "Requirement already satisfied: dash-html-components==2.0.0 in /usr/local/lib/python3.7/dist-packages (from dash>=2.0.0->dash_bootstrap_components) (2.0.0)\n",
            "Requirement already satisfied: Flask>=1.0.4 in /usr/local/lib/python3.7/dist-packages (from dash>=2.0.0->dash_bootstrap_components) (1.1.4)\n",
            "Requirement already satisfied: dash-table==5.0.0 in /usr/local/lib/python3.7/dist-packages (from dash>=2.0.0->dash_bootstrap_components) (5.0.0)\n",
            "Requirement already satisfied: flask-compress in /usr/local/lib/python3.7/dist-packages (from dash>=2.0.0->dash_bootstrap_components) (1.12)\n",
            "Requirement already satisfied: dash-core-components==2.0.0 in /usr/local/lib/python3.7/dist-packages (from dash>=2.0.0->dash_bootstrap_components) (2.0.0)\n",
            "Requirement already satisfied: plotly>=5.0.0 in /usr/local/lib/python3.7/dist-packages (from dash>=2.0.0->dash_bootstrap_components) (5.5.0)\n",
            "Requirement already satisfied: click<8.0,>=5.1 in /usr/local/lib/python3.7/dist-packages (from Flask>=1.0.4->dash>=2.0.0->dash_bootstrap_components) (7.1.2)\n",
            "Requirement already satisfied: itsdangerous<2.0,>=0.24 in /usr/local/lib/python3.7/dist-packages (from Flask>=1.0.4->dash>=2.0.0->dash_bootstrap_components) (1.1.0)\n",
            "Requirement already satisfied: Jinja2<3.0,>=2.10.1 in /usr/local/lib/python3.7/dist-packages (from Flask>=1.0.4->dash>=2.0.0->dash_bootstrap_components) (2.11.3)\n",
            "Requirement already satisfied: Werkzeug<2.0,>=0.15 in /usr/local/lib/python3.7/dist-packages (from Flask>=1.0.4->dash>=2.0.0->dash_bootstrap_components) (1.0.1)\n",
            "Requirement already satisfied: MarkupSafe>=0.23 in /usr/local/lib/python3.7/dist-packages (from Jinja2<3.0,>=2.10.1->Flask>=1.0.4->dash>=2.0.0->dash_bootstrap_components) (2.0.1)\n",
            "Requirement already satisfied: six in /usr/local/lib/python3.7/dist-packages (from plotly>=5.0.0->dash>=2.0.0->dash_bootstrap_components) (1.15.0)\n",
            "Requirement already satisfied: tenacity>=6.2.0 in /usr/local/lib/python3.7/dist-packages (from plotly>=5.0.0->dash>=2.0.0->dash_bootstrap_components) (8.0.1)\n",
            "Requirement already satisfied: brotli in /usr/local/lib/python3.7/dist-packages (from flask-compress->dash>=2.0.0->dash_bootstrap_components) (1.0.9)\n",
            "Looking in indexes: https://pypi.org/simple, https://us-python.pkg.dev/colab-wheels/public/simple/\n",
            "Requirement already satisfied: jupyter-dash in /usr/local/lib/python3.7/dist-packages (0.4.2)\n",
            "Requirement already satisfied: requests in /usr/local/lib/python3.7/dist-packages (from jupyter-dash) (2.23.0)\n",
            "Requirement already satisfied: flask in /usr/local/lib/python3.7/dist-packages (from jupyter-dash) (1.1.4)\n",
            "Requirement already satisfied: retrying in /usr/local/lib/python3.7/dist-packages (from jupyter-dash) (1.3.3)\n",
            "Requirement already satisfied: ansi2html in /usr/local/lib/python3.7/dist-packages (from jupyter-dash) (1.8.0)\n",
            "Requirement already satisfied: ipython in /usr/local/lib/python3.7/dist-packages (from jupyter-dash) (7.9.0)\n",
            "Requirement already satisfied: ipykernel in /usr/local/lib/python3.7/dist-packages (from jupyter-dash) (5.3.4)\n",
            "Requirement already satisfied: nest-asyncio in /usr/local/lib/python3.7/dist-packages (from jupyter-dash) (1.5.5)\n",
            "Requirement already satisfied: dash in /usr/local/lib/python3.7/dist-packages (from jupyter-dash) (2.6.1)\n",
            "Requirement already satisfied: importlib-metadata in /usr/local/lib/python3.7/dist-packages (from ansi2html->jupyter-dash) (4.12.0)\n",
            "Requirement already satisfied: dash-html-components==2.0.0 in /usr/local/lib/python3.7/dist-packages (from dash->jupyter-dash) (2.0.0)\n",
            "Requirement already satisfied: plotly>=5.0.0 in /usr/local/lib/python3.7/dist-packages (from dash->jupyter-dash) (5.5.0)\n",
            "Requirement already satisfied: dash-table==5.0.0 in /usr/local/lib/python3.7/dist-packages (from dash->jupyter-dash) (5.0.0)\n",
            "Requirement already satisfied: dash-core-components==2.0.0 in /usr/local/lib/python3.7/dist-packages (from dash->jupyter-dash) (2.0.0)\n",
            "Requirement already satisfied: flask-compress in /usr/local/lib/python3.7/dist-packages (from dash->jupyter-dash) (1.12)\n",
            "Requirement already satisfied: itsdangerous<2.0,>=0.24 in /usr/local/lib/python3.7/dist-packages (from flask->jupyter-dash) (1.1.0)\n",
            "Requirement already satisfied: click<8.0,>=5.1 in /usr/local/lib/python3.7/dist-packages (from flask->jupyter-dash) (7.1.2)\n",
            "Requirement already satisfied: Werkzeug<2.0,>=0.15 in /usr/local/lib/python3.7/dist-packages (from flask->jupyter-dash) (1.0.1)\n",
            "Requirement already satisfied: Jinja2<3.0,>=2.10.1 in /usr/local/lib/python3.7/dist-packages (from flask->jupyter-dash) (2.11.3)\n",
            "Requirement already satisfied: MarkupSafe>=0.23 in /usr/local/lib/python3.7/dist-packages (from Jinja2<3.0,>=2.10.1->flask->jupyter-dash) (2.0.1)\n",
            "Requirement already satisfied: tenacity>=6.2.0 in /usr/local/lib/python3.7/dist-packages (from plotly>=5.0.0->dash->jupyter-dash) (8.0.1)\n",
            "Requirement already satisfied: six in /usr/local/lib/python3.7/dist-packages (from plotly>=5.0.0->dash->jupyter-dash) (1.15.0)\n",
            "Requirement already satisfied: brotli in /usr/local/lib/python3.7/dist-packages (from flask-compress->dash->jupyter-dash) (1.0.9)\n",
            "Requirement already satisfied: zipp>=0.5 in /usr/local/lib/python3.7/dist-packages (from importlib-metadata->ansi2html->jupyter-dash) (3.8.1)\n",
            "Requirement already satisfied: typing-extensions>=3.6.4 in /usr/local/lib/python3.7/dist-packages (from importlib-metadata->ansi2html->jupyter-dash) (4.1.1)\n",
            "Requirement already satisfied: tornado>=4.2 in /usr/local/lib/python3.7/dist-packages (from ipykernel->jupyter-dash) (5.1.1)\n",
            "Requirement already satisfied: jupyter-client in /usr/local/lib/python3.7/dist-packages (from ipykernel->jupyter-dash) (6.1.12)\n",
            "Requirement already satisfied: traitlets>=4.1.0 in /usr/local/lib/python3.7/dist-packages (from ipykernel->jupyter-dash) (5.1.1)\n",
            "Requirement already satisfied: setuptools>=18.5 in /usr/local/lib/python3.7/dist-packages (from ipython->jupyter-dash) (57.4.0)\n",
            "Requirement already satisfied: prompt-toolkit<2.1.0,>=2.0.0 in /usr/local/lib/python3.7/dist-packages (from ipython->jupyter-dash) (2.0.10)\n",
            "Requirement already satisfied: pygments in /usr/local/lib/python3.7/dist-packages (from ipython->jupyter-dash) (2.6.1)\n",
            "Requirement already satisfied: jedi>=0.10 in /usr/local/lib/python3.7/dist-packages (from ipython->jupyter-dash) (0.18.1)\n",
            "Requirement already satisfied: backcall in /usr/local/lib/python3.7/dist-packages (from ipython->jupyter-dash) (0.2.0)\n",
            "Requirement already satisfied: pexpect in /usr/local/lib/python3.7/dist-packages (from ipython->jupyter-dash) (4.8.0)\n",
            "Requirement already satisfied: pickleshare in /usr/local/lib/python3.7/dist-packages (from ipython->jupyter-dash) (0.7.5)\n",
            "Requirement already satisfied: decorator in /usr/local/lib/python3.7/dist-packages (from ipython->jupyter-dash) (4.4.2)\n",
            "Requirement already satisfied: parso<0.9.0,>=0.8.0 in /usr/local/lib/python3.7/dist-packages (from jedi>=0.10->ipython->jupyter-dash) (0.8.3)\n",
            "Requirement already satisfied: wcwidth in /usr/local/lib/python3.7/dist-packages (from prompt-toolkit<2.1.0,>=2.0.0->ipython->jupyter-dash) (0.2.5)\n",
            "Requirement already satisfied: jupyter-core>=4.6.0 in /usr/local/lib/python3.7/dist-packages (from jupyter-client->ipykernel->jupyter-dash) (4.11.1)\n",
            "Requirement already satisfied: python-dateutil>=2.1 in /usr/local/lib/python3.7/dist-packages (from jupyter-client->ipykernel->jupyter-dash) (2.8.2)\n",
            "Requirement already satisfied: pyzmq>=13 in /usr/local/lib/python3.7/dist-packages (from jupyter-client->ipykernel->jupyter-dash) (23.2.1)\n",
            "Requirement already satisfied: ptyprocess>=0.5 in /usr/local/lib/python3.7/dist-packages (from pexpect->ipython->jupyter-dash) (0.7.0)\n",
            "Requirement already satisfied: certifi>=2017.4.17 in /usr/local/lib/python3.7/dist-packages (from requests->jupyter-dash) (2022.6.15)\n",
            "Requirement already satisfied: idna<3,>=2.5 in /usr/local/lib/python3.7/dist-packages (from requests->jupyter-dash) (2.10)\n",
            "Requirement already satisfied: urllib3!=1.25.0,!=1.25.1,<1.26,>=1.21.1 in /usr/local/lib/python3.7/dist-packages (from requests->jupyter-dash) (1.24.3)\n",
            "Requirement already satisfied: chardet<4,>=3.0.2 in /usr/local/lib/python3.7/dist-packages (from requests->jupyter-dash) (3.0.4)\n"
          ]
        }
      ]
    },
    {
      "cell_type": "code",
      "source": [
        "from jupyter_dash import JupyterDash\n",
        "import dash_core_components as dcc\n",
        "import dash_html_components as html\n",
        "from dash.dependencies import Input, Output\n",
        "import plotly.express as px\n",
        "import dash_bootstrap_components as dbc\n",
        "import dash_table as dt"
      ],
      "metadata": {
        "id": "W6E8Wtapkre9"
      },
      "execution_count": null,
      "outputs": []
    },
    {
      "cell_type": "markdown",
      "source": [
        "## build dash"
      ],
      "metadata": {
        "id": "7pTZJ7DY2Gup"
      }
    },
    {
      "cell_type": "markdown",
      "source": [
        "### Dash layout, for website"
      ],
      "metadata": {
        "id": "9twNVgFLlg5r"
      }
    },
    {
      "cell_type": "markdown",
      "source": [
        "documentation here: https://dash.plotly.com/layout"
      ],
      "metadata": {
        "id": "B2h-wtc1ge38"
      }
    },
    {
      "cell_type": "code",
      "source": [
        "app = JupyterDash()\n",
        "app.layout = html.Div([\n",
        "            ### Header   \n",
        "            html.H1(\n",
        "                    children=\"Community Advisory Board (CAB) Analytics\", style={'textAlign': 'center'}, className=\"header-title\" \n",
        "                ), # Header title\n",
        "\n",
        "            html.H2(\n",
        "                    children=\"Analyze the CAB response by year between 2020 and 2022\", className=\"header-description\", style={'textAlign': 'center'},\n",
        "                ), # Sub-header\n",
        "\n",
        "            \n",
        "\n",
        "            ### Dropdown Menu\n",
        "            html.Div(className=\"row\", children=[\n",
        "            # year drop-down\n",
        "            html.Div(className='two columns', children=[\n",
        "                html.P('Select Year:', className = 'fix_label', style = {'color': 'black'}),\n",
        "                dcc.Dropdown(\n",
        "                    options=[{'label':year, 'value':year} for year in result.year.dropna().unique()] + [{'label': 'Select all', 'value': 'all_year'}], \n",
        "                    value=['all_year'],  \n",
        "                    multi=True, \n",
        "                    id = 'year-filter',\n",
        "                    clearable = True,\n",
        "                    disabled = False,\n",
        "                    searchable = True,\n",
        "                    style = {'display': True},\n",
        "                    placeholder = 'Select Year',\n",
        "                    className = 'dropdown',\n",
        "                )], style=dict(width='50%')), \n",
        "            \n",
        "            # state dropdown\n",
        "            html.Div(className='two columns', children=[\n",
        "                html.P('Select State:', className = 'fix_label', style = {'color': 'black'}),\n",
        "                dcc.Dropdown(id = 'state-filter',\n",
        "                    options=[{'label':state, 'value':state} for state in result.state.dropna().unique()] + [{'label': 'Select all', 'value': 'all_state'}], \n",
        "                    value=['all_state'],  \n",
        "                    multi=True,\n",
        "                    clearable = True,\n",
        "                    disabled = False,\n",
        "                    searchable = True,\n",
        "                    style = {'display': True},\n",
        "                    placeholder = 'Select State',\n",
        "                    className = 'dropdown',\n",
        "                )], style=dict(width='50%'))\n",
        "            ],\n",
        "            style=dict(display='flex')),\n",
        "            \n",
        "            \n",
        "            ### Graphs\n",
        "            html.H2(children=\"Graphs\",\n",
        "                    className=\"header-description\", style={'textAlign': 'center'}), # Note\n",
        "            html.H3(\n",
        "                    children=\"* If the graph is not displaying, that means the question was not asked that year *\",\n",
        "                    className=\"header-description\", style={'textAlign': 'center'},\n",
        "                ), # Note\n",
        "            html.H3(\n",
        "                    children=\"* If after the reselection of the values, the graph is not changing, that means the value does not exist for the year(s) you select *\",\n",
        "                    className=\"header-description\", style={'textAlign': 'center'},\n",
        "                ), # Note\n",
        "            \n",
        "            # first two graphs\n",
        "            html.Div(children=[\n",
        "            dcc.Graph(id='fig1', figure = fig1, style={'width': '50%','display': 'inline-block'}),\n",
        "            dcc.Graph(id='fig2', figure = fig2, style={'width': '50%','display': 'inline-block'})\n",
        "            ]),\n",
        "\n",
        "            # second two graphs\n",
        "            html.Div(children=[\n",
        "            dcc.Graph(id='fig3', figure = fig3, style={'width': '50%','display': 'inline-block'}),\n",
        "            dcc.Graph(id='fig4', figure = fig4, style={'width': '50%','display': 'inline-block'})\n",
        "            ]),\n",
        "          \n",
        "            ### Table\n",
        "            html.Center(children=[\n",
        "            html.H2(children=\"Table\",\n",
        "                    className=\"header-description\", style={'textAlign': 'center'}), # Note\n",
        "            html.H3(children=\"* If column is blank, that means this set of questions was not asked that year. The calculation should be based on one year. *\",\n",
        "                    className=\"header-description\", style={'textAlign': 'center'}), # Note\n",
        "\n",
        "            dt.DataTable(style_data={\n",
        "                'whiteSpace': 'normal',\n",
        "                'height': 'auto'},\n",
        "                id='tbl', \n",
        "                data=reliability_tbl(num).to_dict('records'),\n",
        "                columns=[{\"name\": i, \"id\": i} for i in reliability_tbl(num).columns],\n",
        "                style_table={'overflowX': 'auto'},\n",
        "                style_cell={\n",
        "                    'height': 'auto',\n",
        "                    # all three widths are needed\n",
        "                    'minWidth': '20px', 'width': '20px', 'maxWidth': '380px',\n",
        "                    'whiteSpace': 'normal'})\n",
        "                    ])\n",
        "            ])"
      ],
      "metadata": {
        "id": "r1_YzSJI9riq"
      },
      "execution_count": null,
      "outputs": []
    },
    {
      "cell_type": "markdown",
      "source": [
        "### Callback, to make the dropdown selection function."
      ],
      "metadata": {
        "id": "dJYBkcqUXXYG"
      }
    },
    {
      "cell_type": "markdown",
      "source": [
        "You can see the documentation here: https://dash.plotly.com/basic-callbacks You need to click the link the section produces to see the results"
      ],
      "metadata": {
        "id": "saohVJKkf_Bi"
      }
    },
    {
      "cell_type": "code",
      "source": [
        "###fig 1\n",
        "@app.callback(\n",
        "    Output(\"fig1\", \"figure\"), #the output is the figure\n",
        "    Input(\"year-filter\", \"value\"),#the input is the year-filter\n",
        "    Input(\"state-filter\", \"value\"))# the input is the state-filter\n",
        "\n",
        "#Figure Update\n",
        "def update_figure(year,state):\n",
        "  # this updates the data\n",
        "  filtered_data = result\n",
        "\n",
        "  if year == ['all_year']:\n",
        "    filtered_data = filtered_data\n",
        "  else:\n",
        "    filtered_data = filtered_data[filtered_data[\"year\"].isin(year)]\n",
        "\n",
        "  if state == ['all_state']:\n",
        "    filtered_data = filtered_data\n",
        "  else:\n",
        "    filtered_data = filtered_data[filtered_data[\"state\"].isin(state)]\n",
        "  \n",
        "  # from here, it is copy-pasting the code in figure 1\n",
        "  survey = filtered_data[['Progress_group','Finished']]\n",
        "  survey = survey.apply(lambda x: x.sort_values().values)\n",
        "\n",
        "  fig1 = go.Figure()\n",
        "  buttons = []\n",
        "\n",
        "  for col_name in survey.columns:\n",
        "  ## add traces\n",
        "    fig1.add_trace(go.Bar(\n",
        "              x=survey[col_name].unique(),\n",
        "              y=survey[col_name].value_counts(),\n",
        "              text=survey[col_name].value_counts(),  \n",
        "              name=col_name,\n",
        "              visible = False\n",
        "              )\n",
        "          )\n",
        "\n",
        "  fig1.update_layout(\n",
        "    updatemenus=[\n",
        "        dict(\n",
        "            active=0,\n",
        "            buttons=list([\n",
        "                dict(label=\"Progress_group\",\n",
        "                      method=\"update\",\n",
        "                      args=[{\"visible\": [True, False]},\n",
        "                            {\"annotations\": anno1}]),\n",
        "                dict(label=\"Finished\",\n",
        "                      method=\"update\",\n",
        "                      args=[{\"visible\": [False, True]},\n",
        "                            {\"annotations\": anno2}])\n",
        "            ]),\n",
        "              type=\"dropdown\",\n",
        "              x = 1,\n",
        "              y = 1.1,\n",
        "              xanchor = 'right',\n",
        "              yanchor = 'bottom'\n",
        "        )     \n",
        "    ],\n",
        "    margin=dict(l=20, r=20, t=60, b=20),#setup the margin\n",
        "    paper_bgcolor=\"aliceblue\", #setup the background color\n",
        "    title_text=\"Survey Completion Status\",\n",
        "    title_x=0.5,\n",
        "    showlegend=False,\n",
        "    title_font_size=22)\n",
        "\n",
        "  return fig1 #return the fig according to the filter\n",
        "\n",
        "### fig2\n",
        "@app.callback(\n",
        "    Output(\"fig2\", \"figure\"), #the output is the chart\n",
        "    Input(\"year-filter\", \"value\"),#the input is the year-filter\n",
        "    Input(\"state-filter\", \"value\"))\n",
        "\n",
        "#Figure Update\n",
        "def update_figure(year,state):\n",
        "  # this updates the data\n",
        "  filtered_data = result\n",
        "\n",
        "  if year == ['all_year']:\n",
        "    filtered_data = filtered_data\n",
        "  else:\n",
        "    filtered_data = filtered_data[filtered_data[\"year\"].isin(year)]\n",
        "\n",
        "  if state == ['all_state']:\n",
        "    filtered_data = filtered_data\n",
        "  else:\n",
        "    filtered_data = filtered_data[filtered_data[\"state\"].isin(state)]\n",
        "\n",
        "  # same as fig2\n",
        "  demo = filtered_data[['join_yr', 'inst', 'membdrug', 'othboar', 'leadoth', 'edu','hisp','race','sex',\n",
        "               'age_group', 'hoursvol_group', 'netorgnum_group','netoutorg_group','internetfreq_group',\n",
        "               'cabsat_1','cabsat_2','cabsat_3', 'cabactivity_1','cabactivity_2', 'cabactivity_3']]\n",
        "  demo = demo.apply(lambda x: x.sort_values().values)\n",
        "\n",
        "  fig2 = go.Figure()\n",
        "\n",
        "  buttons2 = []\n",
        "\n",
        "  for col_name in demo.columns:\n",
        "    ## add traces\n",
        "    fig2.add_trace(go.Bar(\n",
        "              x=demo[col_name].unique(),\n",
        "              y=demo[col_name].value_counts(), \n",
        "              text=demo[col_name].value_counts(),  \n",
        "              name=col_name,\n",
        "              visible = False\n",
        "              )\n",
        "          )\n",
        "\n",
        "  for i, column in enumerate(demo.columns):\n",
        "    args = [False] * len(demo.columns)\n",
        "    args[i] = True\n",
        "\n",
        "    button2 = dict(label = column,\n",
        "                    method = \"update\",\n",
        "                    args=[{\"visible\": args},\n",
        "                          {\"annotations\": list(d.values())[i]}])\n",
        "    buttons2.append(button2)\n",
        "\n",
        "  fig2.update_layout(\n",
        "      title_text=\"Participant Information\",\n",
        "      title_x=0.5,\n",
        "      showlegend=False,\n",
        "    title_font_size=22\n",
        "  ) \n",
        "\n",
        "  fig2.update_layout(\n",
        "      updatemenus=[dict(active=0,\n",
        "                        type=\"dropdown\",\n",
        "                      buttons=buttons2,\n",
        "                      x = 1,\n",
        "                      y = 1.1,\n",
        "                      xanchor = 'right',\n",
        "                      yanchor = 'bottom'\n",
        "                  )], \n",
        "      margin=dict(l=20, r=20, t=60, b=20),#setup the margin\n",
        "      paper_bgcolor=\"aliceblue\", #setup the background color\n",
        "  )\n",
        "\n",
        "  return fig2\n",
        "\n",
        "### fig 3\n",
        "@app.callback(\n",
        "    Output(\"fig3\", \"figure\"), #the output is the chart\n",
        "    Input(\"year-filter\", \"value\"),#the input is the year-filter\n",
        "    Input(\"state-filter\", \"value\"))\n",
        "\n",
        "def update_charts(year,state):\n",
        "  # update data\n",
        "  filtered_data1 = result\n",
        "  filtered_data2 = num\n",
        "\n",
        "  if year == ['all_year']:\n",
        "    filtered_data1 = filtered_data1\n",
        "    filtered_data2 = filtered_data2\n",
        "  else:\n",
        "    filtered_data1 = filtered_data1[filtered_data1[\"year\"].isin(year)]\n",
        "    filtered_data2 = filtered_data2[filtered_data2[\"year\"].isin(year)]\n",
        "  \n",
        "  if state == ['all_state']:\n",
        "    filtered_data1 = filtered_data1\n",
        "    filtered_data2 = filtered_data2\n",
        "  else:\n",
        "    filtered_data1 = filtered_data1[filtered_data1[\"state\"].isin(state)]\n",
        "    filtered_data2 = filtered_data2[filtered_data2[\"state\"].isin(state)]\n",
        "\n",
        "  # same as above\n",
        "  # get text response measurement\n",
        "  measurement1 = filtered_data1.loc[:, filtered_data1.columns.str.contains(\"issuehelp_|cdrugprob_|trust_|cad_\")].drop(['issuehelp_14_TEXT', 'issuehelp_14_TEXT_TEXT'], axis=1)\n",
        "  measurement1[['year','state']] = filtered_data1[['year','state']]\n",
        "  measurement1 = measurement1.reset_index().drop(['index'], axis =1).replace(['Click to write Scale Point 2', 'Click to write Scale Point 3', 'Click to write Scale Point 4'], 'Not Applicable')\n",
        "\n",
        "  # get numerical response measurement\n",
        "  measurement2 = filtered_data2.loc[:, filtered_data2.columns.str.contains(\"_avg|_ttl\")]\n",
        "  measurement2[['year','state']] = filtered_data2[['year','state']]\n",
        "  measurement2 = measurement2.reset_index().drop(['index'], axis =1)\n",
        "\n",
        "  # concat two responses for plotting\n",
        "  measurement = pd.concat([measurement1, measurement2], axis = 1)\n",
        "  measurement = measurement.loc[:, ~measurement.columns.duplicated()]\n",
        "\n",
        "  fig3 = go.Figure()\n",
        "  buttons3 = []\n",
        "  for col_name in measurement1.set_index(['year','state']).columns.to_list():\n",
        "    ## add traces\n",
        "    fig3.add_trace(go.Pie(\n",
        "              values=measurement1.set_index(['year','state'])[col_name].value_counts(), \n",
        "              labels=measurement1.set_index(['year','state'])[col_name].value_counts().index.tolist(),\n",
        "              textinfo='label+percent',\n",
        "              visible=False,\n",
        "              )\n",
        "    )\n",
        "\n",
        "  for col_name in measurement2.set_index(['year','state']).columns:\n",
        "    ## add traces\n",
        "    fig3.add_trace(go.Box(\n",
        "              y=measurement2.set_index(['year','state'])[col_name].values.tolist(),\n",
        "              text=measurement2.set_index(['year','state'])[col_name].values.tolist(),  \n",
        "              name=col_name,\n",
        "      boxpoints='all',\n",
        "      jitter=0.3,\n",
        "      marker = dict(\n",
        "          color = 'rgb(214,12,140)',\n",
        "      ),\n",
        "              visible=False\n",
        "              )\n",
        "          )\n",
        "\n",
        "  for i, column in enumerate(measurement.set_index(['year','state']).columns):\n",
        "    args = [False] * len(measurement.set_index(['year','state']).columns)\n",
        "    args[i] = True\n",
        "\n",
        "    button3 = dict(label = column,\n",
        "                    method = \"update\",\n",
        "                    args=[{\"visible\": args},\n",
        "                          {\"annotations\": list(d2.values())[i]}])\n",
        "    buttons3.append(button3)\n",
        "\n",
        "  fig3.update_layout(\n",
        "      title_text=\"Key Measurement\",\n",
        "      title_x=0.5,\n",
        "      showlegend=False,\n",
        "      title_font_size=22\n",
        "  ) \n",
        "\n",
        "  fig3.update_layout(\n",
        "      updatemenus=[dict(active=0,\n",
        "                        type=\"dropdown\",\n",
        "                      buttons=buttons3,\n",
        "                      x = 1,\n",
        "                      y = 1.1,\n",
        "                      xanchor = 'right',\n",
        "                      yanchor = 'bottom'\n",
        "                  )], \n",
        "      margin=dict(l=20, r=20, t=60, b=20),#setup the margin\n",
        "      paper_bgcolor=\"aliceblue\", #setup the background color\n",
        "  )\n",
        "\n",
        "  return fig3\n",
        "\n",
        "### fig 4\n",
        "@app.callback(\n",
        "    Output(\"fig4\", \"figure\"),\n",
        "    #[Input(\"year-filter\", \"value\"), # this figure does not change with the year filter, so no need to put input\n",
        "    [Input(\"state-filter\", \"value\")])\n",
        "\n",
        "def update_charts(state):\n",
        "  # update data\n",
        "  filtered_data = num\n",
        "\n",
        "  if state == ['all_state']:\n",
        "    filtered_data = num\n",
        "  else:\n",
        "    filtered_data = num[num[\"state\"].isin(state)]\n",
        "  \n",
        "  # select columns\n",
        "  trend = filtered_data[['year','Status','issuehelp_ttl', 'cdrugprob_ttl', 'trust_avg', 'attdruguse_avg', 'stigma_avg', 'alienation_avg', 'deval_avg', 'pwudserv_avg', 'pwudrecovery_avg']]\n",
        "  trend = trend.rename({'Status':'num_of_participants'}, axis= 1)\n",
        "\n",
        "  # same as above\n",
        "  fig4 = go.Figure()\n",
        "\n",
        "  buttons4 = []\n",
        "\n",
        "  for col_name in trend.set_index('year').columns:\n",
        "    ## add traces\n",
        "    fig4.add_trace(go.Scatter(\n",
        "              x=[str(x) for x in trend.year.unique().tolist()],\n",
        "              # add different aggregations to the figure\n",
        "              y=trend.groupby('year').agg({'num_of_participants':'count', \n",
        "                          'issuehelp_ttl':'mean', \n",
        "                          'cdrugprob_ttl':'mean', \n",
        "                          'trust_avg':'mean', \n",
        "                          'attdruguse_avg':'mean', \n",
        "                          'stigma_avg':'mean', \n",
        "                          'alienation_avg':'mean', \n",
        "                          'deval_avg':'mean', \n",
        "                          'pwudserv_avg':'mean', \n",
        "                          'pwudrecovery_avg':'mean'})[col_name], \n",
        "              text=trend.groupby('year').agg({'num_of_participants':'count', \n",
        "                          'issuehelp_ttl':'mean', \n",
        "                          'cdrugprob_ttl':'mean', \n",
        "                          'trust_avg':'mean', \n",
        "                          'attdruguse_avg':'mean', \n",
        "                          'stigma_avg':'mean', \n",
        "                          'alienation_avg':'mean', \n",
        "                          'deval_avg':'mean', \n",
        "                          'pwudserv_avg':'mean', \n",
        "                          'pwudrecovery_avg':'mean'})[col_name].values.tolist(), \n",
        "              name=col_name,\n",
        "              visible = False\n",
        "              )\n",
        "          )\n",
        "    \n",
        "  for i, column in enumerate(trend.set_index('year').columns): # set index so that they don't display\n",
        "    args = [False] * len(trend.set_index('year').columns)\n",
        "    args[i] = True\n",
        "\n",
        "    button4 = dict(label = column,\n",
        "                    method = \"update\",\n",
        "                    args=[{\"visible\": args},\n",
        "                          {\"annotations\": list(d4.values())[i]}])\n",
        "    buttons4.append(button4)\n",
        "\n",
        "\n",
        "  fig4.update_layout(\n",
        "      updatemenus=[dict(active=0,\n",
        "                        type=\"dropdown\",\n",
        "                      buttons=buttons4,\n",
        "                      x = 1,\n",
        "                      y = 1.1,\n",
        "                      xanchor = 'right',\n",
        "                      yanchor = 'bottom'\n",
        "                  )], \n",
        "      margin=dict(l=20, r=20, t=60, b=20),#setup the margin\n",
        "      paper_bgcolor=\"aliceblue\", #setup the background color\n",
        "      title_text=\"Yearly Trend (does not change with the year filter)\",\n",
        "      title_x=0.5,\n",
        "      showlegend=False,\n",
        "      title_font_size=22)\n",
        "\n",
        "  fig4.show()\n",
        "\n",
        "  return fig4\n",
        "\n",
        "### table\n",
        "@app.callback(\n",
        "    Output(\"tbl\", \"data\"),\n",
        "    [Input(\"year-filter\", \"value\")])#the input is the year-filter\n",
        "    #Input(\"state-filter\", \"value\")]) # does not need state-filter\n",
        "\n",
        "def display_table(year):\n",
        "  filtered_data = num\n",
        "\n",
        "  if year == ['all_year']:\n",
        "    filtered_data = num\n",
        "  else:\n",
        "    filtered_data = num[num[\"year\"].isin(year)]\n",
        "\n",
        "  col_name = ['cdrugprob','ctool','trust', 'worry', 'althiv','cedr','com.*up','self','cabsat','cabactivity', '\\Ace_','Stigma','Alienation','deval','pwudserv','pwudrecovery','cad_']\n",
        "  return reliability_tbl(filtered_data).to_dict(\"records\")\n",
        "\n",
        "if __name__ =='__main__':\n",
        "  app.run_server(mode = 'external')"
      ],
      "metadata": {
        "id": "nKrCXtZxXVcD",
        "colab": {
          "base_uri": "https://localhost:8080/",
          "height": 52
        },
        "outputId": "6a816c23-1652-4dc7-c430-2c50af83d34a"
      },
      "execution_count": null,
      "outputs": [
        {
          "output_type": "stream",
          "name": "stdout",
          "text": [
            "Dash app running on:\n"
          ]
        },
        {
          "output_type": "display_data",
          "data": {
            "text/plain": [
              "<IPython.core.display.Javascript object>"
            ],
            "application/javascript": [
              "(async (port, path, text, element) => {\n",
              "    if (!google.colab.kernel.accessAllowed) {\n",
              "      return;\n",
              "    }\n",
              "    element.appendChild(document.createTextNode(''));\n",
              "    const url = await google.colab.kernel.proxyPort(port);\n",
              "    const anchor = document.createElement('a');\n",
              "    anchor.href = new URL(path, url).toString();\n",
              "    anchor.target = '_blank';\n",
              "    anchor.setAttribute('data-href', url + path);\n",
              "    anchor.textContent = text;\n",
              "    element.appendChild(anchor);\n",
              "  })(8050, \"/\", \"http://127.0.0.1:8050/\", window.element)"
            ]
          },
          "metadata": {}
        }
      ]
    }
  ]
}